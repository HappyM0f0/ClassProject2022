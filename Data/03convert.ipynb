{
 "cells": [
  {
   "cell_type": "code",
   "execution_count": 22,
   "metadata": {},
   "outputs": [],
   "source": [
    "import csv\n",
    "import pandas as pd"
   ]
  },
  {
   "cell_type": "code",
   "execution_count": 23,
   "metadata": {},
   "outputs": [
    {
     "data": {
      "text/html": [
       "<div>\n",
       "<style scoped>\n",
       "    .dataframe tbody tr th:only-of-type {\n",
       "        vertical-align: middle;\n",
       "    }\n",
       "\n",
       "    .dataframe tbody tr th {\n",
       "        vertical-align: top;\n",
       "    }\n",
       "\n",
       "    .dataframe thead th {\n",
       "        text-align: right;\n",
       "    }\n",
       "</style>\n",
       "<table border=\"1\" class=\"dataframe\">\n",
       "  <thead>\n",
       "    <tr style=\"text-align: right;\">\n",
       "      <th></th>\n",
       "      <th>City</th>\n",
       "      <th>State</th>\n",
       "      <th>Quantity_Score</th>\n",
       "      <th>Business_Score</th>\n",
       "      <th>Cost_Of_Living_Index</th>\n",
       "      <th>Bucket</th>\n",
       "    </tr>\n",
       "  </thead>\n",
       "  <tbody>\n",
       "    <tr>\n",
       "      <th>0</th>\n",
       "      <td>Charleston</td>\n",
       "      <td>South Carolina</td>\n",
       "      <td>0.28</td>\n",
       "      <td>1.62</td>\n",
       "      <td>83.9</td>\n",
       "      <td>1</td>\n",
       "    </tr>\n",
       "    <tr>\n",
       "      <th>1</th>\n",
       "      <td>Danville</td>\n",
       "      <td>Illinois</td>\n",
       "      <td>0.02</td>\n",
       "      <td>0.26</td>\n",
       "      <td>83.9</td>\n",
       "      <td>1</td>\n",
       "    </tr>\n",
       "    <tr>\n",
       "      <th>2</th>\n",
       "      <td>Richmond</td>\n",
       "      <td>Kentucky</td>\n",
       "      <td>0.33</td>\n",
       "      <td>1.95</td>\n",
       "      <td>84.2</td>\n",
       "      <td>1</td>\n",
       "    </tr>\n",
       "    <tr>\n",
       "      <th>3</th>\n",
       "      <td>Huntington</td>\n",
       "      <td>New York</td>\n",
       "      <td>0.07</td>\n",
       "      <td>0.44</td>\n",
       "      <td>84.3</td>\n",
       "      <td>1</td>\n",
       "    </tr>\n",
       "    <tr>\n",
       "      <th>4</th>\n",
       "      <td>Portsmouth</td>\n",
       "      <td>New Hampshire</td>\n",
       "      <td>0.05</td>\n",
       "      <td>0.39</td>\n",
       "      <td>84.7</td>\n",
       "      <td>1</td>\n",
       "    </tr>\n",
       "  </tbody>\n",
       "</table>\n",
       "</div>"
      ],
      "text/plain": [
       "         City           State  Quantity_Score  Business_Score  \\\n",
       "0  Charleston  South Carolina            0.28            1.62   \n",
       "1    Danville        Illinois            0.02            0.26   \n",
       "2    Richmond        Kentucky            0.33            1.95   \n",
       "3  Huntington        New York            0.07            0.44   \n",
       "4  Portsmouth   New Hampshire            0.05            0.39   \n",
       "\n",
       "   Cost_Of_Living_Index  Bucket  \n",
       "0                  83.9       1  \n",
       "1                  83.9       1  \n",
       "2                  84.2       1  \n",
       "3                  84.3       1  \n",
       "4                  84.7       1  "
      ]
     },
     "execution_count": 23,
     "metadata": {},
     "output_type": "execute_result"
    }
   ],
   "source": [
    "df = pd.read_csv(\"data_states.csv\" , index_col=False , encoding = 'utf-8')\n",
    "df.drop(labels=\"Unnamed: 0\",axis=1,inplace=True)\n",
    "df.rename(columns={\"city\":\"City\",\"quantity score\":\"Quantity_Score\", \"business score\":\"Business_Score\",\"Cost of Living Index\":\"Cost_Of_Living_Index\"},inplace=True)\n",
    "df.head()"
   ]
  },
  {
   "cell_type": "code",
   "execution_count": 24,
   "metadata": {},
   "outputs": [],
   "source": [
    "j_df = df.to_json(orient = 'records')"
   ]
  },
  {
   "cell_type": "code",
   "execution_count": 25,
   "metadata": {},
   "outputs": [
    {
     "data": {
      "text/plain": [
       "'[{\"City\":\"Charleston\",\"State\":\"South Carolina\",\"Quantity_Score\":0.28,\"Business_Score\":1.62,\"Cost_Of_Living_Index\":83.9,\"Bucket\":1},{\"City\":\"Danville\",\"State\":\"Illinois\",\"Quantity_Score\":0.02,\"Business_Score\":0.26,\"Cost_Of_Living_Index\":83.9,\"Bucket\":1},{\"City\":\"Richmond\",\"State\":\"Kentucky\",\"Quantity_Score\":0.33,\"Business_Score\":1.95,\"Cost_Of_Living_Index\":84.2,\"Bucket\":1},{\"City\":\"Huntington\",\"State\":\"New York\",\"Quantity_Score\":0.07,\"Business_Score\":0.44,\"Cost_Of_Living_Index\":84.3,\"Bucket\":1},{\"City\":\"Portsmouth\",\"State\":\"New Hampshire\",\"Quantity_Score\":0.05,\"Business_Score\":0.39,\"Cost_Of_Living_Index\":84.7,\"Bucket\":1},{\"City\":\"Joplin\",\"State\":\"Missouri\",\"Quantity_Score\":0.01,\"Business_Score\":0.17,\"Cost_Of_Living_Index\":85.2,\"Bucket\":1},{\"City\":\"Topeka\",\"State\":\"Kansas\",\"Quantity_Score\":0.02,\"Business_Score\":0.17,\"Cost_Of_Living_Index\":85.6,\"Bucket\":1},{\"City\":\"Flint\",\"State\":\"Michigan\",\"Quantity_Score\":0.02,\"Business_Score\":0.14,\"Cost_Of_Living_Index\":85.7,\"Bucket\":1},{\"City\":\"Shreveport\",\"State\":\"Louisiana\",\"Quantity_Score\":0.02,\"Business_Score\":0.15,\"Cost_Of_Living_Index\":85.8,\"Bucket\":1},{\"City\":\"Roswell\",\"State\":\"Georgia\",\"Quantity_Score\":0.05,\"Business_Score\":0.3,\"Cost_Of_Living_Index\":86.3,\"Bucket\":1},{\"City\":\"Monroe\",\"State\":\"Washington\",\"Quantity_Score\":0.01,\"Business_Score\":0.13,\"Cost_Of_Living_Index\":86.5,\"Bucket\":1},{\"City\":\"Tulsa\",\"State\":\"Oklahoma\",\"Quantity_Score\":0.1,\"Business_Score\":0.53,\"Cost_Of_Living_Index\":86.7,\"Bucket\":1},{\"City\":\"Peoria\",\"State\":\"Arizona\",\"Quantity_Score\":0.01,\"Business_Score\":0.15,\"Cost_Of_Living_Index\":86.7,\"Bucket\":1},{\"City\":\"Wichita\",\"State\":\"Kansas\",\"Quantity_Score\":0.11,\"Business_Score\":0.58,\"Cost_Of_Living_Index\":86.8,\"Bucket\":1},{\"City\":\"Fort Wayne\",\"State\":\"Indiana\",\"Quantity_Score\":0.02,\"Business_Score\":0.16,\"Cost_Of_Living_Index\":86.8,\"Bucket\":1},{\"City\":\"Gulfport\",\"State\":\"Mississippi\",\"Quantity_Score\":0.01,\"Business_Score\":0.1,\"Cost_Of_Living_Index\":86.8,\"Bucket\":1},{\"City\":\"Midland\",\"State\":\"Texas\",\"Quantity_Score\":0.03,\"Business_Score\":0.42,\"Cost_Of_Living_Index\":87.0,\"Bucket\":1},{\"City\":\"Bowling Green\",\"State\":\"Ohio\",\"Quantity_Score\":0.01,\"Business_Score\":0.12,\"Cost_Of_Living_Index\":87.0,\"Bucket\":1},{\"City\":\"South Bend\",\"State\":\"Indiana\",\"Quantity_Score\":0.06,\"Business_Score\":0.32,\"Cost_Of_Living_Index\":87.2,\"Bucket\":1},{\"City\":\"Oklahoma City\",\"State\":\"Oklahoma\",\"Quantity_Score\":0.23,\"Business_Score\":1.31,\"Cost_Of_Living_Index\":87.3,\"Bucket\":1},{\"City\":\"Albany\",\"State\":\"New York\",\"Quantity_Score\":0.12,\"Business_Score\":1.09,\"Cost_Of_Living_Index\":87.3,\"Bucket\":1},{\"City\":\"Morristown\",\"State\":\"New Jersey\",\"Quantity_Score\":0.1,\"Business_Score\":0.61,\"Cost_Of_Living_Index\":87.3,\"Bucket\":1},{\"City\":\"Jackson\",\"State\":\"Michigan\",\"Quantity_Score\":0.07,\"Business_Score\":0.46,\"Cost_Of_Living_Index\":87.4,\"Bucket\":1},{\"City\":\"Springfield\",\"State\":\"Massachusetts\",\"Quantity_Score\":0.09,\"Business_Score\":0.67,\"Cost_Of_Living_Index\":87.5,\"Bucket\":1},{\"City\":\"Toledo\",\"State\":\"Ohio\",\"Quantity_Score\":0.02,\"Business_Score\":0.17,\"Cost_Of_Living_Index\":87.5,\"Bucket\":1},{\"City\":\"Michigan City\",\"State\":\"Indiana\",\"Quantity_Score\":0.05,\"Business_Score\":0.3,\"Cost_Of_Living_Index\":87.8,\"Bucket\":1},{\"City\":\"Little Rock\",\"State\":\"Arkansas\",\"Quantity_Score\":0.17,\"Business_Score\":1.08,\"Cost_Of_Living_Index\":88.0,\"Bucket\":1},{\"City\":\"Cedar Rapids\",\"State\":\"Iowa\",\"Quantity_Score\":0.05,\"Business_Score\":0.29,\"Cost_Of_Living_Index\":88.1,\"Bucket\":1},{\"City\":\"Memphis\",\"State\":\"Tennessee\",\"Quantity_Score\":0.16,\"Business_Score\":0.9,\"Cost_Of_Living_Index\":88.2,\"Bucket\":1},{\"City\":\"Canton\",\"State\":\"Georgia\",\"Quantity_Score\":0.02,\"Business_Score\":0.18,\"Cost_Of_Living_Index\":88.2,\"Bucket\":1},{\"City\":\"Mobile\",\"State\":\"Alabama\",\"Quantity_Score\":0.03,\"Business_Score\":0.19,\"Cost_Of_Living_Index\":88.3,\"Bucket\":1},{\"City\":\"Dayton\",\"State\":\"Ohio\",\"Quantity_Score\":0.11,\"Business_Score\":0.57,\"Cost_Of_Living_Index\":88.4,\"Bucket\":1},{\"City\":\"Columbus\",\"State\":\"Georgia\",\"Quantity_Score\":0.76,\"Business_Score\":3.8,\"Cost_Of_Living_Index\":88.5,\"Bucket\":1},{\"City\":\"Athens\",\"State\":\"Georgia\",\"Quantity_Score\":0.02,\"Business_Score\":0.17,\"Cost_Of_Living_Index\":88.5,\"Bucket\":1},{\"City\":\"Montgomery\",\"State\":\"Alabama\",\"Quantity_Score\":0.01,\"Business_Score\":0.13,\"Cost_Of_Living_Index\":88.5,\"Bucket\":1},{\"City\":\"El Paso\",\"State\":\"Texas\",\"Quantity_Score\":0.03,\"Business_Score\":0.16,\"Cost_Of_Living_Index\":88.6,\"Bucket\":1},{\"City\":\"Lansing\",\"State\":\"Michigan\",\"Quantity_Score\":0.05,\"Business_Score\":0.33,\"Cost_Of_Living_Index\":88.7,\"Bucket\":1},{\"City\":\"Lubbock\",\"State\":\"Texas\",\"Quantity_Score\":0.02,\"Business_Score\":0.16,\"Cost_Of_Living_Index\":88.8,\"Bucket\":1},{\"City\":\"Las Cruces\",\"State\":\"New Mexico\",\"Quantity_Score\":0.01,\"Business_Score\":0.15,\"Cost_Of_Living_Index\":88.8,\"Bucket\":1},{\"City\":\"Champaign\",\"State\":\"Illinois\",\"Quantity_Score\":0.04,\"Business_Score\":0.27,\"Cost_Of_Living_Index\":89.0,\"Bucket\":1},{\"City\":\"Kalamazoo\",\"State\":\"Michigan\",\"Quantity_Score\":0.01,\"Business_Score\":0.17,\"Cost_Of_Living_Index\":89.3,\"Bucket\":1},{\"City\":\"Akron\",\"State\":\"Ohio\",\"Quantity_Score\":0.05,\"Business_Score\":0.35,\"Cost_Of_Living_Index\":89.4,\"Bucket\":1},{\"City\":\"Cleveland\",\"State\":\"Ohio\",\"Quantity_Score\":0.51,\"Business_Score\":3.18,\"Cost_Of_Living_Index\":89.5,\"Bucket\":1},{\"City\":\"Fayetteville\",\"State\":\"Georgia\",\"Quantity_Score\":0.1,\"Business_Score\":0.68,\"Cost_Of_Living_Index\":89.5,\"Bucket\":1},{\"City\":\"St. Louis\",\"State\":\"Missouri\",\"Quantity_Score\":0.46,\"Business_Score\":3.36,\"Cost_Of_Living_Index\":89.6,\"Bucket\":1},{\"City\":\"Lafayette\",\"State\":\"Louisiana\",\"Quantity_Score\":0.18,\"Business_Score\":1.46,\"Cost_Of_Living_Index\":89.6,\"Bucket\":1},{\"City\":\"Columbia\",\"State\":\"Maryland\",\"Quantity_Score\":0.23,\"Business_Score\":3.8,\"Cost_Of_Living_Index\":89.8,\"Bucket\":1},{\"City\":\"Greenville\",\"State\":\"Texas\",\"Quantity_Score\":0.12,\"Business_Score\":0.68,\"Cost_Of_Living_Index\":89.8,\"Bucket\":1},{\"City\":\"Janesville\",\"State\":\"Wisconsin\",\"Quantity_Score\":0.01,\"Business_Score\":0.14,\"Cost_Of_Living_Index\":89.8,\"Bucket\":1},{\"City\":\"Indianapolis\",\"State\":\"Indiana\",\"Quantity_Score\":0.52,\"Business_Score\":3.8,\"Cost_Of_Living_Index\":90.2,\"Bucket\":1},{\"City\":\"Appleton\",\"State\":\"Wisconsin\",\"Quantity_Score\":0.02,\"Business_Score\":0.17,\"Cost_Of_Living_Index\":90.7,\"Bucket\":1},{\"City\":\"Grand Forks\",\"State\":\"North Dakota\",\"Quantity_Score\":0.02,\"Business_Score\":0.15,\"Cost_Of_Living_Index\":90.7,\"Bucket\":1},{\"City\":\"Greensboro\",\"State\":\"North Carolina\",\"Quantity_Score\":0.04,\"Business_Score\":0.35,\"Cost_Of_Living_Index\":91.0,\"Bucket\":1},{\"City\":\"Lexington\",\"State\":\"Kentucky\",\"Quantity_Score\":0.18,\"Business_Score\":2.52,\"Cost_Of_Living_Index\":91.1,\"Bucket\":1},{\"City\":\"Baton Rouge\",\"State\":\"Louisiana\",\"Quantity_Score\":0.04,\"Business_Score\":0.29,\"Cost_Of_Living_Index\":91.1,\"Bucket\":1},{\"City\":\"Great Falls\",\"State\":\"Montana\",\"Quantity_Score\":0.01,\"Business_Score\":0.12,\"Cost_Of_Living_Index\":91.1,\"Bucket\":1},{\"City\":\"Chattanooga\",\"State\":\"Tennessee\",\"Quantity_Score\":0.23,\"Business_Score\":1.34,\"Cost_Of_Living_Index\":91.2,\"Bucket\":1},{\"City\":\"Winston-Salem\",\"State\":\"North Carolina\",\"Quantity_Score\":0.08,\"Business_Score\":0.5,\"Cost_Of_Living_Index\":91.2,\"Bucket\":1},{\"City\":\"Scranton\",\"State\":\"Pennsylvania\",\"Quantity_Score\":0.02,\"Business_Score\":0.19,\"Cost_Of_Living_Index\":91.3,\"Bucket\":1},{\"City\":\"Huntsville\",\"State\":\"Alabama\",\"Quantity_Score\":0.02,\"Business_Score\":0.15,\"Cost_Of_Living_Index\":91.3,\"Bucket\":1},{\"City\":\"Fargo\",\"State\":\"North Dakota\",\"Quantity_Score\":0.02,\"Business_Score\":0.23,\"Cost_Of_Living_Index\":91.4,\"Bucket\":1},{\"City\":\"Green Bay\",\"State\":\"Wisconsin\",\"Quantity_Score\":0.03,\"Business_Score\":0.21,\"Cost_Of_Living_Index\":91.4,\"Bucket\":1},{\"City\":\"Ames\",\"State\":\"Iowa\",\"Quantity_Score\":0.03,\"Business_Score\":0.25,\"Cost_Of_Living_Index\":91.5,\"Bucket\":1},{\"City\":\"Kansas City\",\"State\":\"Kansas\",\"Quantity_Score\":0.59,\"Business_Score\":3.8,\"Cost_Of_Living_Index\":91.6,\"Bucket\":1},{\"City\":\"Louisville\",\"State\":\"Colorado\",\"Quantity_Score\":0.27,\"Business_Score\":2.7,\"Cost_Of_Living_Index\":91.6,\"Bucket\":1},{\"City\":\"Knoxville\",\"State\":\"Tennessee\",\"Quantity_Score\":0.11,\"Business_Score\":0.76,\"Cost_Of_Living_Index\":91.6,\"Bucket\":1},{\"City\":\"Lawrence\",\"State\":\"Massachusetts\",\"Quantity_Score\":0.01,\"Business_Score\":0.16,\"Cost_Of_Living_Index\":91.6,\"Bucket\":1},{\"City\":\"Augusta\",\"State\":\"Georgia\",\"Quantity_Score\":0.02,\"Business_Score\":0.14,\"Cost_Of_Living_Index\":91.6,\"Bucket\":1},{\"City\":\"Des Moines\",\"State\":\"Iowa\",\"Quantity_Score\":0.17,\"Business_Score\":0.9,\"Cost_Of_Living_Index\":91.7,\"Bucket\":1},{\"City\":\"Idaho Falls\",\"State\":\"Idaho\",\"Quantity_Score\":0.02,\"Business_Score\":0.17,\"Cost_Of_Living_Index\":91.7,\"Bucket\":1},{\"City\":\"Burlington\",\"State\":\"Kentucky\",\"Quantity_Score\":0.26,\"Business_Score\":3.8,\"Cost_Of_Living_Index\":91.8,\"Bucket\":1},{\"City\":\"Erie\",\"State\":\"Colorado\",\"Quantity_Score\":0.03,\"Business_Score\":0.21,\"Cost_Of_Living_Index\":91.8,\"Bucket\":1},{\"City\":\"College Station\",\"State\":\"Texas\",\"Quantity_Score\":0.04,\"Business_Score\":0.26,\"Cost_Of_Living_Index\":92.3,\"Bucket\":1},{\"City\":\"Cincinnati\",\"State\":\"Ohio\",\"Quantity_Score\":0.5,\"Business_Score\":3.8,\"Cost_Of_Living_Index\":92.4,\"Bucket\":1},{\"City\":\"New Orleans\",\"State\":\"Louisiana\",\"Quantity_Score\":0.35,\"Business_Score\":3.8,\"Cost_Of_Living_Index\":92.4,\"Bucket\":1},{\"City\":\"Bloomington\",\"State\":\"Indiana\",\"Quantity_Score\":0.07,\"Business_Score\":0.77,\"Cost_Of_Living_Index\":92.4,\"Bucket\":1},{\"City\":\"San Antonio\",\"State\":\"Texas\",\"Quantity_Score\":0.48,\"Business_Score\":3.8,\"Cost_Of_Living_Index\":92.7,\"Bucket\":1},{\"City\":\"Sioux Falls\",\"State\":\"South Dakota\",\"Quantity_Score\":0.04,\"Business_Score\":0.33,\"Cost_Of_Living_Index\":92.8,\"Bucket\":1},{\"City\":\"Tyler\",\"State\":\"Texas\",\"Quantity_Score\":0.03,\"Business_Score\":0.22,\"Cost_Of_Living_Index\":92.8,\"Bucket\":1},{\"City\":\"Albuquerque\",\"State\":\"New Mexico\",\"Quantity_Score\":0.2,\"Business_Score\":3.58,\"Cost_Of_Living_Index\":92.9,\"Bucket\":1},{\"City\":\"Omaha\",\"State\":\"Nebraska\",\"Quantity_Score\":0.22,\"Business_Score\":2.04,\"Cost_Of_Living_Index\":92.9,\"Bucket\":1},{\"City\":\"Pittsburgh\",\"State\":\"Pennsylvania\",\"Quantity_Score\":0.88,\"Business_Score\":3.8,\"Cost_Of_Living_Index\":93.1,\"Bucket\":1},{\"City\":\"Detroit\",\"State\":\"Michigan\",\"Quantity_Score\":1.19,\"Business_Score\":3.8,\"Cost_Of_Living_Index\":93.2,\"Bucket\":1},{\"City\":\"Duluth\",\"State\":\"Minnesota\",\"Quantity_Score\":0.04,\"Business_Score\":0.27,\"Cost_Of_Living_Index\":93.2,\"Bucket\":1},{\"City\":\"Corpus Christi\",\"State\":\"Texas\",\"Quantity_Score\":0.01,\"Business_Score\":0.19,\"Cost_Of_Living_Index\":93.3,\"Bucket\":1},{\"City\":\"Binghamton\",\"State\":\"New York\",\"Quantity_Score\":0.01,\"Business_Score\":0.14,\"Cost_Of_Living_Index\":93.3,\"Bucket\":1},{\"City\":\"Iowa City\",\"State\":\"Iowa\",\"Quantity_Score\":0.05,\"Business_Score\":0.4,\"Cost_Of_Living_Index\":93.5,\"Bucket\":1},{\"City\":\"Lynchburg\",\"State\":\"Virginia\",\"Quantity_Score\":0.01,\"Business_Score\":0.1,\"Cost_Of_Living_Index\":93.6,\"Bucket\":1},{\"City\":\"Grand Rapids\",\"State\":\"Michigan\",\"Quantity_Score\":0.21,\"Business_Score\":1.15,\"Cost_Of_Living_Index\":93.7,\"Bucket\":1},{\"City\":\"Auburn\",\"State\":\"Massachusetts\",\"Quantity_Score\":0.01,\"Business_Score\":0.13,\"Cost_Of_Living_Index\":93.7,\"Bucket\":1},{\"City\":\"Milwaukee\",\"State\":\"Wisconsin\",\"Quantity_Score\":0.4,\"Business_Score\":2.37,\"Cost_Of_Living_Index\":93.8,\"Bucket\":1},{\"City\":\"Roanoke\",\"State\":\"Virginia\",\"Quantity_Score\":0.01,\"Business_Score\":0.14,\"Cost_Of_Living_Index\":94.1,\"Bucket\":1},{\"City\":\"Brunswick\",\"State\":\"Georgia\",\"Quantity_Score\":0.02,\"Business_Score\":0.19,\"Cost_Of_Living_Index\":94.4,\"Bucket\":1},{\"City\":\"Blacksburg\",\"State\":\"Virginia\",\"Quantity_Score\":0.03,\"Business_Score\":0.25,\"Cost_Of_Living_Index\":94.5,\"Bucket\":1},{\"City\":\"Ocala\",\"State\":\"Florida\",\"Quantity_Score\":0.02,\"Business_Score\":0.17,\"Cost_Of_Living_Index\":94.5,\"Bucket\":1},{\"City\":\"Lincoln\",\"State\":\"Nebraska\",\"Quantity_Score\":0.11,\"Business_Score\":0.81,\"Cost_Of_Living_Index\":94.7,\"Bucket\":1},{\"City\":\"Myrtle Beach\",\"State\":\"South Carolina\",\"Quantity_Score\":0.02,\"Business_Score\":0.21,\"Cost_Of_Living_Index\":94.7,\"Bucket\":1},{\"City\":\"Syracuse\",\"State\":\"New York\",\"Quantity_Score\":0.14,\"Business_Score\":0.67,\"Cost_Of_Living_Index\":95.1,\"Bucket\":1},{\"City\":\"Lebanon\",\"State\":\"Tennessee\",\"Quantity_Score\":0.01,\"Business_Score\":0.26,\"Cost_Of_Living_Index\":95.4,\"Bucket\":1},{\"City\":\"Harrisonburg\",\"State\":\"Virginia\",\"Quantity_Score\":0.02,\"Business_Score\":0.41,\"Cost_Of_Living_Index\":95.5,\"Bucket\":1},{\"City\":\"Billings\",\"State\":\"Montana\",\"Quantity_Score\":0.02,\"Business_Score\":0.15,\"Cost_Of_Living_Index\":95.7,\"Bucket\":1},{\"City\":\"Houston\",\"State\":\"Texas\",\"Quantity_Score\":1.34,\"Business_Score\":3.8,\"Cost_Of_Living_Index\":95.8,\"Bucket\":1},{\"City\":\"Harrisburg\",\"State\":\"Pennsylvania\",\"Quantity_Score\":0.06,\"Business_Score\":0.36,\"Cost_Of_Living_Index\":95.8,\"Bucket\":1},{\"City\":\"Reading\",\"State\":\"Massachusetts\",\"Quantity_Score\":0.03,\"Business_Score\":0.16,\"Cost_Of_Living_Index\":96.0,\"Bucket\":1},{\"City\":\"Lakeland\",\"State\":\"Florida\",\"Quantity_Score\":0.02,\"Business_Score\":0.24,\"Cost_Of_Living_Index\":96.4,\"Bucket\":1},{\"City\":\"Tallahassee\",\"State\":\"Florida\",\"Quantity_Score\":0.03,\"Business_Score\":0.22,\"Cost_Of_Living_Index\":96.4,\"Bucket\":1},{\"City\":\"Cheyenne\",\"State\":\"Wyoming\",\"Quantity_Score\":0.04,\"Business_Score\":0.38,\"Cost_Of_Living_Index\":96.9,\"Bucket\":1},{\"City\":\"Winchester\",\"State\":\"Kentucky\",\"Quantity_Score\":0.01,\"Business_Score\":0.12,\"Cost_Of_Living_Index\":97.2,\"Bucket\":1},{\"City\":\"Buffalo\",\"State\":\"Minnesota\",\"Quantity_Score\":0.2,\"Business_Score\":3.28,\"Cost_Of_Living_Index\":97.3,\"Bucket\":1},{\"City\":\"Rochester\",\"State\":\"New York\",\"Quantity_Score\":0.16,\"Business_Score\":1.31,\"Cost_Of_Living_Index\":97.3,\"Bucket\":1},{\"City\":\"Savannah\",\"State\":\"Georgia\",\"Quantity_Score\":0.1,\"Business_Score\":0.5,\"Cost_Of_Living_Index\":97.3,\"Bucket\":1},{\"City\":\"Gainesville\",\"State\":\"Texas\",\"Quantity_Score\":0.07,\"Business_Score\":0.5,\"Cost_Of_Living_Index\":97.3,\"Bucket\":1},{\"City\":\"Tucson\",\"State\":\"Arizona\",\"Quantity_Score\":0.19,\"Business_Score\":1.17,\"Cost_Of_Living_Index\":97.7,\"Bucket\":1},{\"City\":\"Whitewater\",\"State\":\"Wisconsin\",\"Quantity_Score\":0.03,\"Business_Score\":0.18,\"Cost_Of_Living_Index\":97.7,\"Bucket\":1},{\"City\":\"Charlotte\",\"State\":\"North Carolina\",\"Quantity_Score\":0.82,\"Business_Score\":3.8,\"Cost_Of_Living_Index\":97.9,\"Bucket\":1},{\"City\":\"Pensacola\",\"State\":\"Florida\",\"Quantity_Score\":0.04,\"Business_Score\":0.28,\"Cost_Of_Living_Index\":97.9,\"Bucket\":1},{\"City\":\"Bangor\",\"State\":\"Maine\",\"Quantity_Score\":0.02,\"Business_Score\":0.13,\"Cost_Of_Living_Index\":98.0,\"Bucket\":1},{\"City\":\"Grand Junction\",\"State\":\"Colorado\",\"Quantity_Score\":0.02,\"Business_Score\":0.23,\"Cost_Of_Living_Index\":98.1,\"Bucket\":1},{\"City\":\"Dallas\",\"State\":\"Texas\",\"Quantity_Score\":2.9,\"Business_Score\":3.8,\"Cost_Of_Living_Index\":98.5,\"Bucket\":1},{\"City\":\"Allentown\",\"State\":\"Pennsylvania\",\"Quantity_Score\":0.02,\"Business_Score\":0.19,\"Cost_Of_Living_Index\":98.9,\"Bucket\":1},{\"City\":\"Wilmington\",\"State\":\"North Carolina\",\"Quantity_Score\":0.31,\"Business_Score\":3.8,\"Cost_Of_Living_Index\":99.0,\"Bucket\":1},{\"City\":\"Jacksonville\",\"State\":\"Arkansas\",\"Quantity_Score\":0.3,\"Business_Score\":2.3,\"Cost_Of_Living_Index\":99.0,\"Bucket\":1},{\"City\":\"Virginia Beach\",\"State\":\"Virginia\",\"Quantity_Score\":0.2,\"Business_Score\":0.98,\"Cost_Of_Living_Index\":99.0,\"Bucket\":1},{\"City\":\"Madison\",\"State\":\"New Jersey\",\"Quantity_Score\":0.69,\"Business_Score\":3.8,\"Cost_Of_Living_Index\":99.5,\"Bucket\":1},{\"City\":\"Lancaster\",\"State\":\"Ohio\",\"Quantity_Score\":0.03,\"Business_Score\":0.33,\"Cost_Of_Living_Index\":99.5,\"Bucket\":1},{\"City\":\"Traverse City\",\"State\":\"Michigan\",\"Quantity_Score\":0.06,\"Business_Score\":0.35,\"Cost_Of_Living_Index\":99.6,\"Bucket\":1},{\"City\":\"Raleigh\",\"State\":\"North Carolina\",\"Quantity_Score\":1.09,\"Business_Score\":3.58,\"Cost_Of_Living_Index\":99.7,\"Bucket\":1},{\"City\":\"State College\",\"State\":\"Pennsylvania\",\"Quantity_Score\":0.04,\"Business_Score\":0.28,\"Cost_Of_Living_Index\":99.8,\"Bucket\":1},{\"City\":\"Chicago\",\"State\":\"Illinois\",\"Quantity_Score\":4.37,\"Business_Score\":3.8,\"Cost_Of_Living_Index\":100.1,\"Bucket\":2},{\"City\":\"Nashville\",\"State\":\"Tennessee\",\"Quantity_Score\":0.76,\"Business_Score\":3.8,\"Cost_Of_Living_Index\":100.1,\"Bucket\":2},{\"City\":\"Atlanta\",\"State\":\"Georgia\",\"Quantity_Score\":2.59,\"Business_Score\":3.8,\"Cost_Of_Living_Index\":100.3,\"Bucket\":2},{\"City\":\"Spokane\",\"State\":\"Washington\",\"Quantity_Score\":0.1,\"Business_Score\":0.64,\"Cost_Of_Living_Index\":100.4,\"Bucket\":2},{\"City\":\"Las Vegas\",\"State\":\"Nevada\",\"Quantity_Score\":1.01,\"Business_Score\":3.8,\"Cost_Of_Living_Index\":100.7,\"Bucket\":2},{\"City\":\"Provo\",\"State\":\"Utah\",\"Quantity_Score\":0.42,\"Business_Score\":3.8,\"Cost_Of_Living_Index\":100.9,\"Bucket\":2},{\"City\":\"Dover\",\"State\":\"Delaware\",\"Quantity_Score\":0.08,\"Business_Score\":0.76,\"Cost_Of_Living_Index\":101.3,\"Bucket\":2},{\"City\":\"Tampa\",\"State\":\"Florida\",\"Quantity_Score\":0.83,\"Business_Score\":3.8,\"Cost_Of_Living_Index\":101.4,\"Bucket\":2},{\"City\":\"Orlando\",\"State\":\"Florida\",\"Quantity_Score\":0.84,\"Business_Score\":3.8,\"Cost_Of_Living_Index\":101.4,\"Bucket\":2},{\"City\":\"Fort Myers\",\"State\":\"Florida\",\"Quantity_Score\":0.17,\"Business_Score\":0.98,\"Cost_Of_Living_Index\":101.5,\"Bucket\":2},{\"City\":\"Ithaca\",\"State\":\"New York\",\"Quantity_Score\":0.08,\"Business_Score\":0.5,\"Cost_Of_Living_Index\":101.7,\"Bucket\":2},{\"City\":\"Panama City\",\"State\":\"Florida\",\"Quantity_Score\":0.02,\"Business_Score\":0.19,\"Cost_Of_Living_Index\":101.9,\"Bucket\":2},{\"City\":\"Atlantic City\",\"State\":\"New Jersey\",\"Quantity_Score\":0.01,\"Business_Score\":0.14,\"Cost_Of_Living_Index\":102.0,\"Bucket\":2},{\"City\":\"Charlottesville\",\"State\":\"Virginia\",\"Quantity_Score\":0.04,\"Business_Score\":0.54,\"Cost_Of_Living_Index\":102.1,\"Bucket\":2},{\"City\":\"Colorado Springs\",\"State\":\"Colorado\",\"Quantity_Score\":0.21,\"Business_Score\":1.39,\"Cost_Of_Living_Index\":102.2,\"Bucket\":2},{\"City\":\"Bakersfield\",\"State\":\"California\",\"Quantity_Score\":0.02,\"Business_Score\":0.61,\"Cost_Of_Living_Index\":102.9,\"Bucket\":2},{\"City\":\"Carson City\",\"State\":\"Nevada\",\"Quantity_Score\":0.02,\"Business_Score\":0.31,\"Cost_Of_Living_Index\":103.0,\"Bucket\":2},{\"City\":\"Asheville\",\"State\":\"North Carolina\",\"Quantity_Score\":0.12,\"Business_Score\":0.64,\"Cost_Of_Living_Index\":103.3,\"Bucket\":2},{\"City\":\"Philadelphia\",\"State\":\"Pennsylvania\",\"Quantity_Score\":1.7,\"Business_Score\":3.8,\"Cost_Of_Living_Index\":103.4,\"Bucket\":2},{\"City\":\"Missoula\",\"State\":\"Montana\",\"Quantity_Score\":0.05,\"Business_Score\":0.43,\"Cost_Of_Living_Index\":103.4,\"Bucket\":2},{\"City\":\"Phoenix\",\"State\":\"Arizona\",\"Quantity_Score\":1.58,\"Business_Score\":3.8,\"Cost_Of_Living_Index\":104.3,\"Bucket\":2},{\"City\":\"Sarasota\",\"State\":\"Florida\",\"Quantity_Score\":0.19,\"Business_Score\":1.06,\"Cost_Of_Living_Index\":104.4,\"Bucket\":2},{\"City\":\"Hartford\",\"State\":\"Connecticut\",\"Quantity_Score\":0.22,\"Business_Score\":1.55,\"Cost_Of_Living_Index\":104.8,\"Bucket\":2},{\"City\":\"Santa Fe\",\"State\":\"New Mexico\",\"Quantity_Score\":0.06,\"Business_Score\":0.46,\"Cost_Of_Living_Index\":105.1,\"Bucket\":2},{\"City\":\"Minneapolis\",\"State\":\"Minnesota\",\"Quantity_Score\":1.12,\"Business_Score\":3.8,\"Cost_Of_Living_Index\":105.4,\"Bucket\":2},{\"City\":\"Salt Lake City\",\"State\":\"Utah\",\"Quantity_Score\":0.77,\"Business_Score\":3.19,\"Cost_Of_Living_Index\":105.9,\"Bucket\":2},{\"City\":\"Fresno\",\"State\":\"California\",\"Quantity_Score\":0.06,\"Business_Score\":1.28,\"Cost_Of_Living_Index\":105.9,\"Bucket\":2},{\"City\":\"Austin\",\"State\":\"Minnesota\",\"Quantity_Score\":3.2,\"Business_Score\":3.8,\"Cost_Of_Living_Index\":106.6,\"Bucket\":2},{\"City\":\"Baltimore\",\"State\":\"Maryland\",\"Quantity_Score\":0.92,\"Business_Score\":3.8,\"Cost_Of_Living_Index\":107.0,\"Bucket\":2},{\"City\":\"Reno\",\"State\":\"Nevada\",\"Quantity_Score\":0.18,\"Business_Score\":0.95,\"Cost_Of_Living_Index\":107.4,\"Bucket\":2},{\"City\":\"Medford\",\"State\":\"Oregon\",\"Quantity_Score\":0.02,\"Business_Score\":0.47,\"Cost_Of_Living_Index\":107.5,\"Bucket\":2},{\"City\":\"New Haven\",\"State\":\"Connecticut\",\"Quantity_Score\":0.16,\"Business_Score\":2.1,\"Cost_Of_Living_Index\":107.7,\"Bucket\":2},{\"City\":\"Concord\",\"State\":\"Missouri\",\"Quantity_Score\":0.04,\"Business_Score\":0.35,\"Cost_Of_Living_Index\":108.3,\"Bucket\":2},{\"City\":\"Eugene\",\"State\":\"Oregon\",\"Quantity_Score\":0.04,\"Business_Score\":0.37,\"Cost_Of_Living_Index\":108.4,\"Bucket\":2},{\"City\":\"Redding\",\"State\":\"California\",\"Quantity_Score\":0.02,\"Business_Score\":0.18,\"Cost_Of_Living_Index\":108.7,\"Bucket\":2},{\"City\":\"Fort Collins\",\"State\":\"Colorado\",\"Quantity_Score\":0.17,\"Business_Score\":1.43,\"Cost_Of_Living_Index\":109.2,\"Bucket\":2},{\"City\":\"Manchester\",\"State\":\"New Hampshire\",\"Quantity_Score\":0.05,\"Business_Score\":0.44,\"Cost_Of_Living_Index\":109.6,\"Bucket\":2},{\"City\":\"Shelton\",\"State\":\"Connecticut\",\"Quantity_Score\":0.01,\"Business_Score\":0.12,\"Cost_Of_Living_Index\":109.6,\"Bucket\":2},{\"City\":\"Miami\",\"State\":\"Florida\",\"Quantity_Score\":3.21,\"Business_Score\":3.8,\"Cost_Of_Living_Index\":110.1,\"Bucket\":2},{\"City\":\"Chico\",\"State\":\"California\",\"Quantity_Score\":0.03,\"Business_Score\":0.19,\"Cost_Of_Living_Index\":110.5,\"Bucket\":2},{\"City\":\"Corvallis\",\"State\":\"Oregon\",\"Quantity_Score\":0.09,\"Business_Score\":0.65,\"Cost_Of_Living_Index\":110.6,\"Bucket\":2},{\"City\":\"Anchorage\",\"State\":\"Alaska\",\"Quantity_Score\":0.08,\"Business_Score\":0.63,\"Cost_Of_Living_Index\":110.7,\"Bucket\":2},{\"City\":\"Providence\",\"State\":\"Rhode Island\",\"Quantity_Score\":0.21,\"Business_Score\":1.34,\"Cost_Of_Living_Index\":111.5,\"Bucket\":2},{\"City\":\"Bellingham\",\"State\":\"Washington\",\"Quantity_Score\":0.02,\"Business_Score\":0.14,\"Cost_Of_Living_Index\":111.6,\"Bucket\":2},{\"City\":\"Denver\",\"State\":\"Colorado\",\"Quantity_Score\":2.36,\"Business_Score\":3.8,\"Cost_Of_Living_Index\":112.1,\"Bucket\":2},{\"City\":\"Modesto\",\"State\":\"California\",\"Quantity_Score\":0.02,\"Business_Score\":0.16,\"Cost_Of_Living_Index\":112.3,\"Bucket\":2},{\"City\":\"Portland\",\"State\":\"Oregon\",\"Quantity_Score\":1.38,\"Business_Score\":3.8,\"Cost_Of_Living_Index\":113.0,\"Bucket\":2},{\"City\":\"Worcester\",\"State\":\"Massachusetts\",\"Quantity_Score\":0.06,\"Business_Score\":0.72,\"Cost_Of_Living_Index\":113.2,\"Bucket\":2},{\"City\":\"Stockton\",\"State\":\"California\",\"Quantity_Score\":0.02,\"Business_Score\":0.17,\"Cost_Of_Living_Index\":113.6,\"Bucket\":2},{\"City\":\"Bend\",\"State\":\"Oregon\",\"Quantity_Score\":0.1,\"Business_Score\":3.21,\"Cost_Of_Living_Index\":115.9,\"Bucket\":2},{\"City\":\"Boulder\",\"State\":\"Colorado\",\"Quantity_Score\":1.32,\"Business_Score\":3.8,\"Cost_Of_Living_Index\":118.7,\"Bucket\":2},{\"City\":\"Washington\",\"State\":\"Illinois\",\"Quantity_Score\":3.47,\"Business_Score\":3.8,\"Cost_Of_Living_Index\":120.1,\"Bucket\":3},{\"City\":\"Sacramento\",\"State\":\"California\",\"Quantity_Score\":0.5,\"Business_Score\":3.8,\"Cost_Of_Living_Index\":120.3,\"Bucket\":3},{\"City\":\"Seattle\",\"State\":\"Washington\",\"Quantity_Score\":3.49,\"Business_Score\":3.8,\"Cost_Of_Living_Index\":124.6,\"Bucket\":3},{\"City\":\"Bozeman\",\"State\":\"Montana\",\"Quantity_Score\":0.04,\"Business_Score\":0.28,\"Cost_Of_Living_Index\":125.3,\"Bucket\":3},{\"City\":\"New York\",\"State\":\"New York\",\"Quantity_Score\":11.43,\"Business_Score\":3.8,\"Cost_Of_Living_Index\":128.0,\"Bucket\":3},{\"City\":\"Boston\",\"State\":\"Massachusetts\",\"Quantity_Score\":5.5,\"Business_Score\":3.8,\"Cost_Of_Living_Index\":132.6,\"Bucket\":3},{\"City\":\"Truckee\",\"State\":\"California\",\"Quantity_Score\":0.02,\"Business_Score\":0.22,\"Cost_Of_Living_Index\":132.8,\"Bucket\":3},{\"City\":\"San Luis Obispo\",\"State\":\"California\",\"Quantity_Score\":0.06,\"Business_Score\":0.43,\"Cost_Of_Living_Index\":136.1,\"Bucket\":3},{\"City\":\"San Diego\",\"State\":\"California\",\"Quantity_Score\":2.64,\"Business_Score\":3.8,\"Cost_Of_Living_Index\":136.2,\"Bucket\":3},{\"City\":\"Salinas\",\"State\":\"California\",\"Quantity_Score\":0.01,\"Business_Score\":0.1,\"Cost_Of_Living_Index\":138.3,\"Bucket\":3},{\"City\":\"Los Angeles\",\"State\":\"California\",\"Quantity_Score\":11.23,\"Business_Score\":3.8,\"Cost_Of_Living_Index\":140.6,\"Bucket\":4},{\"City\":\"Santa Rosa\",\"State\":\"California\",\"Quantity_Score\":0.08,\"Business_Score\":0.46,\"Cost_Of_Living_Index\":141.7,\"Bucket\":4},{\"City\":\"Napa\",\"State\":\"California\",\"Quantity_Score\":0.03,\"Business_Score\":0.23,\"Cost_Of_Living_Index\":149.6,\"Bucket\":4},{\"City\":\"Honolulu\",\"State\":\"Hawaii\",\"Quantity_Score\":0.22,\"Business_Score\":0.99,\"Cost_Of_Living_Index\":158.0,\"Bucket\":4},{\"City\":\"Santa Cruz\",\"State\":\"California\",\"Quantity_Score\":0.23,\"Business_Score\":3.8,\"Cost_Of_Living_Index\":163.9,\"Bucket\":5},{\"City\":\"San Francisco\",\"State\":\"California\",\"Quantity_Score\":29.14,\"Business_Score\":3.8,\"Cost_Of_Living_Index\":178.6,\"Bucket\":5}]'"
      ]
     },
     "execution_count": 25,
     "metadata": {},
     "output_type": "execute_result"
    }
   ],
   "source": [
    "j_df"
   ]
  }
 ],
 "metadata": {
  "interpreter": {
   "hash": "08117b2556e7d51922807e6c54e3377e134ea12a26617f119c28c1fac6f9f708"
  },
  "kernelspec": {
   "display_name": "Python 3.8.8 64-bit ('base': conda)",
   "language": "python",
   "name": "python3"
  },
  "language_info": {
   "codemirror_mode": {
    "name": "ipython",
    "version": 3
   },
   "file_extension": ".py",
   "mimetype": "text/x-python",
   "name": "python",
   "nbconvert_exporter": "python",
   "pygments_lexer": "ipython3",
   "version": "3.8.8"
  },
  "orig_nbformat": 4
 },
 "nbformat": 4,
 "nbformat_minor": 2
}
