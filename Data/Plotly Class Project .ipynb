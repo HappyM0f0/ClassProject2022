{
 "cells": [
  {
   "cell_type": "code",
   "execution_count": 1,
   "id": "3e2b162e",
   "metadata": {},
   "outputs": [],
   "source": [
    "import numpy as np\n",
    "import pandas as pd\n",
    "import plotly.express as px\n",
    "import plotly.graph_objects as go"
   ]
  },
  {
   "cell_type": "code",
   "execution_count": 24,
   "id": "94e700d9",
   "metadata": {},
   "outputs": [
    {
     "data": {
      "text/html": [
       "<div>\n",
       "<style scoped>\n",
       "    .dataframe tbody tr th:only-of-type {\n",
       "        vertical-align: middle;\n",
       "    }\n",
       "\n",
       "    .dataframe tbody tr th {\n",
       "        vertical-align: top;\n",
       "    }\n",
       "\n",
       "    .dataframe thead th {\n",
       "        text-align: right;\n",
       "    }\n",
       "</style>\n",
       "<table border=\"1\" class=\"dataframe\">\n",
       "  <thead>\n",
       "    <tr style=\"text-align: right;\">\n",
       "      <th></th>\n",
       "      <th>City</th>\n",
       "      <th>quatity score</th>\n",
       "      <th>business score</th>\n",
       "      <th>Cost of Living Index</th>\n",
       "      <th>Bucket</th>\n",
       "    </tr>\n",
       "  </thead>\n",
       "  <tbody>\n",
       "    <tr>\n",
       "      <th>194</th>\n",
       "      <td>San Francisco</td>\n",
       "      <td>29.14</td>\n",
       "      <td>3.8</td>\n",
       "      <td>178.6</td>\n",
       "      <td>5</td>\n",
       "    </tr>\n",
       "    <tr>\n",
       "      <th>183</th>\n",
       "      <td>New York</td>\n",
       "      <td>11.43</td>\n",
       "      <td>3.8</td>\n",
       "      <td>128.0</td>\n",
       "      <td>3</td>\n",
       "    </tr>\n",
       "    <tr>\n",
       "      <th>189</th>\n",
       "      <td>Los Angeles</td>\n",
       "      <td>11.23</td>\n",
       "      <td>3.8</td>\n",
       "      <td>140.6</td>\n",
       "      <td>4</td>\n",
       "    </tr>\n",
       "    <tr>\n",
       "      <th>184</th>\n",
       "      <td>Boston</td>\n",
       "      <td>5.50</td>\n",
       "      <td>3.8</td>\n",
       "      <td>132.6</td>\n",
       "      <td>3</td>\n",
       "    </tr>\n",
       "    <tr>\n",
       "      <th>128</th>\n",
       "      <td>Chicago</td>\n",
       "      <td>4.37</td>\n",
       "      <td>3.8</td>\n",
       "      <td>100.1</td>\n",
       "      <td>2</td>\n",
       "    </tr>\n",
       "    <tr>\n",
       "      <th>181</th>\n",
       "      <td>Seattle</td>\n",
       "      <td>3.49</td>\n",
       "      <td>3.8</td>\n",
       "      <td>124.6</td>\n",
       "      <td>3</td>\n",
       "    </tr>\n",
       "    <tr>\n",
       "      <th>179</th>\n",
       "      <td>Washington</td>\n",
       "      <td>3.47</td>\n",
       "      <td>3.8</td>\n",
       "      <td>120.1</td>\n",
       "      <td>3</td>\n",
       "    </tr>\n",
       "    <tr>\n",
       "      <th>166</th>\n",
       "      <td>Miami</td>\n",
       "      <td>3.21</td>\n",
       "      <td>3.8</td>\n",
       "      <td>110.1</td>\n",
       "      <td>2</td>\n",
       "    </tr>\n",
       "    <tr>\n",
       "      <th>155</th>\n",
       "      <td>Austin</td>\n",
       "      <td>3.20</td>\n",
       "      <td>3.8</td>\n",
       "      <td>106.6</td>\n",
       "      <td>2</td>\n",
       "    </tr>\n",
       "    <tr>\n",
       "      <th>118</th>\n",
       "      <td>Dallas</td>\n",
       "      <td>2.90</td>\n",
       "      <td>3.8</td>\n",
       "      <td>98.5</td>\n",
       "      <td>1</td>\n",
       "    </tr>\n",
       "    <tr>\n",
       "      <th>187</th>\n",
       "      <td>San Diego</td>\n",
       "      <td>2.64</td>\n",
       "      <td>3.8</td>\n",
       "      <td>136.2</td>\n",
       "      <td>3</td>\n",
       "    </tr>\n",
       "    <tr>\n",
       "      <th>130</th>\n",
       "      <td>Atlanta</td>\n",
       "      <td>2.59</td>\n",
       "      <td>3.8</td>\n",
       "      <td>100.3</td>\n",
       "      <td>2</td>\n",
       "    </tr>\n",
       "    <tr>\n",
       "      <th>172</th>\n",
       "      <td>Denver</td>\n",
       "      <td>2.36</td>\n",
       "      <td>3.8</td>\n",
       "      <td>112.1</td>\n",
       "      <td>2</td>\n",
       "    </tr>\n",
       "    <tr>\n",
       "      <th>146</th>\n",
       "      <td>Philadelphia</td>\n",
       "      <td>1.70</td>\n",
       "      <td>3.8</td>\n",
       "      <td>103.4</td>\n",
       "      <td>2</td>\n",
       "    </tr>\n",
       "    <tr>\n",
       "      <th>148</th>\n",
       "      <td>Phoenix</td>\n",
       "      <td>1.58</td>\n",
       "      <td>3.8</td>\n",
       "      <td>104.3</td>\n",
       "      <td>2</td>\n",
       "    </tr>\n",
       "  </tbody>\n",
       "</table>\n",
       "</div>"
      ],
      "text/plain": [
       "              City  quatity score  business score  Cost of Living Index  \\\n",
       "194  San Francisco          29.14             3.8                 178.6   \n",
       "183       New York          11.43             3.8                 128.0   \n",
       "189    Los Angeles          11.23             3.8                 140.6   \n",
       "184         Boston           5.50             3.8                 132.6   \n",
       "128        Chicago           4.37             3.8                 100.1   \n",
       "181        Seattle           3.49             3.8                 124.6   \n",
       "179     Washington           3.47             3.8                 120.1   \n",
       "166          Miami           3.21             3.8                 110.1   \n",
       "155         Austin           3.20             3.8                 106.6   \n",
       "118         Dallas           2.90             3.8                  98.5   \n",
       "187      San Diego           2.64             3.8                 136.2   \n",
       "130        Atlanta           2.59             3.8                 100.3   \n",
       "172         Denver           2.36             3.8                 112.1   \n",
       "146   Philadelphia           1.70             3.8                 103.4   \n",
       "148        Phoenix           1.58             3.8                 104.3   \n",
       "\n",
       "     Bucket  \n",
       "194       5  \n",
       "183       3  \n",
       "189       4  \n",
       "184       3  \n",
       "128       2  \n",
       "181       3  \n",
       "179       3  \n",
       "166       2  \n",
       "155       2  \n",
       "118       1  \n",
       "187       3  \n",
       "130       2  \n",
       "172       2  \n",
       "146       2  \n",
       "148       2  "
      ]
     },
     "execution_count": 24,
     "metadata": {},
     "output_type": "execute_result"
    }
   ],
   "source": [
    "# Load in csv\n",
    "# df1 = pd.read_csv(\"data_bucketed.csv\", encoding = 'utf-8')\n",
    "# df1\n",
    "k_df2 = pd.read_csv('data_bucketed.csv').drop(['Index'],axis=1).sort_values(by=['quatity score'], ascending = False)\n",
    "k_df2.rename(columns={\"city\":\"City\",\"quatity score\":\"quantity score\"})\n",
    "k_df2.head(15)"
   ]
  },
  {
   "cell_type": "code",
   "execution_count": 3,
   "id": "b89ce993",
   "metadata": {},
   "outputs": [
    {
     "data": {
      "text/html": [
       "<div>\n",
       "<style scoped>\n",
       "    .dataframe tbody tr th:only-of-type {\n",
       "        vertical-align: middle;\n",
       "    }\n",
       "\n",
       "    .dataframe tbody tr th {\n",
       "        vertical-align: top;\n",
       "    }\n",
       "\n",
       "    .dataframe thead th {\n",
       "        text-align: right;\n",
       "    }\n",
       "</style>\n",
       "<table border=\"1\" class=\"dataframe\">\n",
       "  <thead>\n",
       "    <tr style=\"text-align: right;\">\n",
       "      <th></th>\n",
       "      <th>City</th>\n",
       "      <th>quatity score</th>\n",
       "      <th>business score</th>\n",
       "      <th>Cost of Living Index</th>\n",
       "    </tr>\n",
       "  </thead>\n",
       "  <tbody>\n",
       "    <tr>\n",
       "      <th>0</th>\n",
       "      <td>San Francisco</td>\n",
       "      <td>29.14</td>\n",
       "      <td>3.8</td>\n",
       "      <td>178.6</td>\n",
       "    </tr>\n",
       "    <tr>\n",
       "      <th>1</th>\n",
       "      <td>New York</td>\n",
       "      <td>11.43</td>\n",
       "      <td>3.8</td>\n",
       "      <td>128.0</td>\n",
       "    </tr>\n",
       "    <tr>\n",
       "      <th>2</th>\n",
       "      <td>Los Angeles</td>\n",
       "      <td>11.23</td>\n",
       "      <td>3.8</td>\n",
       "      <td>140.6</td>\n",
       "    </tr>\n",
       "    <tr>\n",
       "      <th>3</th>\n",
       "      <td>Boston</td>\n",
       "      <td>5.50</td>\n",
       "      <td>3.8</td>\n",
       "      <td>132.6</td>\n",
       "    </tr>\n",
       "    <tr>\n",
       "      <th>5</th>\n",
       "      <td>Chicago</td>\n",
       "      <td>4.37</td>\n",
       "      <td>3.8</td>\n",
       "      <td>100.1</td>\n",
       "    </tr>\n",
       "    <tr>\n",
       "      <th>4</th>\n",
       "      <td>Seattle</td>\n",
       "      <td>3.49</td>\n",
       "      <td>3.8</td>\n",
       "      <td>124.6</td>\n",
       "    </tr>\n",
       "    <tr>\n",
       "      <th>7</th>\n",
       "      <td>Washington</td>\n",
       "      <td>3.47</td>\n",
       "      <td>3.8</td>\n",
       "      <td>120.1</td>\n",
       "    </tr>\n",
       "    <tr>\n",
       "      <th>12</th>\n",
       "      <td>Miami</td>\n",
       "      <td>3.21</td>\n",
       "      <td>3.8</td>\n",
       "      <td>110.1</td>\n",
       "    </tr>\n",
       "    <tr>\n",
       "      <th>6</th>\n",
       "      <td>Austin</td>\n",
       "      <td>3.20</td>\n",
       "      <td>3.8</td>\n",
       "      <td>106.6</td>\n",
       "    </tr>\n",
       "    <tr>\n",
       "      <th>9</th>\n",
       "      <td>Dallas</td>\n",
       "      <td>2.90</td>\n",
       "      <td>3.8</td>\n",
       "      <td>98.5</td>\n",
       "    </tr>\n",
       "    <tr>\n",
       "      <th>8</th>\n",
       "      <td>San Diego</td>\n",
       "      <td>2.64</td>\n",
       "      <td>3.8</td>\n",
       "      <td>136.2</td>\n",
       "    </tr>\n",
       "    <tr>\n",
       "      <th>10</th>\n",
       "      <td>Atlanta</td>\n",
       "      <td>2.59</td>\n",
       "      <td>3.8</td>\n",
       "      <td>100.3</td>\n",
       "    </tr>\n",
       "    <tr>\n",
       "      <th>11</th>\n",
       "      <td>Denver</td>\n",
       "      <td>2.36</td>\n",
       "      <td>3.8</td>\n",
       "      <td>112.1</td>\n",
       "    </tr>\n",
       "    <tr>\n",
       "      <th>13</th>\n",
       "      <td>Philadelphia</td>\n",
       "      <td>1.70</td>\n",
       "      <td>3.8</td>\n",
       "      <td>103.4</td>\n",
       "    </tr>\n",
       "    <tr>\n",
       "      <th>16</th>\n",
       "      <td>Phoenix</td>\n",
       "      <td>1.58</td>\n",
       "      <td>3.8</td>\n",
       "      <td>104.3</td>\n",
       "    </tr>\n",
       "  </tbody>\n",
       "</table>\n",
       "</div>"
      ],
      "text/plain": [
       "             City  quatity score  business score  Cost of Living Index\n",
       "0   San Francisco          29.14             3.8                 178.6\n",
       "1        New York          11.43             3.8                 128.0\n",
       "2     Los Angeles          11.23             3.8                 140.6\n",
       "3          Boston           5.50             3.8                 132.6\n",
       "5         Chicago           4.37             3.8                 100.1\n",
       "4         Seattle           3.49             3.8                 124.6\n",
       "7      Washington           3.47             3.8                 120.1\n",
       "12          Miami           3.21             3.8                 110.1\n",
       "6          Austin           3.20             3.8                 106.6\n",
       "9          Dallas           2.90             3.8                  98.5\n",
       "8       San Diego           2.64             3.8                 136.2\n",
       "10        Atlanta           2.59             3.8                 100.3\n",
       "11         Denver           2.36             3.8                 112.1\n",
       "13   Philadelphia           1.70             3.8                 103.4\n",
       "16        Phoenix           1.58             3.8                 104.3"
      ]
     },
     "execution_count": 3,
     "metadata": {},
     "output_type": "execute_result"
    }
   ],
   "source": [
    "# Load in csv\n",
    "# df1 = pd.read_csv(\"cleaned_data.csv\", encoding = 'utf-8')\n",
    "# df1\n",
    "k_df = pd.read_csv('cleaned_data.csv').drop(['Unnamed: 0'],axis=1).sort_values(by=['quatity score'], ascending = False)\n",
    "k_df.head(15)"
   ]
  },
  {
   "cell_type": "code",
   "execution_count": 4,
   "id": "302a8565",
   "metadata": {},
   "outputs": [
    {
     "data": {
      "application/vnd.plotly.v1+json": {
       "config": {
        "plotlyServerURL": "https://plot.ly"
       },
       "data": [
        {
         "hovertemplate": "City=%{x}<br>quatity score=%{y}<extra></extra>",
         "legendgroup": "",
         "line": {
          "color": "#636efa",
          "dash": "solid"
         },
         "mode": "lines",
         "name": "",
         "orientation": "v",
         "showlegend": false,
         "type": "scatter",
         "x": [
          "San Francisco",
          "New York",
          "Los Angeles",
          "Boston",
          "Chicago",
          "Seattle",
          "Washington",
          "Miami",
          "Austin",
          "Dallas",
          "San Diego",
          "Atlanta",
          "Denver",
          "Philadelphia",
          "Phoenix",
          "Portland",
          "Houston",
          "Boulder",
          "Detroit",
          "Minneapolis",
          "Raleigh",
          "Las Vegas",
          "Baltimore",
          "Pittsburgh",
          "Orlando",
          "Tampa",
          "Charlotte",
          "Salt Lake City",
          "Nashville",
          "Columbus",
          "Madison",
          "Kansas City",
          "Indianapolis",
          "Cleveland",
          "Sacramento",
          "Cincinnati",
          "San Antonio",
          "St. Louis",
          "Provo",
          "Milwaukee",
          "New Orleans",
          "Richmond",
          "Wilmington",
          "Jacksonville",
          "Charleston",
          "Louisville",
          "Burlington",
          "Chattanooga",
          "Santa Cruz",
          "Columbia",
          "Oklahoma City",
          "Omaha",
          "Honolulu",
          "Hartford",
          "Grand Rapids",
          "Colorado Springs",
          "Providence",
          "Albuquerque",
          "Virginia Beach",
          "Buffalo",
          "Sarasota",
          "Tucson",
          "Lexington",
          "Reno",
          "Lafayette",
          "Fort Myers",
          "Little Rock",
          "Des Moines",
          "Fort Collins",
          "Memphis",
          "New Haven",
          "Rochester",
          "Syracuse",
          "Greenville",
          "Albany",
          "Asheville",
          "Knoxville",
          "Lincoln",
          "Dayton",
          "Wichita",
          "Spokane",
          "Bend",
          "Savannah",
          "Fayetteville",
          "Tulsa",
          "Morristown",
          "Corvallis",
          "Springfield",
          "Ithaca",
          "Anchorage",
          "Winston-Salem",
          "Dover",
          "Santa Rosa",
          "Huntington",
          "Gainesville",
          "Bloomington",
          "Jackson",
          "Santa Fe",
          "Fresno",
          "Harrisburg",
          "Worcester",
          "San Luis Obispo",
          "Traverse City",
          "South Bend",
          "Missoula",
          "Akron",
          "Lansing",
          "Cedar Rapids",
          "Roswell",
          "Portsmouth",
          "Michigan City",
          "Iowa City",
          "Manchester",
          "Baton Rouge",
          "Eugene",
          "State College",
          "Bozeman",
          "Champaign",
          "Sioux Falls",
          "Greensboro",
          "Cheyenne",
          "College Station",
          "Concord",
          "Charlottesville",
          "Pensacola",
          "Duluth",
          "Chico",
          "Midland",
          "Napa",
          "Mobile",
          "El Paso",
          "Erie",
          "Blacksburg",
          "Tallahassee",
          "Reading",
          "Whitewater",
          "Tyler",
          "Ames",
          "Green Bay",
          "Lancaster",
          "Harrisonburg",
          "Brunswick",
          "Appleton",
          "Danville",
          "Myrtle Beach",
          "Ocala",
          "Fargo",
          "Toledo",
          "Bellingham",
          "Modesto",
          "Grand Forks",
          "Stockton",
          "Idaho Falls",
          "Shreveport",
          "Flint",
          "Topeka",
          "Truckee",
          "Lubbock",
          "Billings",
          "Redding",
          "Medford",
          "Huntsville",
          "Scranton",
          "Panama City",
          "Bakersfield",
          "Carson City",
          "Grand Junction",
          "Athens",
          "Augusta",
          "Allentown",
          "Lakeland",
          "Canton",
          "Fort Wayne",
          "Bangor",
          "Salinas",
          "Lynchburg",
          "Corpus Christi",
          "Binghamton",
          "Janesville",
          "Joplin",
          "Las Cruces",
          "Auburn",
          "Atlantic City",
          "Monroe",
          "Montgomery",
          "Roanoke",
          "Peoria",
          "Lawrence",
          "Great Falls",
          "Winchester",
          "Bowling Green",
          "Shelton",
          "Lebanon",
          "Gulfport",
          "Kalamazoo"
         ],
         "xaxis": "x",
         "y": [
          29.14,
          11.43,
          11.23,
          5.5,
          4.37,
          3.49,
          3.47,
          3.21,
          3.2,
          2.9,
          2.64,
          2.59,
          2.36,
          1.7,
          1.58,
          1.38,
          1.34,
          1.32,
          1.19,
          1.12,
          1.09,
          1.01,
          0.92,
          0.88,
          0.84,
          0.83,
          0.82,
          0.77,
          0.76,
          0.76,
          0.69,
          0.59,
          0.52,
          0.51,
          0.5,
          0.5,
          0.48,
          0.46,
          0.42,
          0.4,
          0.35,
          0.33,
          0.31,
          0.3,
          0.28,
          0.27,
          0.26,
          0.23,
          0.23,
          0.23,
          0.23,
          0.22,
          0.22,
          0.22,
          0.21,
          0.21,
          0.21,
          0.2,
          0.2,
          0.2,
          0.19,
          0.19,
          0.18,
          0.18,
          0.18,
          0.17,
          0.17,
          0.17,
          0.17,
          0.16,
          0.16,
          0.16,
          0.14,
          0.12,
          0.12,
          0.12,
          0.11,
          0.11,
          0.11,
          0.11,
          0.1,
          0.1,
          0.1,
          0.1,
          0.1,
          0.1,
          0.09,
          0.09,
          0.08,
          0.08,
          0.08,
          0.08,
          0.08,
          0.07,
          0.07,
          0.07,
          0.07,
          0.06,
          0.06,
          0.06,
          0.06,
          0.06,
          0.06,
          0.06,
          0.05,
          0.05,
          0.05,
          0.05,
          0.05,
          0.05,
          0.05,
          0.05,
          0.05,
          0.04,
          0.04,
          0.04,
          0.04,
          0.04,
          0.04,
          0.04,
          0.04,
          0.04,
          0.04,
          0.04,
          0.04,
          0.04,
          0.03,
          0.03,
          0.03,
          0.03,
          0.03,
          0.03,
          0.03,
          0.03,
          0.03,
          0.03,
          0.03,
          0.03,
          0.03,
          0.03,
          0.02,
          0.02,
          0.02,
          0.02,
          0.02,
          0.02,
          0.02,
          0.02,
          0.02,
          0.02,
          0.02,
          0.02,
          0.02,
          0.02,
          0.02,
          0.02,
          0.02,
          0.02,
          0.02,
          0.02,
          0.02,
          0.02,
          0.02,
          0.02,
          0.02,
          0.02,
          0.02,
          0.02,
          0.02,
          0.02,
          0.02,
          0.02,
          0.02,
          0.02,
          0.01,
          0.01,
          0.01,
          0.01,
          0.01,
          0.01,
          0.01,
          0.01,
          0.01,
          0.01,
          0.01,
          0.01,
          0.01,
          0.01,
          0.01,
          0.01,
          0.01,
          0.01,
          0.01,
          0.01,
          0.01
         ],
         "yaxis": "y"
        }
       ],
       "layout": {
        "legend": {
         "tracegroupgap": 0
        },
        "margin": {
         "t": 60
        },
        "template": {
         "data": {
          "bar": [
           {
            "error_x": {
             "color": "#2a3f5f"
            },
            "error_y": {
             "color": "#2a3f5f"
            },
            "marker": {
             "line": {
              "color": "#E5ECF6",
              "width": 0.5
             },
             "pattern": {
              "fillmode": "overlay",
              "size": 10,
              "solidity": 0.2
             }
            },
            "type": "bar"
           }
          ],
          "barpolar": [
           {
            "marker": {
             "line": {
              "color": "#E5ECF6",
              "width": 0.5
             },
             "pattern": {
              "fillmode": "overlay",
              "size": 10,
              "solidity": 0.2
             }
            },
            "type": "barpolar"
           }
          ],
          "carpet": [
           {
            "aaxis": {
             "endlinecolor": "#2a3f5f",
             "gridcolor": "white",
             "linecolor": "white",
             "minorgridcolor": "white",
             "startlinecolor": "#2a3f5f"
            },
            "baxis": {
             "endlinecolor": "#2a3f5f",
             "gridcolor": "white",
             "linecolor": "white",
             "minorgridcolor": "white",
             "startlinecolor": "#2a3f5f"
            },
            "type": "carpet"
           }
          ],
          "choropleth": [
           {
            "colorbar": {
             "outlinewidth": 0,
             "ticks": ""
            },
            "type": "choropleth"
           }
          ],
          "contour": [
           {
            "colorbar": {
             "outlinewidth": 0,
             "ticks": ""
            },
            "colorscale": [
             [
              0,
              "#0d0887"
             ],
             [
              0.1111111111111111,
              "#46039f"
             ],
             [
              0.2222222222222222,
              "#7201a8"
             ],
             [
              0.3333333333333333,
              "#9c179e"
             ],
             [
              0.4444444444444444,
              "#bd3786"
             ],
             [
              0.5555555555555556,
              "#d8576b"
             ],
             [
              0.6666666666666666,
              "#ed7953"
             ],
             [
              0.7777777777777778,
              "#fb9f3a"
             ],
             [
              0.8888888888888888,
              "#fdca26"
             ],
             [
              1,
              "#f0f921"
             ]
            ],
            "type": "contour"
           }
          ],
          "contourcarpet": [
           {
            "colorbar": {
             "outlinewidth": 0,
             "ticks": ""
            },
            "type": "contourcarpet"
           }
          ],
          "heatmap": [
           {
            "colorbar": {
             "outlinewidth": 0,
             "ticks": ""
            },
            "colorscale": [
             [
              0,
              "#0d0887"
             ],
             [
              0.1111111111111111,
              "#46039f"
             ],
             [
              0.2222222222222222,
              "#7201a8"
             ],
             [
              0.3333333333333333,
              "#9c179e"
             ],
             [
              0.4444444444444444,
              "#bd3786"
             ],
             [
              0.5555555555555556,
              "#d8576b"
             ],
             [
              0.6666666666666666,
              "#ed7953"
             ],
             [
              0.7777777777777778,
              "#fb9f3a"
             ],
             [
              0.8888888888888888,
              "#fdca26"
             ],
             [
              1,
              "#f0f921"
             ]
            ],
            "type": "heatmap"
           }
          ],
          "heatmapgl": [
           {
            "colorbar": {
             "outlinewidth": 0,
             "ticks": ""
            },
            "colorscale": [
             [
              0,
              "#0d0887"
             ],
             [
              0.1111111111111111,
              "#46039f"
             ],
             [
              0.2222222222222222,
              "#7201a8"
             ],
             [
              0.3333333333333333,
              "#9c179e"
             ],
             [
              0.4444444444444444,
              "#bd3786"
             ],
             [
              0.5555555555555556,
              "#d8576b"
             ],
             [
              0.6666666666666666,
              "#ed7953"
             ],
             [
              0.7777777777777778,
              "#fb9f3a"
             ],
             [
              0.8888888888888888,
              "#fdca26"
             ],
             [
              1,
              "#f0f921"
             ]
            ],
            "type": "heatmapgl"
           }
          ],
          "histogram": [
           {
            "marker": {
             "pattern": {
              "fillmode": "overlay",
              "size": 10,
              "solidity": 0.2
             }
            },
            "type": "histogram"
           }
          ],
          "histogram2d": [
           {
            "colorbar": {
             "outlinewidth": 0,
             "ticks": ""
            },
            "colorscale": [
             [
              0,
              "#0d0887"
             ],
             [
              0.1111111111111111,
              "#46039f"
             ],
             [
              0.2222222222222222,
              "#7201a8"
             ],
             [
              0.3333333333333333,
              "#9c179e"
             ],
             [
              0.4444444444444444,
              "#bd3786"
             ],
             [
              0.5555555555555556,
              "#d8576b"
             ],
             [
              0.6666666666666666,
              "#ed7953"
             ],
             [
              0.7777777777777778,
              "#fb9f3a"
             ],
             [
              0.8888888888888888,
              "#fdca26"
             ],
             [
              1,
              "#f0f921"
             ]
            ],
            "type": "histogram2d"
           }
          ],
          "histogram2dcontour": [
           {
            "colorbar": {
             "outlinewidth": 0,
             "ticks": ""
            },
            "colorscale": [
             [
              0,
              "#0d0887"
             ],
             [
              0.1111111111111111,
              "#46039f"
             ],
             [
              0.2222222222222222,
              "#7201a8"
             ],
             [
              0.3333333333333333,
              "#9c179e"
             ],
             [
              0.4444444444444444,
              "#bd3786"
             ],
             [
              0.5555555555555556,
              "#d8576b"
             ],
             [
              0.6666666666666666,
              "#ed7953"
             ],
             [
              0.7777777777777778,
              "#fb9f3a"
             ],
             [
              0.8888888888888888,
              "#fdca26"
             ],
             [
              1,
              "#f0f921"
             ]
            ],
            "type": "histogram2dcontour"
           }
          ],
          "mesh3d": [
           {
            "colorbar": {
             "outlinewidth": 0,
             "ticks": ""
            },
            "type": "mesh3d"
           }
          ],
          "parcoords": [
           {
            "line": {
             "colorbar": {
              "outlinewidth": 0,
              "ticks": ""
             }
            },
            "type": "parcoords"
           }
          ],
          "pie": [
           {
            "automargin": true,
            "type": "pie"
           }
          ],
          "scatter": [
           {
            "marker": {
             "colorbar": {
              "outlinewidth": 0,
              "ticks": ""
             }
            },
            "type": "scatter"
           }
          ],
          "scatter3d": [
           {
            "line": {
             "colorbar": {
              "outlinewidth": 0,
              "ticks": ""
             }
            },
            "marker": {
             "colorbar": {
              "outlinewidth": 0,
              "ticks": ""
             }
            },
            "type": "scatter3d"
           }
          ],
          "scattercarpet": [
           {
            "marker": {
             "colorbar": {
              "outlinewidth": 0,
              "ticks": ""
             }
            },
            "type": "scattercarpet"
           }
          ],
          "scattergeo": [
           {
            "marker": {
             "colorbar": {
              "outlinewidth": 0,
              "ticks": ""
             }
            },
            "type": "scattergeo"
           }
          ],
          "scattergl": [
           {
            "marker": {
             "colorbar": {
              "outlinewidth": 0,
              "ticks": ""
             }
            },
            "type": "scattergl"
           }
          ],
          "scattermapbox": [
           {
            "marker": {
             "colorbar": {
              "outlinewidth": 0,
              "ticks": ""
             }
            },
            "type": "scattermapbox"
           }
          ],
          "scatterpolar": [
           {
            "marker": {
             "colorbar": {
              "outlinewidth": 0,
              "ticks": ""
             }
            },
            "type": "scatterpolar"
           }
          ],
          "scatterpolargl": [
           {
            "marker": {
             "colorbar": {
              "outlinewidth": 0,
              "ticks": ""
             }
            },
            "type": "scatterpolargl"
           }
          ],
          "scatterternary": [
           {
            "marker": {
             "colorbar": {
              "outlinewidth": 0,
              "ticks": ""
             }
            },
            "type": "scatterternary"
           }
          ],
          "surface": [
           {
            "colorbar": {
             "outlinewidth": 0,
             "ticks": ""
            },
            "colorscale": [
             [
              0,
              "#0d0887"
             ],
             [
              0.1111111111111111,
              "#46039f"
             ],
             [
              0.2222222222222222,
              "#7201a8"
             ],
             [
              0.3333333333333333,
              "#9c179e"
             ],
             [
              0.4444444444444444,
              "#bd3786"
             ],
             [
              0.5555555555555556,
              "#d8576b"
             ],
             [
              0.6666666666666666,
              "#ed7953"
             ],
             [
              0.7777777777777778,
              "#fb9f3a"
             ],
             [
              0.8888888888888888,
              "#fdca26"
             ],
             [
              1,
              "#f0f921"
             ]
            ],
            "type": "surface"
           }
          ],
          "table": [
           {
            "cells": {
             "fill": {
              "color": "#EBF0F8"
             },
             "line": {
              "color": "white"
             }
            },
            "header": {
             "fill": {
              "color": "#C8D4E3"
             },
             "line": {
              "color": "white"
             }
            },
            "type": "table"
           }
          ]
         },
         "layout": {
          "annotationdefaults": {
           "arrowcolor": "#2a3f5f",
           "arrowhead": 0,
           "arrowwidth": 1
          },
          "autotypenumbers": "strict",
          "coloraxis": {
           "colorbar": {
            "outlinewidth": 0,
            "ticks": ""
           }
          },
          "colorscale": {
           "diverging": [
            [
             0,
             "#8e0152"
            ],
            [
             0.1,
             "#c51b7d"
            ],
            [
             0.2,
             "#de77ae"
            ],
            [
             0.3,
             "#f1b6da"
            ],
            [
             0.4,
             "#fde0ef"
            ],
            [
             0.5,
             "#f7f7f7"
            ],
            [
             0.6,
             "#e6f5d0"
            ],
            [
             0.7,
             "#b8e186"
            ],
            [
             0.8,
             "#7fbc41"
            ],
            [
             0.9,
             "#4d9221"
            ],
            [
             1,
             "#276419"
            ]
           ],
           "sequential": [
            [
             0,
             "#0d0887"
            ],
            [
             0.1111111111111111,
             "#46039f"
            ],
            [
             0.2222222222222222,
             "#7201a8"
            ],
            [
             0.3333333333333333,
             "#9c179e"
            ],
            [
             0.4444444444444444,
             "#bd3786"
            ],
            [
             0.5555555555555556,
             "#d8576b"
            ],
            [
             0.6666666666666666,
             "#ed7953"
            ],
            [
             0.7777777777777778,
             "#fb9f3a"
            ],
            [
             0.8888888888888888,
             "#fdca26"
            ],
            [
             1,
             "#f0f921"
            ]
           ],
           "sequentialminus": [
            [
             0,
             "#0d0887"
            ],
            [
             0.1111111111111111,
             "#46039f"
            ],
            [
             0.2222222222222222,
             "#7201a8"
            ],
            [
             0.3333333333333333,
             "#9c179e"
            ],
            [
             0.4444444444444444,
             "#bd3786"
            ],
            [
             0.5555555555555556,
             "#d8576b"
            ],
            [
             0.6666666666666666,
             "#ed7953"
            ],
            [
             0.7777777777777778,
             "#fb9f3a"
            ],
            [
             0.8888888888888888,
             "#fdca26"
            ],
            [
             1,
             "#f0f921"
            ]
           ]
          },
          "colorway": [
           "#636efa",
           "#EF553B",
           "#00cc96",
           "#ab63fa",
           "#FFA15A",
           "#19d3f3",
           "#FF6692",
           "#B6E880",
           "#FF97FF",
           "#FECB52"
          ],
          "font": {
           "color": "#2a3f5f"
          },
          "geo": {
           "bgcolor": "white",
           "lakecolor": "white",
           "landcolor": "#E5ECF6",
           "showlakes": true,
           "showland": true,
           "subunitcolor": "white"
          },
          "hoverlabel": {
           "align": "left"
          },
          "hovermode": "closest",
          "mapbox": {
           "style": "light"
          },
          "paper_bgcolor": "white",
          "plot_bgcolor": "#E5ECF6",
          "polar": {
           "angularaxis": {
            "gridcolor": "white",
            "linecolor": "white",
            "ticks": ""
           },
           "bgcolor": "#E5ECF6",
           "radialaxis": {
            "gridcolor": "white",
            "linecolor": "white",
            "ticks": ""
           }
          },
          "scene": {
           "xaxis": {
            "backgroundcolor": "#E5ECF6",
            "gridcolor": "white",
            "gridwidth": 2,
            "linecolor": "white",
            "showbackground": true,
            "ticks": "",
            "zerolinecolor": "white"
           },
           "yaxis": {
            "backgroundcolor": "#E5ECF6",
            "gridcolor": "white",
            "gridwidth": 2,
            "linecolor": "white",
            "showbackground": true,
            "ticks": "",
            "zerolinecolor": "white"
           },
           "zaxis": {
            "backgroundcolor": "#E5ECF6",
            "gridcolor": "white",
            "gridwidth": 2,
            "linecolor": "white",
            "showbackground": true,
            "ticks": "",
            "zerolinecolor": "white"
           }
          },
          "shapedefaults": {
           "line": {
            "color": "#2a3f5f"
           }
          },
          "ternary": {
           "aaxis": {
            "gridcolor": "white",
            "linecolor": "white",
            "ticks": ""
           },
           "baxis": {
            "gridcolor": "white",
            "linecolor": "white",
            "ticks": ""
           },
           "bgcolor": "#E5ECF6",
           "caxis": {
            "gridcolor": "white",
            "linecolor": "white",
            "ticks": ""
           }
          },
          "title": {
           "x": 0.05
          },
          "xaxis": {
           "automargin": true,
           "gridcolor": "white",
           "linecolor": "white",
           "ticks": "",
           "title": {
            "standoff": 15
           },
           "zerolinecolor": "white",
           "zerolinewidth": 2
          },
          "yaxis": {
           "automargin": true,
           "gridcolor": "white",
           "linecolor": "white",
           "ticks": "",
           "title": {
            "standoff": 15
           },
           "zerolinecolor": "white",
           "zerolinewidth": 2
          }
         }
        },
        "xaxis": {
         "anchor": "y",
         "domain": [
          0,
          1
         ],
         "title": {
          "text": "City"
         }
        },
        "yaxis": {
         "anchor": "x",
         "domain": [
          0,
          1
         ],
         "title": {
          "text": "quatity score"
         }
        }
       }
      }
     },
     "metadata": {},
     "output_type": "display_data"
    }
   ],
   "source": [
    "fig=px.line(k_df2,x='City',y='quatity score')\n",
    "fig.show()"
   ]
  },
  {
   "cell_type": "code",
   "execution_count": 5,
   "id": "c6b2f369",
   "metadata": {},
   "outputs": [
    {
     "data": {
      "application/vnd.plotly.v1+json": {
       "config": {
        "plotlyServerURL": "https://plot.ly"
       },
       "data": [
        {
         "hovertemplate": "City=%{x}<br>quatity score=%{y}<extra></extra>",
         "legendgroup": "",
         "line": {
          "color": "#636efa",
          "dash": "solid"
         },
         "mode": "lines",
         "name": "",
         "orientation": "v",
         "showlegend": false,
         "type": "scatter",
         "x": [
          "San Francisco",
          "New York",
          "Los Angeles",
          "Boston",
          "Chicago",
          "Seattle",
          "Washington",
          "Miami",
          "Austin",
          "Dallas",
          "San Diego",
          "Atlanta",
          "Denver",
          "Philadelphia",
          "Phoenix",
          "Portland",
          "Houston",
          "Boulder",
          "Detroit",
          "Minneapolis",
          "Raleigh",
          "Las Vegas",
          "Baltimore",
          "Pittsburgh",
          "Orlando",
          "Tampa",
          "Charlotte",
          "Salt Lake City",
          "Columbus",
          "Nashville",
          "Madison",
          "Kansas City",
          "Indianapolis",
          "Cleveland",
          "Cincinnati",
          "Sacramento",
          "San Antonio",
          "St. Louis",
          "Provo",
          "Milwaukee",
          "New Orleans",
          "Richmond",
          "Wilmington",
          "Jacksonville",
          "Charleston",
          "Louisville",
          "Burlington",
          "Oklahoma City",
          "Columbia",
          "Chattanooga",
          "Birmingham",
          "Santa Cruz",
          "Hartford",
          "Omaha",
          "Honolulu",
          "Providence",
          "Grand Rapids",
          "Colorado Springs",
          "Virginia Beach",
          "Albuquerque",
          "Buffalo",
          "Tucson",
          "Sarasota",
          "Lafayette",
          "Lexington",
          "Reno",
          "Fort Collins",
          "Des Moines",
          "Fort Myers",
          "Little Rock",
          "Memphis",
          "Rochester",
          "New Haven",
          "Syracuse",
          "Boise City",
          "Albany",
          "Asheville",
          "Greenville",
          "Knoxville",
          "Lincoln",
          "Wichita",
          "Dayton",
          "Bend",
          "Savannah",
          "Fayetteville",
          "Spokane",
          "Tulsa",
          "Morristown",
          "Springfield",
          "Corvallis",
          "Ithaca",
          "Santa Rosa",
          "Winston-Salem",
          "Anchorage",
          "Dover",
          "Huntington",
          "Jackson",
          "Bloomington",
          "Gainesville",
          "Harrisburg",
          "San Luis Obispo",
          "Traverse City",
          "South Bend",
          "Fresno",
          "Santa Fe",
          "Worcester",
          "Manchester",
          "Lansing",
          "Missoula",
          "Roswell",
          "Michigan City",
          "Iowa City",
          "Portsmouth",
          "Cedar Rapids",
          "Akron",
          "Bozeman",
          "Baton Rouge",
          "Pensacola",
          "State College",
          "Duluth",
          "Champaign",
          "Charlottesville",
          "College Station",
          "Sioux Falls",
          "Greensboro",
          "Concord",
          "Eugene",
          "Cheyenne",
          "Erie",
          "Mobile",
          "Napa",
          "El Paso",
          "Reading",
          "Blacksburg",
          "Ames",
          "Midland",
          "Chico",
          "Tyler",
          "Whitewater",
          "Lancaster",
          "Tallahassee",
          "Ocala",
          "Lubbock",
          "Topeka",
          "Fort Wayne",
          "Toledo",
          "Stockton",
          "Bakersfield",
          "Modesto",
          "Huntsville",
          "Shreveport",
          "Grand Forks",
          "Billings",
          "Flint",
          "Athens",
          "Bellingham",
          "Augusta",
          "Bangor",
          "Idaho Falls",
          "Truckee",
          "Appleton",
          "Scranton",
          "Medford",
          "Harrisonburg",
          "Carson City",
          "Lakeland",
          "Grand Junction",
          "Fargo",
          "Myrtle Beach",
          "Danville",
          "Allentown",
          "Brunswick",
          "Panama City",
          "Redding",
          "Canton",
          "Monroe",
          "Gulfport",
          "Lynchburg",
          "Bowling Green",
          "Winchester",
          "Shelton",
          "Great Falls",
          "Auburn",
          "Montgomery",
          "Joplin",
          "Binghamton",
          "Lawrence",
          "Roanoke",
          "Atlantic City",
          "Janesville",
          "Kalamazoo",
          "Lebanon",
          "Corpus Christi",
          "Las Cruces",
          "Peoria",
          "Salinas"
         ],
         "xaxis": "x",
         "y": [
          29.14,
          11.43,
          11.23,
          5.5,
          4.37,
          3.49,
          3.47,
          3.21,
          3.2,
          2.9,
          2.64,
          2.59,
          2.36,
          1.7,
          1.58,
          1.38,
          1.34,
          1.32,
          1.19,
          1.12,
          1.09,
          1.01,
          0.92,
          0.88,
          0.84,
          0.83,
          0.82,
          0.77,
          0.76,
          0.76,
          0.69,
          0.59,
          0.52,
          0.51,
          0.5,
          0.5,
          0.48,
          0.46,
          0.42,
          0.4,
          0.35,
          0.33,
          0.31,
          0.3,
          0.28,
          0.27,
          0.26,
          0.23,
          0.23,
          0.23,
          0.23,
          0.23,
          0.22,
          0.22,
          0.22,
          0.21,
          0.21,
          0.21,
          0.2,
          0.2,
          0.2,
          0.19,
          0.19,
          0.18,
          0.18,
          0.18,
          0.17,
          0.17,
          0.17,
          0.17,
          0.16,
          0.16,
          0.16,
          0.14,
          0.13,
          0.12,
          0.12,
          0.12,
          0.11,
          0.11,
          0.11,
          0.11,
          0.1,
          0.1,
          0.1,
          0.1,
          0.1,
          0.1,
          0.09,
          0.09,
          0.08,
          0.08,
          0.08,
          0.08,
          0.08,
          0.07,
          0.07,
          0.07,
          0.07,
          0.06,
          0.06,
          0.06,
          0.06,
          0.06,
          0.06,
          0.06,
          0.05,
          0.05,
          0.05,
          0.05,
          0.05,
          0.05,
          0.05,
          0.05,
          0.05,
          0.04,
          0.04,
          0.04,
          0.04,
          0.04,
          0.04,
          0.04,
          0.04,
          0.04,
          0.04,
          0.04,
          0.04,
          0.04,
          0.03,
          0.03,
          0.03,
          0.03,
          0.03,
          0.03,
          0.03,
          0.03,
          0.03,
          0.03,
          0.03,
          0.03,
          0.03,
          0.02,
          0.02,
          0.02,
          0.02,
          0.02,
          0.02,
          0.02,
          0.02,
          0.02,
          0.02,
          0.02,
          0.02,
          0.02,
          0.02,
          0.02,
          0.02,
          0.02,
          0.02,
          0.02,
          0.02,
          0.02,
          0.02,
          0.02,
          0.02,
          0.02,
          0.02,
          0.02,
          0.02,
          0.02,
          0.02,
          0.02,
          0.02,
          0.02,
          0.02,
          0.01,
          0.01,
          0.01,
          0.01,
          0.01,
          0.01,
          0.01,
          0.01,
          0.01,
          0.01,
          0.01,
          0.01,
          0.01,
          0.01,
          0.01,
          0.01,
          0.01,
          0.01,
          0.01,
          0.01,
          0.01
         ],
         "yaxis": "y"
        }
       ],
       "layout": {
        "legend": {
         "tracegroupgap": 0
        },
        "margin": {
         "t": 60
        },
        "template": {
         "data": {
          "bar": [
           {
            "error_x": {
             "color": "#2a3f5f"
            },
            "error_y": {
             "color": "#2a3f5f"
            },
            "marker": {
             "line": {
              "color": "#E5ECF6",
              "width": 0.5
             },
             "pattern": {
              "fillmode": "overlay",
              "size": 10,
              "solidity": 0.2
             }
            },
            "type": "bar"
           }
          ],
          "barpolar": [
           {
            "marker": {
             "line": {
              "color": "#E5ECF6",
              "width": 0.5
             },
             "pattern": {
              "fillmode": "overlay",
              "size": 10,
              "solidity": 0.2
             }
            },
            "type": "barpolar"
           }
          ],
          "carpet": [
           {
            "aaxis": {
             "endlinecolor": "#2a3f5f",
             "gridcolor": "white",
             "linecolor": "white",
             "minorgridcolor": "white",
             "startlinecolor": "#2a3f5f"
            },
            "baxis": {
             "endlinecolor": "#2a3f5f",
             "gridcolor": "white",
             "linecolor": "white",
             "minorgridcolor": "white",
             "startlinecolor": "#2a3f5f"
            },
            "type": "carpet"
           }
          ],
          "choropleth": [
           {
            "colorbar": {
             "outlinewidth": 0,
             "ticks": ""
            },
            "type": "choropleth"
           }
          ],
          "contour": [
           {
            "colorbar": {
             "outlinewidth": 0,
             "ticks": ""
            },
            "colorscale": [
             [
              0,
              "#0d0887"
             ],
             [
              0.1111111111111111,
              "#46039f"
             ],
             [
              0.2222222222222222,
              "#7201a8"
             ],
             [
              0.3333333333333333,
              "#9c179e"
             ],
             [
              0.4444444444444444,
              "#bd3786"
             ],
             [
              0.5555555555555556,
              "#d8576b"
             ],
             [
              0.6666666666666666,
              "#ed7953"
             ],
             [
              0.7777777777777778,
              "#fb9f3a"
             ],
             [
              0.8888888888888888,
              "#fdca26"
             ],
             [
              1,
              "#f0f921"
             ]
            ],
            "type": "contour"
           }
          ],
          "contourcarpet": [
           {
            "colorbar": {
             "outlinewidth": 0,
             "ticks": ""
            },
            "type": "contourcarpet"
           }
          ],
          "heatmap": [
           {
            "colorbar": {
             "outlinewidth": 0,
             "ticks": ""
            },
            "colorscale": [
             [
              0,
              "#0d0887"
             ],
             [
              0.1111111111111111,
              "#46039f"
             ],
             [
              0.2222222222222222,
              "#7201a8"
             ],
             [
              0.3333333333333333,
              "#9c179e"
             ],
             [
              0.4444444444444444,
              "#bd3786"
             ],
             [
              0.5555555555555556,
              "#d8576b"
             ],
             [
              0.6666666666666666,
              "#ed7953"
             ],
             [
              0.7777777777777778,
              "#fb9f3a"
             ],
             [
              0.8888888888888888,
              "#fdca26"
             ],
             [
              1,
              "#f0f921"
             ]
            ],
            "type": "heatmap"
           }
          ],
          "heatmapgl": [
           {
            "colorbar": {
             "outlinewidth": 0,
             "ticks": ""
            },
            "colorscale": [
             [
              0,
              "#0d0887"
             ],
             [
              0.1111111111111111,
              "#46039f"
             ],
             [
              0.2222222222222222,
              "#7201a8"
             ],
             [
              0.3333333333333333,
              "#9c179e"
             ],
             [
              0.4444444444444444,
              "#bd3786"
             ],
             [
              0.5555555555555556,
              "#d8576b"
             ],
             [
              0.6666666666666666,
              "#ed7953"
             ],
             [
              0.7777777777777778,
              "#fb9f3a"
             ],
             [
              0.8888888888888888,
              "#fdca26"
             ],
             [
              1,
              "#f0f921"
             ]
            ],
            "type": "heatmapgl"
           }
          ],
          "histogram": [
           {
            "marker": {
             "pattern": {
              "fillmode": "overlay",
              "size": 10,
              "solidity": 0.2
             }
            },
            "type": "histogram"
           }
          ],
          "histogram2d": [
           {
            "colorbar": {
             "outlinewidth": 0,
             "ticks": ""
            },
            "colorscale": [
             [
              0,
              "#0d0887"
             ],
             [
              0.1111111111111111,
              "#46039f"
             ],
             [
              0.2222222222222222,
              "#7201a8"
             ],
             [
              0.3333333333333333,
              "#9c179e"
             ],
             [
              0.4444444444444444,
              "#bd3786"
             ],
             [
              0.5555555555555556,
              "#d8576b"
             ],
             [
              0.6666666666666666,
              "#ed7953"
             ],
             [
              0.7777777777777778,
              "#fb9f3a"
             ],
             [
              0.8888888888888888,
              "#fdca26"
             ],
             [
              1,
              "#f0f921"
             ]
            ],
            "type": "histogram2d"
           }
          ],
          "histogram2dcontour": [
           {
            "colorbar": {
             "outlinewidth": 0,
             "ticks": ""
            },
            "colorscale": [
             [
              0,
              "#0d0887"
             ],
             [
              0.1111111111111111,
              "#46039f"
             ],
             [
              0.2222222222222222,
              "#7201a8"
             ],
             [
              0.3333333333333333,
              "#9c179e"
             ],
             [
              0.4444444444444444,
              "#bd3786"
             ],
             [
              0.5555555555555556,
              "#d8576b"
             ],
             [
              0.6666666666666666,
              "#ed7953"
             ],
             [
              0.7777777777777778,
              "#fb9f3a"
             ],
             [
              0.8888888888888888,
              "#fdca26"
             ],
             [
              1,
              "#f0f921"
             ]
            ],
            "type": "histogram2dcontour"
           }
          ],
          "mesh3d": [
           {
            "colorbar": {
             "outlinewidth": 0,
             "ticks": ""
            },
            "type": "mesh3d"
           }
          ],
          "parcoords": [
           {
            "line": {
             "colorbar": {
              "outlinewidth": 0,
              "ticks": ""
             }
            },
            "type": "parcoords"
           }
          ],
          "pie": [
           {
            "automargin": true,
            "type": "pie"
           }
          ],
          "scatter": [
           {
            "marker": {
             "colorbar": {
              "outlinewidth": 0,
              "ticks": ""
             }
            },
            "type": "scatter"
           }
          ],
          "scatter3d": [
           {
            "line": {
             "colorbar": {
              "outlinewidth": 0,
              "ticks": ""
             }
            },
            "marker": {
             "colorbar": {
              "outlinewidth": 0,
              "ticks": ""
             }
            },
            "type": "scatter3d"
           }
          ],
          "scattercarpet": [
           {
            "marker": {
             "colorbar": {
              "outlinewidth": 0,
              "ticks": ""
             }
            },
            "type": "scattercarpet"
           }
          ],
          "scattergeo": [
           {
            "marker": {
             "colorbar": {
              "outlinewidth": 0,
              "ticks": ""
             }
            },
            "type": "scattergeo"
           }
          ],
          "scattergl": [
           {
            "marker": {
             "colorbar": {
              "outlinewidth": 0,
              "ticks": ""
             }
            },
            "type": "scattergl"
           }
          ],
          "scattermapbox": [
           {
            "marker": {
             "colorbar": {
              "outlinewidth": 0,
              "ticks": ""
             }
            },
            "type": "scattermapbox"
           }
          ],
          "scatterpolar": [
           {
            "marker": {
             "colorbar": {
              "outlinewidth": 0,
              "ticks": ""
             }
            },
            "type": "scatterpolar"
           }
          ],
          "scatterpolargl": [
           {
            "marker": {
             "colorbar": {
              "outlinewidth": 0,
              "ticks": ""
             }
            },
            "type": "scatterpolargl"
           }
          ],
          "scatterternary": [
           {
            "marker": {
             "colorbar": {
              "outlinewidth": 0,
              "ticks": ""
             }
            },
            "type": "scatterternary"
           }
          ],
          "surface": [
           {
            "colorbar": {
             "outlinewidth": 0,
             "ticks": ""
            },
            "colorscale": [
             [
              0,
              "#0d0887"
             ],
             [
              0.1111111111111111,
              "#46039f"
             ],
             [
              0.2222222222222222,
              "#7201a8"
             ],
             [
              0.3333333333333333,
              "#9c179e"
             ],
             [
              0.4444444444444444,
              "#bd3786"
             ],
             [
              0.5555555555555556,
              "#d8576b"
             ],
             [
              0.6666666666666666,
              "#ed7953"
             ],
             [
              0.7777777777777778,
              "#fb9f3a"
             ],
             [
              0.8888888888888888,
              "#fdca26"
             ],
             [
              1,
              "#f0f921"
             ]
            ],
            "type": "surface"
           }
          ],
          "table": [
           {
            "cells": {
             "fill": {
              "color": "#EBF0F8"
             },
             "line": {
              "color": "white"
             }
            },
            "header": {
             "fill": {
              "color": "#C8D4E3"
             },
             "line": {
              "color": "white"
             }
            },
            "type": "table"
           }
          ]
         },
         "layout": {
          "annotationdefaults": {
           "arrowcolor": "#2a3f5f",
           "arrowhead": 0,
           "arrowwidth": 1
          },
          "autotypenumbers": "strict",
          "coloraxis": {
           "colorbar": {
            "outlinewidth": 0,
            "ticks": ""
           }
          },
          "colorscale": {
           "diverging": [
            [
             0,
             "#8e0152"
            ],
            [
             0.1,
             "#c51b7d"
            ],
            [
             0.2,
             "#de77ae"
            ],
            [
             0.3,
             "#f1b6da"
            ],
            [
             0.4,
             "#fde0ef"
            ],
            [
             0.5,
             "#f7f7f7"
            ],
            [
             0.6,
             "#e6f5d0"
            ],
            [
             0.7,
             "#b8e186"
            ],
            [
             0.8,
             "#7fbc41"
            ],
            [
             0.9,
             "#4d9221"
            ],
            [
             1,
             "#276419"
            ]
           ],
           "sequential": [
            [
             0,
             "#0d0887"
            ],
            [
             0.1111111111111111,
             "#46039f"
            ],
            [
             0.2222222222222222,
             "#7201a8"
            ],
            [
             0.3333333333333333,
             "#9c179e"
            ],
            [
             0.4444444444444444,
             "#bd3786"
            ],
            [
             0.5555555555555556,
             "#d8576b"
            ],
            [
             0.6666666666666666,
             "#ed7953"
            ],
            [
             0.7777777777777778,
             "#fb9f3a"
            ],
            [
             0.8888888888888888,
             "#fdca26"
            ],
            [
             1,
             "#f0f921"
            ]
           ],
           "sequentialminus": [
            [
             0,
             "#0d0887"
            ],
            [
             0.1111111111111111,
             "#46039f"
            ],
            [
             0.2222222222222222,
             "#7201a8"
            ],
            [
             0.3333333333333333,
             "#9c179e"
            ],
            [
             0.4444444444444444,
             "#bd3786"
            ],
            [
             0.5555555555555556,
             "#d8576b"
            ],
            [
             0.6666666666666666,
             "#ed7953"
            ],
            [
             0.7777777777777778,
             "#fb9f3a"
            ],
            [
             0.8888888888888888,
             "#fdca26"
            ],
            [
             1,
             "#f0f921"
            ]
           ]
          },
          "colorway": [
           "#636efa",
           "#EF553B",
           "#00cc96",
           "#ab63fa",
           "#FFA15A",
           "#19d3f3",
           "#FF6692",
           "#B6E880",
           "#FF97FF",
           "#FECB52"
          ],
          "font": {
           "color": "#2a3f5f"
          },
          "geo": {
           "bgcolor": "white",
           "lakecolor": "white",
           "landcolor": "#E5ECF6",
           "showlakes": true,
           "showland": true,
           "subunitcolor": "white"
          },
          "hoverlabel": {
           "align": "left"
          },
          "hovermode": "closest",
          "mapbox": {
           "style": "light"
          },
          "paper_bgcolor": "white",
          "plot_bgcolor": "#E5ECF6",
          "polar": {
           "angularaxis": {
            "gridcolor": "white",
            "linecolor": "white",
            "ticks": ""
           },
           "bgcolor": "#E5ECF6",
           "radialaxis": {
            "gridcolor": "white",
            "linecolor": "white",
            "ticks": ""
           }
          },
          "scene": {
           "xaxis": {
            "backgroundcolor": "#E5ECF6",
            "gridcolor": "white",
            "gridwidth": 2,
            "linecolor": "white",
            "showbackground": true,
            "ticks": "",
            "zerolinecolor": "white"
           },
           "yaxis": {
            "backgroundcolor": "#E5ECF6",
            "gridcolor": "white",
            "gridwidth": 2,
            "linecolor": "white",
            "showbackground": true,
            "ticks": "",
            "zerolinecolor": "white"
           },
           "zaxis": {
            "backgroundcolor": "#E5ECF6",
            "gridcolor": "white",
            "gridwidth": 2,
            "linecolor": "white",
            "showbackground": true,
            "ticks": "",
            "zerolinecolor": "white"
           }
          },
          "shapedefaults": {
           "line": {
            "color": "#2a3f5f"
           }
          },
          "ternary": {
           "aaxis": {
            "gridcolor": "white",
            "linecolor": "white",
            "ticks": ""
           },
           "baxis": {
            "gridcolor": "white",
            "linecolor": "white",
            "ticks": ""
           },
           "bgcolor": "#E5ECF6",
           "caxis": {
            "gridcolor": "white",
            "linecolor": "white",
            "ticks": ""
           }
          },
          "title": {
           "x": 0.05
          },
          "xaxis": {
           "automargin": true,
           "gridcolor": "white",
           "linecolor": "white",
           "ticks": "",
           "title": {
            "standoff": 15
           },
           "zerolinecolor": "white",
           "zerolinewidth": 2
          },
          "yaxis": {
           "automargin": true,
           "gridcolor": "white",
           "linecolor": "white",
           "ticks": "",
           "title": {
            "standoff": 15
           },
           "zerolinecolor": "white",
           "zerolinewidth": 2
          }
         }
        },
        "xaxis": {
         "anchor": "y",
         "domain": [
          0,
          1
         ],
         "title": {
          "text": "City"
         }
        },
        "yaxis": {
         "anchor": "x",
         "domain": [
          0,
          1
         ],
         "title": {
          "text": "quatity score"
         }
        }
       }
      }
     },
     "metadata": {},
     "output_type": "display_data"
    }
   ],
   "source": [
    "fig=px.line(k_df,x='City',y='quatity score')\n",
    "fig.show()"
   ]
  },
  {
   "cell_type": "code",
   "execution_count": 6,
   "id": "1d349019",
   "metadata": {},
   "outputs": [],
   "source": [
    "k_df_bs = k_df2.sort_values(by=['business score'], ascending = False)"
   ]
  },
  {
   "cell_type": "code",
   "execution_count": 7,
   "id": "74a39055",
   "metadata": {},
   "outputs": [
    {
     "data": {
      "application/vnd.plotly.v1+json": {
       "config": {
        "plotlyServerURL": "https://plot.ly"
       },
       "data": [
        {
         "hovertemplate": "City=%{x}<br>business score=%{y}<extra></extra>",
         "legendgroup": "",
         "line": {
          "color": "#636efa",
          "dash": "solid"
         },
         "mode": "lines",
         "name": "",
         "orientation": "v",
         "showlegend": false,
         "type": "scatter",
         "x": [
          "San Francisco",
          "Indianapolis",
          "Pittsburgh",
          "Orlando",
          "Tampa",
          "Charlotte",
          "Nashville",
          "Columbus",
          "Madison",
          "Kansas City",
          "Sacramento",
          "Las Vegas",
          "Cincinnati",
          "San Antonio",
          "Provo",
          "New Orleans",
          "Wilmington",
          "Burlington",
          "Santa Cruz",
          "New York",
          "Baltimore",
          "Columbia",
          "Seattle",
          "Chicago",
          "Boston",
          "Miami",
          "Los Angeles",
          "Austin",
          "Dallas",
          "San Diego",
          "Atlanta",
          "Denver",
          "Philadelphia",
          "Phoenix",
          "Portland",
          "Minneapolis",
          "Houston",
          "Boulder",
          "Detroit",
          "Washington",
          "Albuquerque",
          "Raleigh",
          "St. Louis",
          "Buffalo",
          "Bend",
          "Salt Lake City",
          "Cleveland",
          "Louisville",
          "Lexington",
          "Milwaukee",
          "Jacksonville",
          "New Haven",
          "Omaha",
          "Richmond",
          "Charleston",
          "Hartford",
          "Lafayette",
          "Fort Collins",
          "Colorado Springs",
          "Providence",
          "Chattanooga",
          "Oklahoma City",
          "Rochester",
          "Fresno",
          "Tucson",
          "Grand Rapids",
          "Albany",
          "Little Rock",
          "Sarasota",
          "Honolulu",
          "Virginia Beach",
          "Fort Myers",
          "Reno",
          "Memphis",
          "Des Moines",
          "Lincoln",
          "Bloomington",
          "Knoxville",
          "Dover",
          "Worcester",
          "Greenville",
          "Fayetteville",
          "Springfield",
          "Syracuse",
          "Corvallis",
          "Spokane",
          "Asheville",
          "Anchorage",
          "Morristown",
          "Bakersfield",
          "Wichita",
          "Dayton",
          "Charlottesville",
          "Tulsa",
          "Savannah",
          "Ithaca",
          "Winston-Salem",
          "Gainesville",
          "Medford",
          "Santa Fe",
          "Santa Rosa",
          "Jackson",
          "Huntington",
          "Manchester",
          "San Luis Obispo",
          "Missoula",
          "Midland",
          "Harrisonburg",
          "Iowa City",
          "Portsmouth",
          "Cheyenne",
          "Eugene",
          "Harrisburg",
          "Akron",
          "Traverse City",
          "Greensboro",
          "Concord",
          "Lancaster",
          "Sioux Falls",
          "Lansing",
          "South Bend",
          "Carson City",
          "Michigan City",
          "Roswell",
          "Baton Rouge",
          "Cedar Rapids",
          "Bozeman",
          "State College",
          "Pensacola",
          "Duluth",
          "Champaign",
          "Danville",
          "College Station",
          "Lebanon",
          "Ames",
          "Blacksburg",
          "Lakeland",
          "Napa",
          "Grand Junction",
          "Fargo",
          "Tyler",
          "Tallahassee",
          "Truckee",
          "Green Bay",
          "Myrtle Beach",
          "Erie",
          "Panama City",
          "Allentown",
          "Scranton",
          "Mobile",
          "Corpus Christi",
          "Brunswick",
          "Chico",
          "Canton",
          "Redding",
          "Whitewater",
          "Athens",
          "Joplin",
          "Toledo",
          "Kalamazoo",
          "Appleton",
          "Topeka",
          "Idaho Falls",
          "Stockton",
          "Ocala",
          "El Paso",
          "Lawrence",
          "Reading",
          "Modesto",
          "Lubbock",
          "Fort Wayne",
          "Peoria",
          "Las Cruces",
          "Billings",
          "Huntsville",
          "Grand Forks",
          "Shreveport",
          "Binghamton",
          "Roanoke",
          "Bellingham",
          "Janesville",
          "Augusta",
          "Flint",
          "Atlantic City",
          "Montgomery",
          "Monroe",
          "Auburn",
          "Bangor",
          "Great Falls",
          "Winchester",
          "Bowling Green",
          "Shelton",
          "Lynchburg",
          "Gulfport",
          "Salinas"
         ],
         "xaxis": "x",
         "y": [
          3.8,
          3.8,
          3.8,
          3.8,
          3.8,
          3.8,
          3.8,
          3.8,
          3.8,
          3.8,
          3.8,
          3.8,
          3.8,
          3.8,
          3.8,
          3.8,
          3.8,
          3.8,
          3.8,
          3.8,
          3.8,
          3.8,
          3.8,
          3.8,
          3.8,
          3.8,
          3.8,
          3.8,
          3.8,
          3.8,
          3.8,
          3.8,
          3.8,
          3.8,
          3.8,
          3.8,
          3.8,
          3.8,
          3.8,
          3.8,
          3.58,
          3.58,
          3.36,
          3.28,
          3.21,
          3.19,
          3.18,
          2.7,
          2.52,
          2.37,
          2.3,
          2.1,
          2.04,
          1.95,
          1.62,
          1.55,
          1.46,
          1.43,
          1.39,
          1.34,
          1.34,
          1.31,
          1.31,
          1.28,
          1.17,
          1.15,
          1.09,
          1.08,
          1.06,
          0.99,
          0.98,
          0.98,
          0.95,
          0.9,
          0.9,
          0.81,
          0.77,
          0.76,
          0.76,
          0.72,
          0.68,
          0.68,
          0.67,
          0.67,
          0.65,
          0.64,
          0.64,
          0.63,
          0.61,
          0.61,
          0.58,
          0.57,
          0.54,
          0.53,
          0.5,
          0.5,
          0.5,
          0.5,
          0.47,
          0.46,
          0.46,
          0.46,
          0.44,
          0.44,
          0.43,
          0.43,
          0.42,
          0.41,
          0.4,
          0.39,
          0.38,
          0.37,
          0.36,
          0.35,
          0.35,
          0.35,
          0.35,
          0.33,
          0.33,
          0.33,
          0.32,
          0.31,
          0.3,
          0.3,
          0.29,
          0.29,
          0.28,
          0.28,
          0.28,
          0.27,
          0.27,
          0.26,
          0.26,
          0.26,
          0.25,
          0.25,
          0.24,
          0.23,
          0.23,
          0.23,
          0.22,
          0.22,
          0.22,
          0.21,
          0.21,
          0.21,
          0.19,
          0.19,
          0.19,
          0.19,
          0.19,
          0.19,
          0.19,
          0.18,
          0.18,
          0.18,
          0.17,
          0.17,
          0.17,
          0.17,
          0.17,
          0.17,
          0.17,
          0.17,
          0.17,
          0.16,
          0.16,
          0.16,
          0.16,
          0.16,
          0.16,
          0.15,
          0.15,
          0.15,
          0.15,
          0.15,
          0.15,
          0.14,
          0.14,
          0.14,
          0.14,
          0.14,
          0.14,
          0.14,
          0.13,
          0.13,
          0.13,
          0.13,
          0.12,
          0.12,
          0.12,
          0.12,
          0.1,
          0.1,
          0.1
         ],
         "yaxis": "y"
        }
       ],
       "layout": {
        "legend": {
         "tracegroupgap": 0
        },
        "margin": {
         "t": 60
        },
        "template": {
         "data": {
          "bar": [
           {
            "error_x": {
             "color": "#2a3f5f"
            },
            "error_y": {
             "color": "#2a3f5f"
            },
            "marker": {
             "line": {
              "color": "#E5ECF6",
              "width": 0.5
             },
             "pattern": {
              "fillmode": "overlay",
              "size": 10,
              "solidity": 0.2
             }
            },
            "type": "bar"
           }
          ],
          "barpolar": [
           {
            "marker": {
             "line": {
              "color": "#E5ECF6",
              "width": 0.5
             },
             "pattern": {
              "fillmode": "overlay",
              "size": 10,
              "solidity": 0.2
             }
            },
            "type": "barpolar"
           }
          ],
          "carpet": [
           {
            "aaxis": {
             "endlinecolor": "#2a3f5f",
             "gridcolor": "white",
             "linecolor": "white",
             "minorgridcolor": "white",
             "startlinecolor": "#2a3f5f"
            },
            "baxis": {
             "endlinecolor": "#2a3f5f",
             "gridcolor": "white",
             "linecolor": "white",
             "minorgridcolor": "white",
             "startlinecolor": "#2a3f5f"
            },
            "type": "carpet"
           }
          ],
          "choropleth": [
           {
            "colorbar": {
             "outlinewidth": 0,
             "ticks": ""
            },
            "type": "choropleth"
           }
          ],
          "contour": [
           {
            "colorbar": {
             "outlinewidth": 0,
             "ticks": ""
            },
            "colorscale": [
             [
              0,
              "#0d0887"
             ],
             [
              0.1111111111111111,
              "#46039f"
             ],
             [
              0.2222222222222222,
              "#7201a8"
             ],
             [
              0.3333333333333333,
              "#9c179e"
             ],
             [
              0.4444444444444444,
              "#bd3786"
             ],
             [
              0.5555555555555556,
              "#d8576b"
             ],
             [
              0.6666666666666666,
              "#ed7953"
             ],
             [
              0.7777777777777778,
              "#fb9f3a"
             ],
             [
              0.8888888888888888,
              "#fdca26"
             ],
             [
              1,
              "#f0f921"
             ]
            ],
            "type": "contour"
           }
          ],
          "contourcarpet": [
           {
            "colorbar": {
             "outlinewidth": 0,
             "ticks": ""
            },
            "type": "contourcarpet"
           }
          ],
          "heatmap": [
           {
            "colorbar": {
             "outlinewidth": 0,
             "ticks": ""
            },
            "colorscale": [
             [
              0,
              "#0d0887"
             ],
             [
              0.1111111111111111,
              "#46039f"
             ],
             [
              0.2222222222222222,
              "#7201a8"
             ],
             [
              0.3333333333333333,
              "#9c179e"
             ],
             [
              0.4444444444444444,
              "#bd3786"
             ],
             [
              0.5555555555555556,
              "#d8576b"
             ],
             [
              0.6666666666666666,
              "#ed7953"
             ],
             [
              0.7777777777777778,
              "#fb9f3a"
             ],
             [
              0.8888888888888888,
              "#fdca26"
             ],
             [
              1,
              "#f0f921"
             ]
            ],
            "type": "heatmap"
           }
          ],
          "heatmapgl": [
           {
            "colorbar": {
             "outlinewidth": 0,
             "ticks": ""
            },
            "colorscale": [
             [
              0,
              "#0d0887"
             ],
             [
              0.1111111111111111,
              "#46039f"
             ],
             [
              0.2222222222222222,
              "#7201a8"
             ],
             [
              0.3333333333333333,
              "#9c179e"
             ],
             [
              0.4444444444444444,
              "#bd3786"
             ],
             [
              0.5555555555555556,
              "#d8576b"
             ],
             [
              0.6666666666666666,
              "#ed7953"
             ],
             [
              0.7777777777777778,
              "#fb9f3a"
             ],
             [
              0.8888888888888888,
              "#fdca26"
             ],
             [
              1,
              "#f0f921"
             ]
            ],
            "type": "heatmapgl"
           }
          ],
          "histogram": [
           {
            "marker": {
             "pattern": {
              "fillmode": "overlay",
              "size": 10,
              "solidity": 0.2
             }
            },
            "type": "histogram"
           }
          ],
          "histogram2d": [
           {
            "colorbar": {
             "outlinewidth": 0,
             "ticks": ""
            },
            "colorscale": [
             [
              0,
              "#0d0887"
             ],
             [
              0.1111111111111111,
              "#46039f"
             ],
             [
              0.2222222222222222,
              "#7201a8"
             ],
             [
              0.3333333333333333,
              "#9c179e"
             ],
             [
              0.4444444444444444,
              "#bd3786"
             ],
             [
              0.5555555555555556,
              "#d8576b"
             ],
             [
              0.6666666666666666,
              "#ed7953"
             ],
             [
              0.7777777777777778,
              "#fb9f3a"
             ],
             [
              0.8888888888888888,
              "#fdca26"
             ],
             [
              1,
              "#f0f921"
             ]
            ],
            "type": "histogram2d"
           }
          ],
          "histogram2dcontour": [
           {
            "colorbar": {
             "outlinewidth": 0,
             "ticks": ""
            },
            "colorscale": [
             [
              0,
              "#0d0887"
             ],
             [
              0.1111111111111111,
              "#46039f"
             ],
             [
              0.2222222222222222,
              "#7201a8"
             ],
             [
              0.3333333333333333,
              "#9c179e"
             ],
             [
              0.4444444444444444,
              "#bd3786"
             ],
             [
              0.5555555555555556,
              "#d8576b"
             ],
             [
              0.6666666666666666,
              "#ed7953"
             ],
             [
              0.7777777777777778,
              "#fb9f3a"
             ],
             [
              0.8888888888888888,
              "#fdca26"
             ],
             [
              1,
              "#f0f921"
             ]
            ],
            "type": "histogram2dcontour"
           }
          ],
          "mesh3d": [
           {
            "colorbar": {
             "outlinewidth": 0,
             "ticks": ""
            },
            "type": "mesh3d"
           }
          ],
          "parcoords": [
           {
            "line": {
             "colorbar": {
              "outlinewidth": 0,
              "ticks": ""
             }
            },
            "type": "parcoords"
           }
          ],
          "pie": [
           {
            "automargin": true,
            "type": "pie"
           }
          ],
          "scatter": [
           {
            "marker": {
             "colorbar": {
              "outlinewidth": 0,
              "ticks": ""
             }
            },
            "type": "scatter"
           }
          ],
          "scatter3d": [
           {
            "line": {
             "colorbar": {
              "outlinewidth": 0,
              "ticks": ""
             }
            },
            "marker": {
             "colorbar": {
              "outlinewidth": 0,
              "ticks": ""
             }
            },
            "type": "scatter3d"
           }
          ],
          "scattercarpet": [
           {
            "marker": {
             "colorbar": {
              "outlinewidth": 0,
              "ticks": ""
             }
            },
            "type": "scattercarpet"
           }
          ],
          "scattergeo": [
           {
            "marker": {
             "colorbar": {
              "outlinewidth": 0,
              "ticks": ""
             }
            },
            "type": "scattergeo"
           }
          ],
          "scattergl": [
           {
            "marker": {
             "colorbar": {
              "outlinewidth": 0,
              "ticks": ""
             }
            },
            "type": "scattergl"
           }
          ],
          "scattermapbox": [
           {
            "marker": {
             "colorbar": {
              "outlinewidth": 0,
              "ticks": ""
             }
            },
            "type": "scattermapbox"
           }
          ],
          "scatterpolar": [
           {
            "marker": {
             "colorbar": {
              "outlinewidth": 0,
              "ticks": ""
             }
            },
            "type": "scatterpolar"
           }
          ],
          "scatterpolargl": [
           {
            "marker": {
             "colorbar": {
              "outlinewidth": 0,
              "ticks": ""
             }
            },
            "type": "scatterpolargl"
           }
          ],
          "scatterternary": [
           {
            "marker": {
             "colorbar": {
              "outlinewidth": 0,
              "ticks": ""
             }
            },
            "type": "scatterternary"
           }
          ],
          "surface": [
           {
            "colorbar": {
             "outlinewidth": 0,
             "ticks": ""
            },
            "colorscale": [
             [
              0,
              "#0d0887"
             ],
             [
              0.1111111111111111,
              "#46039f"
             ],
             [
              0.2222222222222222,
              "#7201a8"
             ],
             [
              0.3333333333333333,
              "#9c179e"
             ],
             [
              0.4444444444444444,
              "#bd3786"
             ],
             [
              0.5555555555555556,
              "#d8576b"
             ],
             [
              0.6666666666666666,
              "#ed7953"
             ],
             [
              0.7777777777777778,
              "#fb9f3a"
             ],
             [
              0.8888888888888888,
              "#fdca26"
             ],
             [
              1,
              "#f0f921"
             ]
            ],
            "type": "surface"
           }
          ],
          "table": [
           {
            "cells": {
             "fill": {
              "color": "#EBF0F8"
             },
             "line": {
              "color": "white"
             }
            },
            "header": {
             "fill": {
              "color": "#C8D4E3"
             },
             "line": {
              "color": "white"
             }
            },
            "type": "table"
           }
          ]
         },
         "layout": {
          "annotationdefaults": {
           "arrowcolor": "#2a3f5f",
           "arrowhead": 0,
           "arrowwidth": 1
          },
          "autotypenumbers": "strict",
          "coloraxis": {
           "colorbar": {
            "outlinewidth": 0,
            "ticks": ""
           }
          },
          "colorscale": {
           "diverging": [
            [
             0,
             "#8e0152"
            ],
            [
             0.1,
             "#c51b7d"
            ],
            [
             0.2,
             "#de77ae"
            ],
            [
             0.3,
             "#f1b6da"
            ],
            [
             0.4,
             "#fde0ef"
            ],
            [
             0.5,
             "#f7f7f7"
            ],
            [
             0.6,
             "#e6f5d0"
            ],
            [
             0.7,
             "#b8e186"
            ],
            [
             0.8,
             "#7fbc41"
            ],
            [
             0.9,
             "#4d9221"
            ],
            [
             1,
             "#276419"
            ]
           ],
           "sequential": [
            [
             0,
             "#0d0887"
            ],
            [
             0.1111111111111111,
             "#46039f"
            ],
            [
             0.2222222222222222,
             "#7201a8"
            ],
            [
             0.3333333333333333,
             "#9c179e"
            ],
            [
             0.4444444444444444,
             "#bd3786"
            ],
            [
             0.5555555555555556,
             "#d8576b"
            ],
            [
             0.6666666666666666,
             "#ed7953"
            ],
            [
             0.7777777777777778,
             "#fb9f3a"
            ],
            [
             0.8888888888888888,
             "#fdca26"
            ],
            [
             1,
             "#f0f921"
            ]
           ],
           "sequentialminus": [
            [
             0,
             "#0d0887"
            ],
            [
             0.1111111111111111,
             "#46039f"
            ],
            [
             0.2222222222222222,
             "#7201a8"
            ],
            [
             0.3333333333333333,
             "#9c179e"
            ],
            [
             0.4444444444444444,
             "#bd3786"
            ],
            [
             0.5555555555555556,
             "#d8576b"
            ],
            [
             0.6666666666666666,
             "#ed7953"
            ],
            [
             0.7777777777777778,
             "#fb9f3a"
            ],
            [
             0.8888888888888888,
             "#fdca26"
            ],
            [
             1,
             "#f0f921"
            ]
           ]
          },
          "colorway": [
           "#636efa",
           "#EF553B",
           "#00cc96",
           "#ab63fa",
           "#FFA15A",
           "#19d3f3",
           "#FF6692",
           "#B6E880",
           "#FF97FF",
           "#FECB52"
          ],
          "font": {
           "color": "#2a3f5f"
          },
          "geo": {
           "bgcolor": "white",
           "lakecolor": "white",
           "landcolor": "#E5ECF6",
           "showlakes": true,
           "showland": true,
           "subunitcolor": "white"
          },
          "hoverlabel": {
           "align": "left"
          },
          "hovermode": "closest",
          "mapbox": {
           "style": "light"
          },
          "paper_bgcolor": "white",
          "plot_bgcolor": "#E5ECF6",
          "polar": {
           "angularaxis": {
            "gridcolor": "white",
            "linecolor": "white",
            "ticks": ""
           },
           "bgcolor": "#E5ECF6",
           "radialaxis": {
            "gridcolor": "white",
            "linecolor": "white",
            "ticks": ""
           }
          },
          "scene": {
           "xaxis": {
            "backgroundcolor": "#E5ECF6",
            "gridcolor": "white",
            "gridwidth": 2,
            "linecolor": "white",
            "showbackground": true,
            "ticks": "",
            "zerolinecolor": "white"
           },
           "yaxis": {
            "backgroundcolor": "#E5ECF6",
            "gridcolor": "white",
            "gridwidth": 2,
            "linecolor": "white",
            "showbackground": true,
            "ticks": "",
            "zerolinecolor": "white"
           },
           "zaxis": {
            "backgroundcolor": "#E5ECF6",
            "gridcolor": "white",
            "gridwidth": 2,
            "linecolor": "white",
            "showbackground": true,
            "ticks": "",
            "zerolinecolor": "white"
           }
          },
          "shapedefaults": {
           "line": {
            "color": "#2a3f5f"
           }
          },
          "ternary": {
           "aaxis": {
            "gridcolor": "white",
            "linecolor": "white",
            "ticks": ""
           },
           "baxis": {
            "gridcolor": "white",
            "linecolor": "white",
            "ticks": ""
           },
           "bgcolor": "#E5ECF6",
           "caxis": {
            "gridcolor": "white",
            "linecolor": "white",
            "ticks": ""
           }
          },
          "title": {
           "x": 0.05
          },
          "xaxis": {
           "automargin": true,
           "gridcolor": "white",
           "linecolor": "white",
           "ticks": "",
           "title": {
            "standoff": 15
           },
           "zerolinecolor": "white",
           "zerolinewidth": 2
          },
          "yaxis": {
           "automargin": true,
           "gridcolor": "white",
           "linecolor": "white",
           "ticks": "",
           "title": {
            "standoff": 15
           },
           "zerolinecolor": "white",
           "zerolinewidth": 2
          }
         }
        },
        "xaxis": {
         "anchor": "y",
         "domain": [
          0,
          1
         ],
         "title": {
          "text": "City"
         }
        },
        "yaxis": {
         "anchor": "x",
         "domain": [
          0,
          1
         ],
         "title": {
          "text": "business score"
         }
        }
       }
      }
     },
     "metadata": {},
     "output_type": "display_data"
    }
   ],
   "source": [
    "fig=px.line(k_df_bs,x='City',y='business score')\n",
    "fig.show()"
   ]
  },
  {
   "cell_type": "code",
   "execution_count": 8,
   "id": "fc15a007",
   "metadata": {},
   "outputs": [
    {
     "data": {
      "application/vnd.plotly.v1+json": {
       "config": {
        "plotlyServerURL": "https://plot.ly"
       },
       "data": [
        {
         "hovertemplate": "City=%{x}<br>Cost of Living Index=%{y}<extra></extra>",
         "legendgroup": "",
         "line": {
          "color": "#636efa",
          "dash": "solid"
         },
         "mode": "lines",
         "name": "",
         "orientation": "v",
         "showlegend": false,
         "type": "scatter",
         "x": [
          "Danville",
          "Charleston",
          "Richmond",
          "Huntington",
          "Portsmouth",
          "Joplin",
          "Topeka",
          "Flint",
          "Shreveport",
          "Roswell",
          "Monroe",
          "Tulsa",
          "Peoria",
          "Gulfport",
          "Wichita",
          "Fort Wayne",
          "Midland",
          "Bowling Green",
          "South Bend",
          "Morristown",
          "Albany",
          "Oklahoma City",
          "Jackson",
          "Toledo",
          "Springfield",
          "Michigan City",
          "Little Rock",
          "Cedar Rapids",
          "Canton",
          "Memphis",
          "Mobile",
          "Dayton",
          "Athens",
          "Montgomery",
          "Columbus",
          "El Paso",
          "Lansing",
          "Las Cruces",
          "Lubbock",
          "Champaign",
          "Kalamazoo",
          "Akron",
          "Fayetteville",
          "Cleveland",
          "Lafayette",
          "St. Louis",
          "Greenville",
          "Columbia",
          "Janesville",
          "Indianapolis",
          "Grand Forks",
          "Birmingham",
          "Appleton",
          "Greensboro",
          "Baton Rouge",
          "Great Falls",
          "Lexington",
          "Chattanooga",
          "Winston-Salem",
          "Scranton",
          "Huntsville",
          "Fargo",
          "Ames",
          "Louisville",
          "Kansas City",
          "Lawrence",
          "Knoxville",
          "Augusta",
          "Des Moines",
          "Idaho Falls",
          "Burlington",
          "Erie",
          "College Station",
          "Bloomington",
          "Cincinnati",
          "New Orleans",
          "San Antonio",
          "Sioux Falls",
          "Tyler",
          "Omaha",
          "Albuquerque",
          "Pittsburgh",
          "Detroit",
          "Duluth",
          "Binghamton",
          "Corpus Christi",
          "Iowa City",
          "Lynchburg",
          "Auburn",
          "Grand Rapids",
          "Milwaukee",
          "Roanoke",
          "Brunswick",
          "Blacksburg",
          "Ocala",
          "Lincoln",
          "Myrtle Beach",
          "Syracuse",
          "Lebanon",
          "Harrisonburg",
          "Billings",
          "Harrisburg",
          "Houston",
          "Reading",
          "Lakeland",
          "Tallahassee",
          "Cheyenne",
          "Winchester",
          "Buffalo",
          "Gainesville",
          "Rochester",
          "Savannah",
          "Whitewater",
          "Tucson",
          "Pensacola",
          "Charlotte",
          "Bangor",
          "Grand Junction",
          "Dallas",
          "Allentown",
          "Virginia Beach",
          "Jacksonville",
          "Wilmington",
          "Madison",
          "Lancaster",
          "Traverse City",
          "Raleigh",
          "State College",
          "Chicago",
          "Nashville",
          "Atlanta",
          "Boise City",
          "Spokane",
          "Las Vegas",
          "Provo",
          "Dover",
          "Tampa",
          "Orlando",
          "Fort Myers",
          "Ithaca",
          "Panama City",
          "Atlantic City",
          "Charlottesville",
          "Colorado Springs",
          "Bakersfield",
          "Carson City",
          "Asheville",
          "Missoula",
          "Philadelphia",
          "Phoenix",
          "Sarasota",
          "Hartford",
          "Santa Fe",
          "Minneapolis",
          "Salt Lake City",
          "Fresno",
          "Austin",
          "Baltimore",
          "Reno",
          "Medford",
          "New Haven",
          "Concord",
          "Eugene",
          "Redding",
          "Fort Collins",
          "Shelton",
          "Manchester",
          "Miami",
          "Chico",
          "Corvallis",
          "Anchorage",
          "Providence",
          "Bellingham",
          "Denver",
          "Modesto",
          "Portland",
          "Worcester",
          "Stockton",
          "Bend",
          "Boulder",
          "Washington",
          "Sacramento",
          "Seattle",
          "Bozeman",
          "New York",
          "Boston",
          "Truckee",
          "San Luis Obispo",
          "San Diego",
          "Salinas",
          "Los Angeles",
          "Santa Rosa",
          "Napa",
          "Honolulu",
          "Santa Cruz",
          "San Francisco"
         ],
         "xaxis": "x",
         "y": [
          83.9,
          83.9,
          84.2,
          84.3,
          84.7,
          85.2,
          85.6,
          85.7,
          85.8,
          86.3,
          86.5,
          86.7,
          86.7,
          86.8,
          86.8,
          86.8,
          87,
          87,
          87.2,
          87.3,
          87.3,
          87.3,
          87.4,
          87.5,
          87.5,
          87.8,
          88,
          88.1,
          88.2,
          88.2,
          88.3,
          88.4,
          88.5,
          88.5,
          88.5,
          88.6,
          88.7,
          88.8,
          88.8,
          89,
          89.3,
          89.4,
          89.5,
          89.5,
          89.6,
          89.6,
          89.8,
          89.8,
          89.8,
          90.2,
          90.7,
          90.7,
          90.7,
          91,
          91.1,
          91.1,
          91.1,
          91.2,
          91.2,
          91.3,
          91.3,
          91.4,
          91.5,
          91.6,
          91.6,
          91.6,
          91.6,
          91.6,
          91.7,
          91.7,
          91.8,
          91.8,
          92.3,
          92.4,
          92.4,
          92.4,
          92.7,
          92.8,
          92.8,
          92.9,
          92.9,
          93.1,
          93.2,
          93.2,
          93.3,
          93.3,
          93.5,
          93.6,
          93.7,
          93.7,
          93.8,
          94.1,
          94.4,
          94.5,
          94.5,
          94.7,
          94.7,
          95.1,
          95.4,
          95.5,
          95.7,
          95.8,
          95.8,
          96,
          96.4,
          96.4,
          96.9,
          97.2,
          97.3,
          97.3,
          97.3,
          97.3,
          97.7,
          97.7,
          97.9,
          97.9,
          98,
          98.1,
          98.5,
          98.9,
          99,
          99,
          99,
          99.5,
          99.5,
          99.6,
          99.7,
          99.8,
          100.1,
          100.1,
          100.3,
          100.3,
          100.4,
          100.7,
          100.9,
          101.3,
          101.4,
          101.4,
          101.5,
          101.7,
          101.9,
          102,
          102.1,
          102.2,
          102.9,
          103,
          103.3,
          103.4,
          103.4,
          104.3,
          104.4,
          104.8,
          105.1,
          105.4,
          105.9,
          105.9,
          106.6,
          107,
          107.4,
          107.5,
          107.7,
          108.3,
          108.4,
          108.7,
          109.2,
          109.6,
          109.6,
          110.1,
          110.5,
          110.6,
          110.7,
          111.5,
          111.6,
          112.1,
          112.3,
          113,
          113.2,
          113.6,
          115.9,
          118.7,
          120.1,
          120.3,
          124.6,
          125.3,
          128,
          132.6,
          132.8,
          136.1,
          136.2,
          138.3,
          140.6,
          141.7,
          149.6,
          158,
          163.9,
          178.6
         ],
         "yaxis": "y"
        }
       ],
       "layout": {
        "legend": {
         "tracegroupgap": 0
        },
        "margin": {
         "t": 60
        },
        "template": {
         "data": {
          "bar": [
           {
            "error_x": {
             "color": "#2a3f5f"
            },
            "error_y": {
             "color": "#2a3f5f"
            },
            "marker": {
             "line": {
              "color": "#E5ECF6",
              "width": 0.5
             },
             "pattern": {
              "fillmode": "overlay",
              "size": 10,
              "solidity": 0.2
             }
            },
            "type": "bar"
           }
          ],
          "barpolar": [
           {
            "marker": {
             "line": {
              "color": "#E5ECF6",
              "width": 0.5
             },
             "pattern": {
              "fillmode": "overlay",
              "size": 10,
              "solidity": 0.2
             }
            },
            "type": "barpolar"
           }
          ],
          "carpet": [
           {
            "aaxis": {
             "endlinecolor": "#2a3f5f",
             "gridcolor": "white",
             "linecolor": "white",
             "minorgridcolor": "white",
             "startlinecolor": "#2a3f5f"
            },
            "baxis": {
             "endlinecolor": "#2a3f5f",
             "gridcolor": "white",
             "linecolor": "white",
             "minorgridcolor": "white",
             "startlinecolor": "#2a3f5f"
            },
            "type": "carpet"
           }
          ],
          "choropleth": [
           {
            "colorbar": {
             "outlinewidth": 0,
             "ticks": ""
            },
            "type": "choropleth"
           }
          ],
          "contour": [
           {
            "colorbar": {
             "outlinewidth": 0,
             "ticks": ""
            },
            "colorscale": [
             [
              0,
              "#0d0887"
             ],
             [
              0.1111111111111111,
              "#46039f"
             ],
             [
              0.2222222222222222,
              "#7201a8"
             ],
             [
              0.3333333333333333,
              "#9c179e"
             ],
             [
              0.4444444444444444,
              "#bd3786"
             ],
             [
              0.5555555555555556,
              "#d8576b"
             ],
             [
              0.6666666666666666,
              "#ed7953"
             ],
             [
              0.7777777777777778,
              "#fb9f3a"
             ],
             [
              0.8888888888888888,
              "#fdca26"
             ],
             [
              1,
              "#f0f921"
             ]
            ],
            "type": "contour"
           }
          ],
          "contourcarpet": [
           {
            "colorbar": {
             "outlinewidth": 0,
             "ticks": ""
            },
            "type": "contourcarpet"
           }
          ],
          "heatmap": [
           {
            "colorbar": {
             "outlinewidth": 0,
             "ticks": ""
            },
            "colorscale": [
             [
              0,
              "#0d0887"
             ],
             [
              0.1111111111111111,
              "#46039f"
             ],
             [
              0.2222222222222222,
              "#7201a8"
             ],
             [
              0.3333333333333333,
              "#9c179e"
             ],
             [
              0.4444444444444444,
              "#bd3786"
             ],
             [
              0.5555555555555556,
              "#d8576b"
             ],
             [
              0.6666666666666666,
              "#ed7953"
             ],
             [
              0.7777777777777778,
              "#fb9f3a"
             ],
             [
              0.8888888888888888,
              "#fdca26"
             ],
             [
              1,
              "#f0f921"
             ]
            ],
            "type": "heatmap"
           }
          ],
          "heatmapgl": [
           {
            "colorbar": {
             "outlinewidth": 0,
             "ticks": ""
            },
            "colorscale": [
             [
              0,
              "#0d0887"
             ],
             [
              0.1111111111111111,
              "#46039f"
             ],
             [
              0.2222222222222222,
              "#7201a8"
             ],
             [
              0.3333333333333333,
              "#9c179e"
             ],
             [
              0.4444444444444444,
              "#bd3786"
             ],
             [
              0.5555555555555556,
              "#d8576b"
             ],
             [
              0.6666666666666666,
              "#ed7953"
             ],
             [
              0.7777777777777778,
              "#fb9f3a"
             ],
             [
              0.8888888888888888,
              "#fdca26"
             ],
             [
              1,
              "#f0f921"
             ]
            ],
            "type": "heatmapgl"
           }
          ],
          "histogram": [
           {
            "marker": {
             "pattern": {
              "fillmode": "overlay",
              "size": 10,
              "solidity": 0.2
             }
            },
            "type": "histogram"
           }
          ],
          "histogram2d": [
           {
            "colorbar": {
             "outlinewidth": 0,
             "ticks": ""
            },
            "colorscale": [
             [
              0,
              "#0d0887"
             ],
             [
              0.1111111111111111,
              "#46039f"
             ],
             [
              0.2222222222222222,
              "#7201a8"
             ],
             [
              0.3333333333333333,
              "#9c179e"
             ],
             [
              0.4444444444444444,
              "#bd3786"
             ],
             [
              0.5555555555555556,
              "#d8576b"
             ],
             [
              0.6666666666666666,
              "#ed7953"
             ],
             [
              0.7777777777777778,
              "#fb9f3a"
             ],
             [
              0.8888888888888888,
              "#fdca26"
             ],
             [
              1,
              "#f0f921"
             ]
            ],
            "type": "histogram2d"
           }
          ],
          "histogram2dcontour": [
           {
            "colorbar": {
             "outlinewidth": 0,
             "ticks": ""
            },
            "colorscale": [
             [
              0,
              "#0d0887"
             ],
             [
              0.1111111111111111,
              "#46039f"
             ],
             [
              0.2222222222222222,
              "#7201a8"
             ],
             [
              0.3333333333333333,
              "#9c179e"
             ],
             [
              0.4444444444444444,
              "#bd3786"
             ],
             [
              0.5555555555555556,
              "#d8576b"
             ],
             [
              0.6666666666666666,
              "#ed7953"
             ],
             [
              0.7777777777777778,
              "#fb9f3a"
             ],
             [
              0.8888888888888888,
              "#fdca26"
             ],
             [
              1,
              "#f0f921"
             ]
            ],
            "type": "histogram2dcontour"
           }
          ],
          "mesh3d": [
           {
            "colorbar": {
             "outlinewidth": 0,
             "ticks": ""
            },
            "type": "mesh3d"
           }
          ],
          "parcoords": [
           {
            "line": {
             "colorbar": {
              "outlinewidth": 0,
              "ticks": ""
             }
            },
            "type": "parcoords"
           }
          ],
          "pie": [
           {
            "automargin": true,
            "type": "pie"
           }
          ],
          "scatter": [
           {
            "marker": {
             "colorbar": {
              "outlinewidth": 0,
              "ticks": ""
             }
            },
            "type": "scatter"
           }
          ],
          "scatter3d": [
           {
            "line": {
             "colorbar": {
              "outlinewidth": 0,
              "ticks": ""
             }
            },
            "marker": {
             "colorbar": {
              "outlinewidth": 0,
              "ticks": ""
             }
            },
            "type": "scatter3d"
           }
          ],
          "scattercarpet": [
           {
            "marker": {
             "colorbar": {
              "outlinewidth": 0,
              "ticks": ""
             }
            },
            "type": "scattercarpet"
           }
          ],
          "scattergeo": [
           {
            "marker": {
             "colorbar": {
              "outlinewidth": 0,
              "ticks": ""
             }
            },
            "type": "scattergeo"
           }
          ],
          "scattergl": [
           {
            "marker": {
             "colorbar": {
              "outlinewidth": 0,
              "ticks": ""
             }
            },
            "type": "scattergl"
           }
          ],
          "scattermapbox": [
           {
            "marker": {
             "colorbar": {
              "outlinewidth": 0,
              "ticks": ""
             }
            },
            "type": "scattermapbox"
           }
          ],
          "scatterpolar": [
           {
            "marker": {
             "colorbar": {
              "outlinewidth": 0,
              "ticks": ""
             }
            },
            "type": "scatterpolar"
           }
          ],
          "scatterpolargl": [
           {
            "marker": {
             "colorbar": {
              "outlinewidth": 0,
              "ticks": ""
             }
            },
            "type": "scatterpolargl"
           }
          ],
          "scatterternary": [
           {
            "marker": {
             "colorbar": {
              "outlinewidth": 0,
              "ticks": ""
             }
            },
            "type": "scatterternary"
           }
          ],
          "surface": [
           {
            "colorbar": {
             "outlinewidth": 0,
             "ticks": ""
            },
            "colorscale": [
             [
              0,
              "#0d0887"
             ],
             [
              0.1111111111111111,
              "#46039f"
             ],
             [
              0.2222222222222222,
              "#7201a8"
             ],
             [
              0.3333333333333333,
              "#9c179e"
             ],
             [
              0.4444444444444444,
              "#bd3786"
             ],
             [
              0.5555555555555556,
              "#d8576b"
             ],
             [
              0.6666666666666666,
              "#ed7953"
             ],
             [
              0.7777777777777778,
              "#fb9f3a"
             ],
             [
              0.8888888888888888,
              "#fdca26"
             ],
             [
              1,
              "#f0f921"
             ]
            ],
            "type": "surface"
           }
          ],
          "table": [
           {
            "cells": {
             "fill": {
              "color": "#EBF0F8"
             },
             "line": {
              "color": "white"
             }
            },
            "header": {
             "fill": {
              "color": "#C8D4E3"
             },
             "line": {
              "color": "white"
             }
            },
            "type": "table"
           }
          ]
         },
         "layout": {
          "annotationdefaults": {
           "arrowcolor": "#2a3f5f",
           "arrowhead": 0,
           "arrowwidth": 1
          },
          "autotypenumbers": "strict",
          "coloraxis": {
           "colorbar": {
            "outlinewidth": 0,
            "ticks": ""
           }
          },
          "colorscale": {
           "diverging": [
            [
             0,
             "#8e0152"
            ],
            [
             0.1,
             "#c51b7d"
            ],
            [
             0.2,
             "#de77ae"
            ],
            [
             0.3,
             "#f1b6da"
            ],
            [
             0.4,
             "#fde0ef"
            ],
            [
             0.5,
             "#f7f7f7"
            ],
            [
             0.6,
             "#e6f5d0"
            ],
            [
             0.7,
             "#b8e186"
            ],
            [
             0.8,
             "#7fbc41"
            ],
            [
             0.9,
             "#4d9221"
            ],
            [
             1,
             "#276419"
            ]
           ],
           "sequential": [
            [
             0,
             "#0d0887"
            ],
            [
             0.1111111111111111,
             "#46039f"
            ],
            [
             0.2222222222222222,
             "#7201a8"
            ],
            [
             0.3333333333333333,
             "#9c179e"
            ],
            [
             0.4444444444444444,
             "#bd3786"
            ],
            [
             0.5555555555555556,
             "#d8576b"
            ],
            [
             0.6666666666666666,
             "#ed7953"
            ],
            [
             0.7777777777777778,
             "#fb9f3a"
            ],
            [
             0.8888888888888888,
             "#fdca26"
            ],
            [
             1,
             "#f0f921"
            ]
           ],
           "sequentialminus": [
            [
             0,
             "#0d0887"
            ],
            [
             0.1111111111111111,
             "#46039f"
            ],
            [
             0.2222222222222222,
             "#7201a8"
            ],
            [
             0.3333333333333333,
             "#9c179e"
            ],
            [
             0.4444444444444444,
             "#bd3786"
            ],
            [
             0.5555555555555556,
             "#d8576b"
            ],
            [
             0.6666666666666666,
             "#ed7953"
            ],
            [
             0.7777777777777778,
             "#fb9f3a"
            ],
            [
             0.8888888888888888,
             "#fdca26"
            ],
            [
             1,
             "#f0f921"
            ]
           ]
          },
          "colorway": [
           "#636efa",
           "#EF553B",
           "#00cc96",
           "#ab63fa",
           "#FFA15A",
           "#19d3f3",
           "#FF6692",
           "#B6E880",
           "#FF97FF",
           "#FECB52"
          ],
          "font": {
           "color": "#2a3f5f"
          },
          "geo": {
           "bgcolor": "white",
           "lakecolor": "white",
           "landcolor": "#E5ECF6",
           "showlakes": true,
           "showland": true,
           "subunitcolor": "white"
          },
          "hoverlabel": {
           "align": "left"
          },
          "hovermode": "closest",
          "mapbox": {
           "style": "light"
          },
          "paper_bgcolor": "white",
          "plot_bgcolor": "#E5ECF6",
          "polar": {
           "angularaxis": {
            "gridcolor": "white",
            "linecolor": "white",
            "ticks": ""
           },
           "bgcolor": "#E5ECF6",
           "radialaxis": {
            "gridcolor": "white",
            "linecolor": "white",
            "ticks": ""
           }
          },
          "scene": {
           "xaxis": {
            "backgroundcolor": "#E5ECF6",
            "gridcolor": "white",
            "gridwidth": 2,
            "linecolor": "white",
            "showbackground": true,
            "ticks": "",
            "zerolinecolor": "white"
           },
           "yaxis": {
            "backgroundcolor": "#E5ECF6",
            "gridcolor": "white",
            "gridwidth": 2,
            "linecolor": "white",
            "showbackground": true,
            "ticks": "",
            "zerolinecolor": "white"
           },
           "zaxis": {
            "backgroundcolor": "#E5ECF6",
            "gridcolor": "white",
            "gridwidth": 2,
            "linecolor": "white",
            "showbackground": true,
            "ticks": "",
            "zerolinecolor": "white"
           }
          },
          "shapedefaults": {
           "line": {
            "color": "#2a3f5f"
           }
          },
          "ternary": {
           "aaxis": {
            "gridcolor": "white",
            "linecolor": "white",
            "ticks": ""
           },
           "baxis": {
            "gridcolor": "white",
            "linecolor": "white",
            "ticks": ""
           },
           "bgcolor": "#E5ECF6",
           "caxis": {
            "gridcolor": "white",
            "linecolor": "white",
            "ticks": ""
           }
          },
          "title": {
           "x": 0.05
          },
          "xaxis": {
           "automargin": true,
           "gridcolor": "white",
           "linecolor": "white",
           "ticks": "",
           "title": {
            "standoff": 15
           },
           "zerolinecolor": "white",
           "zerolinewidth": 2
          },
          "yaxis": {
           "automargin": true,
           "gridcolor": "white",
           "linecolor": "white",
           "ticks": "",
           "title": {
            "standoff": 15
           },
           "zerolinecolor": "white",
           "zerolinewidth": 2
          }
         }
        },
        "xaxis": {
         "anchor": "y",
         "domain": [
          0,
          1
         ],
         "title": {
          "text": "City"
         }
        },
        "yaxis": {
         "anchor": "x",
         "domain": [
          0,
          1
         ],
         "title": {
          "text": "Cost of Living Index"
         }
        }
       }
      }
     },
     "metadata": {},
     "output_type": "display_data"
    }
   ],
   "source": [
    "tp=k_df.sort_values(by=['Cost of Living Index'],ascending = False)\n",
    "fig=px.line(tp,x='City',y='Cost of Living Index')\n",
    "fig.show()"
   ]
  },
  {
   "cell_type": "code",
   "execution_count": 19,
   "id": "eb6fe040",
   "metadata": {},
   "outputs": [
    {
     "data": {
      "application/vnd.plotly.v1+json": {
       "config": {
        "plotlyServerURL": "https://plot.ly"
       },
       "data": [
        {
         "name": "Quality Score",
         "type": "bar",
         "x": [
          "San Francisco",
          "New York",
          "Los Angeles",
          "Boston",
          "Chicago",
          "Seattle",
          "Washington",
          "Miami",
          "Austin",
          "Dallas",
          "San Diego",
          "Atlanta",
          "Denver",
          "Philadelphia",
          "Phoenix",
          "Portland",
          "Houston",
          "Boulder",
          "Detroit",
          "Minneapolis",
          "Las Vegas",
          "Baltimore",
          "Pittsburgh",
          "Orlando",
          "Tampa",
          "Charlotte",
          "Columbus",
          "Nashville",
          "Madison",
          "Kansas City",
          "Indianapolis",
          "Cincinnati",
          "Sacramento",
          "San Antonio",
          "Provo",
          "New Orleans",
          "Wilmington",
          "Burlington",
          "Columbia",
          "Santa Cruz",
          "Raleigh",
          "Albuquerque",
          "St. Louis",
          "Buffalo",
          "Bend",
          "Salt Lake City",
          "Cleveland",
          "Louisville",
          "Lexington",
          "Milwaukee",
          "Jacksonville",
          "New Haven",
          "Omaha",
          "Richmond",
          "Boise City",
          "Charleston",
          "Hartford",
          "Birmingham",
          "Lafayette",
          "Fort Collins",
          "Colorado Springs",
          "Chattanooga",
          "Providence",
          "Oklahoma City",
          "Rochester",
          "Fresno",
          "Tucson",
          "Grand Rapids",
          "Albany",
          "Little Rock",
          "Sarasota",
          "Honolulu",
          "Virginia Beach",
          "Fort Myers",
          "Reno",
          "Des Moines",
          "Memphis",
          "Lincoln",
          "Bloomington",
          "Knoxville",
          "Dover",
          "Worcester",
          "Greenville",
          "Fayetteville",
          "Syracuse",
          "Springfield",
          "Corvallis",
          "Asheville",
          "Spokane",
          "Anchorage",
          "Morristown",
          "Bakersfield",
          "Wichita",
          "Dayton",
          "Charlottesville",
          "Tulsa",
          "Savannah",
          "Ithaca",
          "Winston-Salem",
          "Gainesville",
          "Medford",
          "Santa Rosa",
          "Jackson",
          "Santa Fe",
          "Huntington",
          "Manchester",
          "San Luis Obispo",
          "Missoula",
          "Midland",
          "Harrisonburg",
          "Iowa City",
          "Portsmouth",
          "Cheyenne",
          "Eugene",
          "Harrisburg",
          "Traverse City",
          "Akron",
          "Greensboro",
          "Concord",
          "Lansing",
          "Sioux Falls",
          "Lancaster",
          "South Bend",
          "Carson City",
          "Roswell",
          "Michigan City",
          "Cedar Rapids",
          "Baton Rouge",
          "Bozeman",
          "Pensacola",
          "State College",
          "Duluth",
          "Champaign",
          "College Station",
          "Danville",
          "Lebanon",
          "Blacksburg",
          "Ames",
          "Lakeland",
          "Napa",
          "Grand Junction",
          "Fargo",
          "Tyler",
          "Tallahassee",
          "Truckee",
          "Erie",
          "Myrtle Beach",
          "Mobile",
          "Chico",
          "Scranton",
          "Allentown",
          "Brunswick",
          "Panama City",
          "Corpus Christi",
          "Whitewater",
          "Redding",
          "Canton",
          "Ocala",
          "Topeka",
          "Toledo",
          "Stockton",
          "Athens",
          "Idaho Falls",
          "Appleton",
          "Joplin",
          "Kalamazoo",
          "El Paso",
          "Reading",
          "Lubbock",
          "Fort Wayne",
          "Modesto",
          "Lawrence",
          "Huntsville",
          "Shreveport",
          "Grand Forks",
          "Billings",
          "Las Cruces",
          "Peoria",
          "Flint",
          "Bellingham",
          "Augusta",
          "Binghamton",
          "Roanoke",
          "Atlantic City",
          "Janesville",
          "Bangor",
          "Monroe",
          "Auburn",
          "Montgomery",
          "Bowling Green",
          "Winchester",
          "Shelton",
          "Great Falls",
          "Gulfport",
          "Lynchburg",
          "Salinas"
         ],
         "y": [
          29.14,
          11.43,
          11.23,
          5.5,
          4.37,
          3.49,
          3.47,
          3.21,
          3.2,
          2.9,
          2.64,
          2.59,
          2.36,
          1.7,
          1.58,
          1.38,
          1.34,
          1.32,
          1.19,
          1.12,
          1.01,
          0.92,
          0.88,
          0.84,
          0.83,
          0.82,
          0.76,
          0.76,
          0.69,
          0.59,
          0.52,
          0.5,
          0.5,
          0.48,
          0.42,
          0.35,
          0.31,
          0.26,
          0.23,
          0.23,
          1.09,
          0.2,
          0.46,
          0.2,
          0.1,
          0.77,
          0.51,
          0.27,
          0.18,
          0.4,
          0.3,
          0.16,
          0.22,
          0.33,
          0.13,
          0.28,
          0.22,
          0.23,
          0.18,
          0.17,
          0.21,
          0.23,
          0.21,
          0.23,
          0.16,
          0.06,
          0.19,
          0.21,
          0.12,
          0.17,
          0.19,
          0.22,
          0.2,
          0.17,
          0.18,
          0.17,
          0.16,
          0.11,
          0.07,
          0.11,
          0.08,
          0.06,
          0.12,
          0.1,
          0.14,
          0.09,
          0.09,
          0.12,
          0.1,
          0.08,
          0.1,
          0.02,
          0.11,
          0.11,
          0.04,
          0.1,
          0.1,
          0.08,
          0.08,
          0.07,
          0.02,
          0.08,
          0.07,
          0.06,
          0.07,
          0.05,
          0.06,
          0.05,
          0.03,
          0.02,
          0.05,
          0.05,
          0.04,
          0.04,
          0.06,
          0.06,
          0.05,
          0.04,
          0.04,
          0.05,
          0.04,
          0.03,
          0.06,
          0.02,
          0.05,
          0.05,
          0.05,
          0.04,
          0.04,
          0.04,
          0.04,
          0.04,
          0.04,
          0.04,
          0.02,
          0.01,
          0.03,
          0.03,
          0.02,
          0.03,
          0.02,
          0.02,
          0.03,
          0.03,
          0.02,
          0.03,
          0.02,
          0.03,
          0.03,
          0.02,
          0.02,
          0.02,
          0.02,
          0.01,
          0.03,
          0.02,
          0.02,
          0.02,
          0.02,
          0.02,
          0.02,
          0.02,
          0.02,
          0.02,
          0.01,
          0.01,
          0.03,
          0.03,
          0.02,
          0.02,
          0.02,
          0.01,
          0.02,
          0.02,
          0.02,
          0.02,
          0.01,
          0.01,
          0.02,
          0.02,
          0.02,
          0.01,
          0.01,
          0.01,
          0.01,
          0.02,
          0.01,
          0.01,
          0.01,
          0.01,
          0.01,
          0.01,
          0.01,
          0.01,
          0.01,
          0.01
         ]
        },
        {
         "name": "Business Score",
         "type": "bar",
         "x": [
          "San Francisco",
          "New York",
          "Los Angeles",
          "Boston",
          "Chicago",
          "Seattle",
          "Washington",
          "Miami",
          "Austin",
          "Dallas",
          "San Diego",
          "Atlanta",
          "Denver",
          "Philadelphia",
          "Phoenix",
          "Portland",
          "Houston",
          "Boulder",
          "Detroit",
          "Minneapolis",
          "Las Vegas",
          "Baltimore",
          "Pittsburgh",
          "Orlando",
          "Tampa",
          "Charlotte",
          "Columbus",
          "Nashville",
          "Madison",
          "Kansas City",
          "Indianapolis",
          "Cincinnati",
          "Sacramento",
          "San Antonio",
          "Provo",
          "New Orleans",
          "Wilmington",
          "Burlington",
          "Columbia",
          "Santa Cruz",
          "Raleigh",
          "Albuquerque",
          "St. Louis",
          "Buffalo",
          "Bend",
          "Salt Lake City",
          "Cleveland",
          "Louisville",
          "Lexington",
          "Milwaukee",
          "Jacksonville",
          "New Haven",
          "Omaha",
          "Richmond",
          "Boise City",
          "Charleston",
          "Hartford",
          "Birmingham",
          "Lafayette",
          "Fort Collins",
          "Colorado Springs",
          "Chattanooga",
          "Providence",
          "Oklahoma City",
          "Rochester",
          "Fresno",
          "Tucson",
          "Grand Rapids",
          "Albany",
          "Little Rock",
          "Sarasota",
          "Honolulu",
          "Virginia Beach",
          "Fort Myers",
          "Reno",
          "Des Moines",
          "Memphis",
          "Lincoln",
          "Bloomington",
          "Knoxville",
          "Dover",
          "Worcester",
          "Greenville",
          "Fayetteville",
          "Syracuse",
          "Springfield",
          "Corvallis",
          "Asheville",
          "Spokane",
          "Anchorage",
          "Morristown",
          "Bakersfield",
          "Wichita",
          "Dayton",
          "Charlottesville",
          "Tulsa",
          "Savannah",
          "Ithaca",
          "Winston-Salem",
          "Gainesville",
          "Medford",
          "Santa Rosa",
          "Jackson",
          "Santa Fe",
          "Huntington",
          "Manchester",
          "San Luis Obispo",
          "Missoula",
          "Midland",
          "Harrisonburg",
          "Iowa City",
          "Portsmouth",
          "Cheyenne",
          "Eugene",
          "Harrisburg",
          "Traverse City",
          "Akron",
          "Greensboro",
          "Concord",
          "Lansing",
          "Sioux Falls",
          "Lancaster",
          "South Bend",
          "Carson City",
          "Roswell",
          "Michigan City",
          "Cedar Rapids",
          "Baton Rouge",
          "Bozeman",
          "Pensacola",
          "State College",
          "Duluth",
          "Champaign",
          "College Station",
          "Danville",
          "Lebanon",
          "Blacksburg",
          "Ames",
          "Lakeland",
          "Napa",
          "Grand Junction",
          "Fargo",
          "Tyler",
          "Tallahassee",
          "Truckee",
          "Erie",
          "Myrtle Beach",
          "Mobile",
          "Chico",
          "Scranton",
          "Allentown",
          "Brunswick",
          "Panama City",
          "Corpus Christi",
          "Whitewater",
          "Redding",
          "Canton",
          "Ocala",
          "Topeka",
          "Toledo",
          "Stockton",
          "Athens",
          "Idaho Falls",
          "Appleton",
          "Joplin",
          "Kalamazoo",
          "El Paso",
          "Reading",
          "Lubbock",
          "Fort Wayne",
          "Modesto",
          "Lawrence",
          "Huntsville",
          "Shreveport",
          "Grand Forks",
          "Billings",
          "Las Cruces",
          "Peoria",
          "Flint",
          "Bellingham",
          "Augusta",
          "Binghamton",
          "Roanoke",
          "Atlantic City",
          "Janesville",
          "Bangor",
          "Monroe",
          "Auburn",
          "Montgomery",
          "Bowling Green",
          "Winchester",
          "Shelton",
          "Great Falls",
          "Gulfport",
          "Lynchburg",
          "Salinas"
         ],
         "y": [
          3.8,
          3.8,
          3.8,
          3.8,
          3.8,
          3.8,
          3.8,
          3.8,
          3.8,
          3.8,
          3.8,
          3.8,
          3.8,
          3.8,
          3.8,
          3.8,
          3.8,
          3.8,
          3.8,
          3.8,
          3.8,
          3.8,
          3.8,
          3.8,
          3.8,
          3.8,
          3.8,
          3.8,
          3.8,
          3.8,
          3.8,
          3.8,
          3.8,
          3.8,
          3.8,
          3.8,
          3.8,
          3.8,
          3.8,
          3.8,
          3.58,
          3.58,
          3.36,
          3.28,
          3.21,
          3.19,
          3.18,
          2.7,
          2.52,
          2.37,
          2.3,
          2.1,
          2.04,
          1.95,
          1.74,
          1.62,
          1.55,
          1.51,
          1.46,
          1.43,
          1.39,
          1.34,
          1.34,
          1.31,
          1.31,
          1.28,
          1.17,
          1.15,
          1.09,
          1.08,
          1.06,
          0.99,
          0.98,
          0.98,
          0.95,
          0.9,
          0.9,
          0.81,
          0.77,
          0.76,
          0.76,
          0.72,
          0.68,
          0.68,
          0.67,
          0.67,
          0.65,
          0.64,
          0.64,
          0.63,
          0.61,
          0.61,
          0.58,
          0.57,
          0.54,
          0.53,
          0.5,
          0.5,
          0.5,
          0.5,
          0.47,
          0.46,
          0.46,
          0.46,
          0.44,
          0.44,
          0.43,
          0.43,
          0.42,
          0.41,
          0.4,
          0.39,
          0.38,
          0.37,
          0.36,
          0.35,
          0.35,
          0.35,
          0.35,
          0.33,
          0.33,
          0.33,
          0.32,
          0.31,
          0.3,
          0.3,
          0.29,
          0.29,
          0.28,
          0.28,
          0.28,
          0.27,
          0.27,
          0.26,
          0.26,
          0.26,
          0.25,
          0.25,
          0.24,
          0.23,
          0.23,
          0.23,
          0.22,
          0.22,
          0.22,
          0.21,
          0.21,
          0.19,
          0.19,
          0.19,
          0.19,
          0.19,
          0.19,
          0.19,
          0.18,
          0.18,
          0.18,
          0.17,
          0.17,
          0.17,
          0.17,
          0.17,
          0.17,
          0.17,
          0.17,
          0.17,
          0.16,
          0.16,
          0.16,
          0.16,
          0.16,
          0.16,
          0.15,
          0.15,
          0.15,
          0.15,
          0.15,
          0.15,
          0.14,
          0.14,
          0.14,
          0.14,
          0.14,
          0.14,
          0.14,
          0.13,
          0.13,
          0.13,
          0.13,
          0.12,
          0.12,
          0.12,
          0.12,
          0.1,
          0.1,
          0.1
         ]
        },
        {
         "name": "Cost of Living",
         "type": "bar",
         "x": [
          "San Francisco",
          "New York",
          "Los Angeles",
          "Boston",
          "Chicago",
          "Seattle",
          "Washington",
          "Miami",
          "Austin",
          "Dallas",
          "San Diego",
          "Atlanta",
          "Denver",
          "Philadelphia",
          "Phoenix",
          "Portland",
          "Houston",
          "Boulder",
          "Detroit",
          "Minneapolis",
          "Las Vegas",
          "Baltimore",
          "Pittsburgh",
          "Orlando",
          "Tampa",
          "Charlotte",
          "Columbus",
          "Nashville",
          "Madison",
          "Kansas City",
          "Indianapolis",
          "Cincinnati",
          "Sacramento",
          "San Antonio",
          "Provo",
          "New Orleans",
          "Wilmington",
          "Burlington",
          "Columbia",
          "Santa Cruz",
          "Raleigh",
          "Albuquerque",
          "St. Louis",
          "Buffalo",
          "Bend",
          "Salt Lake City",
          "Cleveland",
          "Louisville",
          "Lexington",
          "Milwaukee",
          "Jacksonville",
          "New Haven",
          "Omaha",
          "Richmond",
          "Boise City",
          "Charleston",
          "Hartford",
          "Birmingham",
          "Lafayette",
          "Fort Collins",
          "Colorado Springs",
          "Chattanooga",
          "Providence",
          "Oklahoma City",
          "Rochester",
          "Fresno",
          "Tucson",
          "Grand Rapids",
          "Albany",
          "Little Rock",
          "Sarasota",
          "Honolulu",
          "Virginia Beach",
          "Fort Myers",
          "Reno",
          "Des Moines",
          "Memphis",
          "Lincoln",
          "Bloomington",
          "Knoxville",
          "Dover",
          "Worcester",
          "Greenville",
          "Fayetteville",
          "Syracuse",
          "Springfield",
          "Corvallis",
          "Asheville",
          "Spokane",
          "Anchorage",
          "Morristown",
          "Bakersfield",
          "Wichita",
          "Dayton",
          "Charlottesville",
          "Tulsa",
          "Savannah",
          "Ithaca",
          "Winston-Salem",
          "Gainesville",
          "Medford",
          "Santa Rosa",
          "Jackson",
          "Santa Fe",
          "Huntington",
          "Manchester",
          "San Luis Obispo",
          "Missoula",
          "Midland",
          "Harrisonburg",
          "Iowa City",
          "Portsmouth",
          "Cheyenne",
          "Eugene",
          "Harrisburg",
          "Traverse City",
          "Akron",
          "Greensboro",
          "Concord",
          "Lansing",
          "Sioux Falls",
          "Lancaster",
          "South Bend",
          "Carson City",
          "Roswell",
          "Michigan City",
          "Cedar Rapids",
          "Baton Rouge",
          "Bozeman",
          "Pensacola",
          "State College",
          "Duluth",
          "Champaign",
          "College Station",
          "Danville",
          "Lebanon",
          "Blacksburg",
          "Ames",
          "Lakeland",
          "Napa",
          "Grand Junction",
          "Fargo",
          "Tyler",
          "Tallahassee",
          "Truckee",
          "Erie",
          "Myrtle Beach",
          "Mobile",
          "Chico",
          "Scranton",
          "Allentown",
          "Brunswick",
          "Panama City",
          "Corpus Christi",
          "Whitewater",
          "Redding",
          "Canton",
          "Ocala",
          "Topeka",
          "Toledo",
          "Stockton",
          "Athens",
          "Idaho Falls",
          "Appleton",
          "Joplin",
          "Kalamazoo",
          "El Paso",
          "Reading",
          "Lubbock",
          "Fort Wayne",
          "Modesto",
          "Lawrence",
          "Huntsville",
          "Shreveport",
          "Grand Forks",
          "Billings",
          "Las Cruces",
          "Peoria",
          "Flint",
          "Bellingham",
          "Augusta",
          "Binghamton",
          "Roanoke",
          "Atlantic City",
          "Janesville",
          "Bangor",
          "Monroe",
          "Auburn",
          "Montgomery",
          "Bowling Green",
          "Winchester",
          "Shelton",
          "Great Falls",
          "Gulfport",
          "Lynchburg",
          "Salinas"
         ],
         "y": [
          5,
          3,
          4,
          3,
          2,
          3,
          3,
          2,
          2,
          1,
          3,
          2,
          2,
          2,
          2,
          2,
          1,
          2,
          1,
          2,
          1,
          2,
          2,
          1,
          2,
          2,
          1,
          2,
          2,
          1,
          1,
          1,
          1,
          1,
          3,
          1,
          1,
          1,
          2,
          1,
          1,
          1,
          1,
          1,
          1,
          1,
          1,
          1,
          5,
          1,
          1,
          1,
          4,
          2,
          1,
          2,
          2,
          1,
          1,
          1,
          2,
          1,
          1,
          2,
          1,
          2,
          1,
          1,
          2,
          1,
          2,
          1,
          1,
          1,
          1,
          2,
          1,
          1,
          1,
          1,
          2,
          2,
          1,
          1,
          1,
          1,
          2,
          1,
          2,
          2,
          1,
          2,
          4,
          1,
          1,
          1,
          1,
          2,
          2,
          1,
          2,
          3,
          1,
          1,
          2,
          1,
          1,
          1,
          1,
          1,
          1,
          1,
          2,
          1,
          2,
          1,
          3,
          1,
          1,
          1,
          1,
          1,
          2,
          2,
          1,
          1,
          2,
          1,
          4,
          1,
          1,
          1,
          1,
          1,
          1,
          1,
          1,
          1,
          1,
          1,
          1,
          1,
          1,
          1,
          1,
          1,
          1,
          1,
          2,
          2,
          1,
          2,
          1,
          1,
          1,
          1,
          3,
          1,
          1,
          2,
          2,
          1,
          1,
          2,
          2,
          2,
          1,
          1,
          1,
          1,
          1,
          1,
          1,
          1,
          3,
          1,
          1,
          1,
          1,
          1,
          1,
          1,
          2,
          1,
          1,
          1,
          1,
          1,
          1,
          1,
          1,
          2,
          1,
          1,
          1
         ]
        }
       ],
       "layout": {
        "barmode": "group",
        "template": {
         "data": {
          "bar": [
           {
            "error_x": {
             "color": "#2a3f5f"
            },
            "error_y": {
             "color": "#2a3f5f"
            },
            "marker": {
             "line": {
              "color": "#E5ECF6",
              "width": 0.5
             },
             "pattern": {
              "fillmode": "overlay",
              "size": 10,
              "solidity": 0.2
             }
            },
            "type": "bar"
           }
          ],
          "barpolar": [
           {
            "marker": {
             "line": {
              "color": "#E5ECF6",
              "width": 0.5
             },
             "pattern": {
              "fillmode": "overlay",
              "size": 10,
              "solidity": 0.2
             }
            },
            "type": "barpolar"
           }
          ],
          "carpet": [
           {
            "aaxis": {
             "endlinecolor": "#2a3f5f",
             "gridcolor": "white",
             "linecolor": "white",
             "minorgridcolor": "white",
             "startlinecolor": "#2a3f5f"
            },
            "baxis": {
             "endlinecolor": "#2a3f5f",
             "gridcolor": "white",
             "linecolor": "white",
             "minorgridcolor": "white",
             "startlinecolor": "#2a3f5f"
            },
            "type": "carpet"
           }
          ],
          "choropleth": [
           {
            "colorbar": {
             "outlinewidth": 0,
             "ticks": ""
            },
            "type": "choropleth"
           }
          ],
          "contour": [
           {
            "colorbar": {
             "outlinewidth": 0,
             "ticks": ""
            },
            "colorscale": [
             [
              0,
              "#0d0887"
             ],
             [
              0.1111111111111111,
              "#46039f"
             ],
             [
              0.2222222222222222,
              "#7201a8"
             ],
             [
              0.3333333333333333,
              "#9c179e"
             ],
             [
              0.4444444444444444,
              "#bd3786"
             ],
             [
              0.5555555555555556,
              "#d8576b"
             ],
             [
              0.6666666666666666,
              "#ed7953"
             ],
             [
              0.7777777777777778,
              "#fb9f3a"
             ],
             [
              0.8888888888888888,
              "#fdca26"
             ],
             [
              1,
              "#f0f921"
             ]
            ],
            "type": "contour"
           }
          ],
          "contourcarpet": [
           {
            "colorbar": {
             "outlinewidth": 0,
             "ticks": ""
            },
            "type": "contourcarpet"
           }
          ],
          "heatmap": [
           {
            "colorbar": {
             "outlinewidth": 0,
             "ticks": ""
            },
            "colorscale": [
             [
              0,
              "#0d0887"
             ],
             [
              0.1111111111111111,
              "#46039f"
             ],
             [
              0.2222222222222222,
              "#7201a8"
             ],
             [
              0.3333333333333333,
              "#9c179e"
             ],
             [
              0.4444444444444444,
              "#bd3786"
             ],
             [
              0.5555555555555556,
              "#d8576b"
             ],
             [
              0.6666666666666666,
              "#ed7953"
             ],
             [
              0.7777777777777778,
              "#fb9f3a"
             ],
             [
              0.8888888888888888,
              "#fdca26"
             ],
             [
              1,
              "#f0f921"
             ]
            ],
            "type": "heatmap"
           }
          ],
          "heatmapgl": [
           {
            "colorbar": {
             "outlinewidth": 0,
             "ticks": ""
            },
            "colorscale": [
             [
              0,
              "#0d0887"
             ],
             [
              0.1111111111111111,
              "#46039f"
             ],
             [
              0.2222222222222222,
              "#7201a8"
             ],
             [
              0.3333333333333333,
              "#9c179e"
             ],
             [
              0.4444444444444444,
              "#bd3786"
             ],
             [
              0.5555555555555556,
              "#d8576b"
             ],
             [
              0.6666666666666666,
              "#ed7953"
             ],
             [
              0.7777777777777778,
              "#fb9f3a"
             ],
             [
              0.8888888888888888,
              "#fdca26"
             ],
             [
              1,
              "#f0f921"
             ]
            ],
            "type": "heatmapgl"
           }
          ],
          "histogram": [
           {
            "marker": {
             "pattern": {
              "fillmode": "overlay",
              "size": 10,
              "solidity": 0.2
             }
            },
            "type": "histogram"
           }
          ],
          "histogram2d": [
           {
            "colorbar": {
             "outlinewidth": 0,
             "ticks": ""
            },
            "colorscale": [
             [
              0,
              "#0d0887"
             ],
             [
              0.1111111111111111,
              "#46039f"
             ],
             [
              0.2222222222222222,
              "#7201a8"
             ],
             [
              0.3333333333333333,
              "#9c179e"
             ],
             [
              0.4444444444444444,
              "#bd3786"
             ],
             [
              0.5555555555555556,
              "#d8576b"
             ],
             [
              0.6666666666666666,
              "#ed7953"
             ],
             [
              0.7777777777777778,
              "#fb9f3a"
             ],
             [
              0.8888888888888888,
              "#fdca26"
             ],
             [
              1,
              "#f0f921"
             ]
            ],
            "type": "histogram2d"
           }
          ],
          "histogram2dcontour": [
           {
            "colorbar": {
             "outlinewidth": 0,
             "ticks": ""
            },
            "colorscale": [
             [
              0,
              "#0d0887"
             ],
             [
              0.1111111111111111,
              "#46039f"
             ],
             [
              0.2222222222222222,
              "#7201a8"
             ],
             [
              0.3333333333333333,
              "#9c179e"
             ],
             [
              0.4444444444444444,
              "#bd3786"
             ],
             [
              0.5555555555555556,
              "#d8576b"
             ],
             [
              0.6666666666666666,
              "#ed7953"
             ],
             [
              0.7777777777777778,
              "#fb9f3a"
             ],
             [
              0.8888888888888888,
              "#fdca26"
             ],
             [
              1,
              "#f0f921"
             ]
            ],
            "type": "histogram2dcontour"
           }
          ],
          "mesh3d": [
           {
            "colorbar": {
             "outlinewidth": 0,
             "ticks": ""
            },
            "type": "mesh3d"
           }
          ],
          "parcoords": [
           {
            "line": {
             "colorbar": {
              "outlinewidth": 0,
              "ticks": ""
             }
            },
            "type": "parcoords"
           }
          ],
          "pie": [
           {
            "automargin": true,
            "type": "pie"
           }
          ],
          "scatter": [
           {
            "marker": {
             "colorbar": {
              "outlinewidth": 0,
              "ticks": ""
             }
            },
            "type": "scatter"
           }
          ],
          "scatter3d": [
           {
            "line": {
             "colorbar": {
              "outlinewidth": 0,
              "ticks": ""
             }
            },
            "marker": {
             "colorbar": {
              "outlinewidth": 0,
              "ticks": ""
             }
            },
            "type": "scatter3d"
           }
          ],
          "scattercarpet": [
           {
            "marker": {
             "colorbar": {
              "outlinewidth": 0,
              "ticks": ""
             }
            },
            "type": "scattercarpet"
           }
          ],
          "scattergeo": [
           {
            "marker": {
             "colorbar": {
              "outlinewidth": 0,
              "ticks": ""
             }
            },
            "type": "scattergeo"
           }
          ],
          "scattergl": [
           {
            "marker": {
             "colorbar": {
              "outlinewidth": 0,
              "ticks": ""
             }
            },
            "type": "scattergl"
           }
          ],
          "scattermapbox": [
           {
            "marker": {
             "colorbar": {
              "outlinewidth": 0,
              "ticks": ""
             }
            },
            "type": "scattermapbox"
           }
          ],
          "scatterpolar": [
           {
            "marker": {
             "colorbar": {
              "outlinewidth": 0,
              "ticks": ""
             }
            },
            "type": "scatterpolar"
           }
          ],
          "scatterpolargl": [
           {
            "marker": {
             "colorbar": {
              "outlinewidth": 0,
              "ticks": ""
             }
            },
            "type": "scatterpolargl"
           }
          ],
          "scatterternary": [
           {
            "marker": {
             "colorbar": {
              "outlinewidth": 0,
              "ticks": ""
             }
            },
            "type": "scatterternary"
           }
          ],
          "surface": [
           {
            "colorbar": {
             "outlinewidth": 0,
             "ticks": ""
            },
            "colorscale": [
             [
              0,
              "#0d0887"
             ],
             [
              0.1111111111111111,
              "#46039f"
             ],
             [
              0.2222222222222222,
              "#7201a8"
             ],
             [
              0.3333333333333333,
              "#9c179e"
             ],
             [
              0.4444444444444444,
              "#bd3786"
             ],
             [
              0.5555555555555556,
              "#d8576b"
             ],
             [
              0.6666666666666666,
              "#ed7953"
             ],
             [
              0.7777777777777778,
              "#fb9f3a"
             ],
             [
              0.8888888888888888,
              "#fdca26"
             ],
             [
              1,
              "#f0f921"
             ]
            ],
            "type": "surface"
           }
          ],
          "table": [
           {
            "cells": {
             "fill": {
              "color": "#EBF0F8"
             },
             "line": {
              "color": "white"
             }
            },
            "header": {
             "fill": {
              "color": "#C8D4E3"
             },
             "line": {
              "color": "white"
             }
            },
            "type": "table"
           }
          ]
         },
         "layout": {
          "annotationdefaults": {
           "arrowcolor": "#2a3f5f",
           "arrowhead": 0,
           "arrowwidth": 1
          },
          "autotypenumbers": "strict",
          "coloraxis": {
           "colorbar": {
            "outlinewidth": 0,
            "ticks": ""
           }
          },
          "colorscale": {
           "diverging": [
            [
             0,
             "#8e0152"
            ],
            [
             0.1,
             "#c51b7d"
            ],
            [
             0.2,
             "#de77ae"
            ],
            [
             0.3,
             "#f1b6da"
            ],
            [
             0.4,
             "#fde0ef"
            ],
            [
             0.5,
             "#f7f7f7"
            ],
            [
             0.6,
             "#e6f5d0"
            ],
            [
             0.7,
             "#b8e186"
            ],
            [
             0.8,
             "#7fbc41"
            ],
            [
             0.9,
             "#4d9221"
            ],
            [
             1,
             "#276419"
            ]
           ],
           "sequential": [
            [
             0,
             "#0d0887"
            ],
            [
             0.1111111111111111,
             "#46039f"
            ],
            [
             0.2222222222222222,
             "#7201a8"
            ],
            [
             0.3333333333333333,
             "#9c179e"
            ],
            [
             0.4444444444444444,
             "#bd3786"
            ],
            [
             0.5555555555555556,
             "#d8576b"
            ],
            [
             0.6666666666666666,
             "#ed7953"
            ],
            [
             0.7777777777777778,
             "#fb9f3a"
            ],
            [
             0.8888888888888888,
             "#fdca26"
            ],
            [
             1,
             "#f0f921"
            ]
           ],
           "sequentialminus": [
            [
             0,
             "#0d0887"
            ],
            [
             0.1111111111111111,
             "#46039f"
            ],
            [
             0.2222222222222222,
             "#7201a8"
            ],
            [
             0.3333333333333333,
             "#9c179e"
            ],
            [
             0.4444444444444444,
             "#bd3786"
            ],
            [
             0.5555555555555556,
             "#d8576b"
            ],
            [
             0.6666666666666666,
             "#ed7953"
            ],
            [
             0.7777777777777778,
             "#fb9f3a"
            ],
            [
             0.8888888888888888,
             "#fdca26"
            ],
            [
             1,
             "#f0f921"
            ]
           ]
          },
          "colorway": [
           "#636efa",
           "#EF553B",
           "#00cc96",
           "#ab63fa",
           "#FFA15A",
           "#19d3f3",
           "#FF6692",
           "#B6E880",
           "#FF97FF",
           "#FECB52"
          ],
          "font": {
           "color": "#2a3f5f"
          },
          "geo": {
           "bgcolor": "white",
           "lakecolor": "white",
           "landcolor": "#E5ECF6",
           "showlakes": true,
           "showland": true,
           "subunitcolor": "white"
          },
          "hoverlabel": {
           "align": "left"
          },
          "hovermode": "closest",
          "mapbox": {
           "style": "light"
          },
          "paper_bgcolor": "white",
          "plot_bgcolor": "#E5ECF6",
          "polar": {
           "angularaxis": {
            "gridcolor": "white",
            "linecolor": "white",
            "ticks": ""
           },
           "bgcolor": "#E5ECF6",
           "radialaxis": {
            "gridcolor": "white",
            "linecolor": "white",
            "ticks": ""
           }
          },
          "scene": {
           "xaxis": {
            "backgroundcolor": "#E5ECF6",
            "gridcolor": "white",
            "gridwidth": 2,
            "linecolor": "white",
            "showbackground": true,
            "ticks": "",
            "zerolinecolor": "white"
           },
           "yaxis": {
            "backgroundcolor": "#E5ECF6",
            "gridcolor": "white",
            "gridwidth": 2,
            "linecolor": "white",
            "showbackground": true,
            "ticks": "",
            "zerolinecolor": "white"
           },
           "zaxis": {
            "backgroundcolor": "#E5ECF6",
            "gridcolor": "white",
            "gridwidth": 2,
            "linecolor": "white",
            "showbackground": true,
            "ticks": "",
            "zerolinecolor": "white"
           }
          },
          "shapedefaults": {
           "line": {
            "color": "#2a3f5f"
           }
          },
          "ternary": {
           "aaxis": {
            "gridcolor": "white",
            "linecolor": "white",
            "ticks": ""
           },
           "baxis": {
            "gridcolor": "white",
            "linecolor": "white",
            "ticks": ""
           },
           "bgcolor": "#E5ECF6",
           "caxis": {
            "gridcolor": "white",
            "linecolor": "white",
            "ticks": ""
           }
          },
          "title": {
           "x": 0.05
          },
          "xaxis": {
           "automargin": true,
           "gridcolor": "white",
           "linecolor": "white",
           "ticks": "",
           "title": {
            "standoff": 15
           },
           "zerolinecolor": "white",
           "zerolinewidth": 2
          },
          "yaxis": {
           "automargin": true,
           "gridcolor": "white",
           "linecolor": "white",
           "ticks": "",
           "title": {
            "standoff": 15
           },
           "zerolinecolor": "white",
           "zerolinewidth": 2
          }
         }
        }
       }
      }
     },
     "metadata": {},
     "output_type": "display_data"
    }
   ],
   "source": [
    "bscol_sort = k_df.sort_values(by=['business score','quatity score'],ascending = False)\n",
    "fig=go.Figure(data=[ \n",
    "    go.Bar(name='Quality Score',x=bscol_sort['City'],y=bscol_sort['quatity score']),\n",
    "    go.Bar(name='Business Score',x=bscol_sort['City'],y=bscol_sort['business score']),\n",
    "    go.Bar(name='Cost of Living',x=bscol_sort['City'],y=k_df2['Bucket'])\n",
    "\n",
    "])\n",
    "fig.update_layout(barmode='group')\n",
    "fig.show()"
   ]
  },
  {
   "cell_type": "code",
   "execution_count": 21,
   "id": "e9ce6303",
   "metadata": {},
   "outputs": [
    {
     "data": {
      "application/vnd.plotly.v1+json": {
       "config": {
        "plotlyServerURL": "https://plot.ly"
       },
       "data": [
        {
         "alignmentgroup": "True",
         "hovertemplate": "City=%{x}<br>business score=%{y}<br>Bucket=%{marker.color}<extra></extra>",
         "legendgroup": "",
         "marker": {
          "color": [
           5,
           5,
           4,
           3,
           3,
           3,
           3,
           3,
           3,
           2,
           2,
           2,
           2,
           2,
           2,
           2,
           2,
           2,
           2,
           2,
           2,
           2,
           2,
           2,
           2,
           1,
           1,
           1,
           1,
           1,
           1,
           1,
           1,
           1,
           1,
           1,
           1,
           1,
           1,
           1,
           1,
           1,
           1,
           1,
           2,
           2,
           1,
           1,
           1,
           1,
           1,
           2,
           1,
           1,
           1,
           2,
           1,
           2,
           2,
           2,
           1,
           1,
           1,
           2,
           1,
           1,
           1,
           1,
           2,
           4,
           2,
           1,
           2,
           1,
           1,
           1,
           1,
           2,
           1,
           2,
           1,
           1,
           1,
           1,
           2,
           2,
           2,
           2,
           2,
           1,
           1,
           1,
           2,
           1,
           2,
           1,
           1,
           1,
           2,
           4,
           2,
           1,
           2,
           1,
           3,
           2,
           1,
           1,
           1,
           1,
           1,
           2,
           1,
           2,
           1,
           1,
           1,
           1,
           1,
           1,
           1,
           2,
           1,
           1,
           1,
           1,
           3,
           1,
           1,
           1,
           1,
           1,
           1,
           1,
           1,
           1,
           1,
           4,
           1,
           1,
           3,
           1,
           1,
           1,
           1,
           1,
           2,
           2,
           1,
           1,
           1,
           1,
           1,
           2,
           1,
           1,
           2,
           1,
           1,
           1,
           1,
           1,
           1,
           1,
           1,
           2,
           1,
           1,
           1,
           1,
           1,
           1,
           1,
           1,
           1,
           1,
           1,
           2,
           2,
           1,
           1,
           1,
           1,
           1,
           1,
           1,
           1,
           1,
           2,
           1,
           1,
           1,
           3,
           1,
           1
          ],
          "coloraxis": "coloraxis",
          "pattern": {
           "shape": ""
          }
         },
         "name": "",
         "offsetgroup": "",
         "orientation": "v",
         "showlegend": false,
         "textposition": "auto",
         "type": "bar",
         "x": [
          "San Francisco",
          "Santa Cruz",
          "Los Angeles",
          "New York",
          "Boston",
          "Seattle",
          "Washington",
          "San Diego",
          "Sacramento",
          "Chicago",
          "Miami",
          "Austin",
          "Atlanta",
          "Denver",
          "Philadelphia",
          "Phoenix",
          "Portland",
          "Boulder",
          "Minneapolis",
          "Las Vegas",
          "Baltimore",
          "Orlando",
          "Tampa",
          "Nashville",
          "Provo",
          "Dallas",
          "Houston",
          "Detroit",
          "Pittsburgh",
          "Charlotte",
          "Columbus",
          "Madison",
          "Kansas City",
          "Indianapolis",
          "Cincinnati",
          "San Antonio",
          "New Orleans",
          "Wilmington",
          "Burlington",
          "Columbia",
          "Raleigh",
          "Albuquerque",
          "St. Louis",
          "Buffalo",
          "Bend",
          "Salt Lake City",
          "Cleveland",
          "Louisville",
          "Lexington",
          "Milwaukee",
          "Jacksonville",
          "New Haven",
          "Omaha",
          "Richmond",
          "Charleston",
          "Hartford",
          "Lafayette",
          "Fort Collins",
          "Colorado Springs",
          "Providence",
          "Chattanooga",
          "Oklahoma City",
          "Rochester",
          "Fresno",
          "Tucson",
          "Grand Rapids",
          "Albany",
          "Little Rock",
          "Sarasota",
          "Honolulu",
          "Fort Myers",
          "Virginia Beach",
          "Reno",
          "Des Moines",
          "Memphis",
          "Lincoln",
          "Bloomington",
          "Dover",
          "Knoxville",
          "Worcester",
          "Greenville",
          "Fayetteville",
          "Syracuse",
          "Springfield",
          "Corvallis",
          "Asheville",
          "Spokane",
          "Anchorage",
          "Bakersfield",
          "Morristown",
          "Wichita",
          "Dayton",
          "Charlottesville",
          "Tulsa",
          "Ithaca",
          "Savannah",
          "Winston-Salem",
          "Gainesville",
          "Medford",
          "Santa Rosa",
          "Santa Fe",
          "Jackson",
          "Manchester",
          "Huntington",
          "San Luis Obispo",
          "Missoula",
          "Midland",
          "Harrisonburg",
          "Iowa City",
          "Portsmouth",
          "Cheyenne",
          "Eugene",
          "Harrisburg",
          "Concord",
          "Traverse City",
          "Akron",
          "Greensboro",
          "Lansing",
          "Sioux Falls",
          "Lancaster",
          "South Bend",
          "Carson City",
          "Roswell",
          "Michigan City",
          "Cedar Rapids",
          "Baton Rouge",
          "Bozeman",
          "State College",
          "Pensacola",
          "Champaign",
          "Duluth",
          "College Station",
          "Danville",
          "Lebanon",
          "Blacksburg",
          "Ames",
          "Lakeland",
          "Napa",
          "Fargo",
          "Grand Junction",
          "Truckee",
          "Tallahassee",
          "Tyler",
          "Erie",
          "Green Bay",
          "Myrtle Beach",
          "Chico",
          "Panama City",
          "Mobile",
          "Brunswick",
          "Scranton",
          "Allentown",
          "Corpus Christi",
          "Redding",
          "Whitewater",
          "Canton",
          "Stockton",
          "Appleton",
          "Ocala",
          "Toledo",
          "Idaho Falls",
          "Topeka",
          "Athens",
          "Joplin",
          "Kalamazoo",
          "Modesto",
          "El Paso",
          "Reading",
          "Lubbock",
          "Fort Wayne",
          "Lawrence",
          "Grand Forks",
          "Shreveport",
          "Billings",
          "Huntsville",
          "Las Cruces",
          "Peoria",
          "Bellingham",
          "Atlantic City",
          "Flint",
          "Augusta",
          "Binghamton",
          "Janesville",
          "Roanoke",
          "Bangor",
          "Auburn",
          "Monroe",
          "Montgomery",
          "Shelton",
          "Great Falls",
          "Winchester",
          "Bowling Green",
          "Salinas",
          "Lynchburg",
          "Gulfport"
         ],
         "xaxis": "x",
         "y": [
          3.8,
          3.8,
          3.8,
          3.8,
          3.8,
          3.8,
          3.8,
          3.8,
          3.8,
          3.8,
          3.8,
          3.8,
          3.8,
          3.8,
          3.8,
          3.8,
          3.8,
          3.8,
          3.8,
          3.8,
          3.8,
          3.8,
          3.8,
          3.8,
          3.8,
          3.8,
          3.8,
          3.8,
          3.8,
          3.8,
          3.8,
          3.8,
          3.8,
          3.8,
          3.8,
          3.8,
          3.8,
          3.8,
          3.8,
          3.8,
          3.58,
          3.58,
          3.36,
          3.28,
          3.21,
          3.19,
          3.18,
          2.7,
          2.52,
          2.37,
          2.3,
          2.1,
          2.04,
          1.95,
          1.62,
          1.55,
          1.46,
          1.43,
          1.39,
          1.34,
          1.34,
          1.31,
          1.31,
          1.28,
          1.17,
          1.15,
          1.09,
          1.08,
          1.06,
          0.99,
          0.98,
          0.98,
          0.95,
          0.9,
          0.9,
          0.81,
          0.77,
          0.76,
          0.76,
          0.72,
          0.68,
          0.68,
          0.67,
          0.67,
          0.65,
          0.64,
          0.64,
          0.63,
          0.61,
          0.61,
          0.58,
          0.57,
          0.54,
          0.53,
          0.5,
          0.5,
          0.5,
          0.5,
          0.47,
          0.46,
          0.46,
          0.46,
          0.44,
          0.44,
          0.43,
          0.43,
          0.42,
          0.41,
          0.4,
          0.39,
          0.38,
          0.37,
          0.36,
          0.35,
          0.35,
          0.35,
          0.35,
          0.33,
          0.33,
          0.33,
          0.32,
          0.31,
          0.3,
          0.3,
          0.29,
          0.29,
          0.28,
          0.28,
          0.28,
          0.27,
          0.27,
          0.26,
          0.26,
          0.26,
          0.25,
          0.25,
          0.24,
          0.23,
          0.23,
          0.23,
          0.22,
          0.22,
          0.22,
          0.21,
          0.21,
          0.21,
          0.19,
          0.19,
          0.19,
          0.19,
          0.19,
          0.19,
          0.19,
          0.18,
          0.18,
          0.18,
          0.17,
          0.17,
          0.17,
          0.17,
          0.17,
          0.17,
          0.17,
          0.17,
          0.17,
          0.16,
          0.16,
          0.16,
          0.16,
          0.16,
          0.16,
          0.15,
          0.15,
          0.15,
          0.15,
          0.15,
          0.15,
          0.14,
          0.14,
          0.14,
          0.14,
          0.14,
          0.14,
          0.14,
          0.13,
          0.13,
          0.13,
          0.13,
          0.12,
          0.12,
          0.12,
          0.12,
          0.1,
          0.1,
          0.1
         ],
         "yaxis": "y"
        }
       ],
       "layout": {
        "barmode": "relative",
        "coloraxis": {
         "colorbar": {
          "title": {
           "text": "Bucket"
          }
         },
         "colorscale": [
          [
           0,
           "#0d0887"
          ],
          [
           0.1111111111111111,
           "#46039f"
          ],
          [
           0.2222222222222222,
           "#7201a8"
          ],
          [
           0.3333333333333333,
           "#9c179e"
          ],
          [
           0.4444444444444444,
           "#bd3786"
          ],
          [
           0.5555555555555556,
           "#d8576b"
          ],
          [
           0.6666666666666666,
           "#ed7953"
          ],
          [
           0.7777777777777778,
           "#fb9f3a"
          ],
          [
           0.8888888888888888,
           "#fdca26"
          ],
          [
           1,
           "#f0f921"
          ]
         ]
        },
        "legend": {
         "tracegroupgap": 0
        },
        "template": {
         "data": {
          "bar": [
           {
            "error_x": {
             "color": "#2a3f5f"
            },
            "error_y": {
             "color": "#2a3f5f"
            },
            "marker": {
             "line": {
              "color": "#E5ECF6",
              "width": 0.5
             },
             "pattern": {
              "fillmode": "overlay",
              "size": 10,
              "solidity": 0.2
             }
            },
            "type": "bar"
           }
          ],
          "barpolar": [
           {
            "marker": {
             "line": {
              "color": "#E5ECF6",
              "width": 0.5
             },
             "pattern": {
              "fillmode": "overlay",
              "size": 10,
              "solidity": 0.2
             }
            },
            "type": "barpolar"
           }
          ],
          "carpet": [
           {
            "aaxis": {
             "endlinecolor": "#2a3f5f",
             "gridcolor": "white",
             "linecolor": "white",
             "minorgridcolor": "white",
             "startlinecolor": "#2a3f5f"
            },
            "baxis": {
             "endlinecolor": "#2a3f5f",
             "gridcolor": "white",
             "linecolor": "white",
             "minorgridcolor": "white",
             "startlinecolor": "#2a3f5f"
            },
            "type": "carpet"
           }
          ],
          "choropleth": [
           {
            "colorbar": {
             "outlinewidth": 0,
             "ticks": ""
            },
            "type": "choropleth"
           }
          ],
          "contour": [
           {
            "colorbar": {
             "outlinewidth": 0,
             "ticks": ""
            },
            "colorscale": [
             [
              0,
              "#0d0887"
             ],
             [
              0.1111111111111111,
              "#46039f"
             ],
             [
              0.2222222222222222,
              "#7201a8"
             ],
             [
              0.3333333333333333,
              "#9c179e"
             ],
             [
              0.4444444444444444,
              "#bd3786"
             ],
             [
              0.5555555555555556,
              "#d8576b"
             ],
             [
              0.6666666666666666,
              "#ed7953"
             ],
             [
              0.7777777777777778,
              "#fb9f3a"
             ],
             [
              0.8888888888888888,
              "#fdca26"
             ],
             [
              1,
              "#f0f921"
             ]
            ],
            "type": "contour"
           }
          ],
          "contourcarpet": [
           {
            "colorbar": {
             "outlinewidth": 0,
             "ticks": ""
            },
            "type": "contourcarpet"
           }
          ],
          "heatmap": [
           {
            "colorbar": {
             "outlinewidth": 0,
             "ticks": ""
            },
            "colorscale": [
             [
              0,
              "#0d0887"
             ],
             [
              0.1111111111111111,
              "#46039f"
             ],
             [
              0.2222222222222222,
              "#7201a8"
             ],
             [
              0.3333333333333333,
              "#9c179e"
             ],
             [
              0.4444444444444444,
              "#bd3786"
             ],
             [
              0.5555555555555556,
              "#d8576b"
             ],
             [
              0.6666666666666666,
              "#ed7953"
             ],
             [
              0.7777777777777778,
              "#fb9f3a"
             ],
             [
              0.8888888888888888,
              "#fdca26"
             ],
             [
              1,
              "#f0f921"
             ]
            ],
            "type": "heatmap"
           }
          ],
          "heatmapgl": [
           {
            "colorbar": {
             "outlinewidth": 0,
             "ticks": ""
            },
            "colorscale": [
             [
              0,
              "#0d0887"
             ],
             [
              0.1111111111111111,
              "#46039f"
             ],
             [
              0.2222222222222222,
              "#7201a8"
             ],
             [
              0.3333333333333333,
              "#9c179e"
             ],
             [
              0.4444444444444444,
              "#bd3786"
             ],
             [
              0.5555555555555556,
              "#d8576b"
             ],
             [
              0.6666666666666666,
              "#ed7953"
             ],
             [
              0.7777777777777778,
              "#fb9f3a"
             ],
             [
              0.8888888888888888,
              "#fdca26"
             ],
             [
              1,
              "#f0f921"
             ]
            ],
            "type": "heatmapgl"
           }
          ],
          "histogram": [
           {
            "marker": {
             "pattern": {
              "fillmode": "overlay",
              "size": 10,
              "solidity": 0.2
             }
            },
            "type": "histogram"
           }
          ],
          "histogram2d": [
           {
            "colorbar": {
             "outlinewidth": 0,
             "ticks": ""
            },
            "colorscale": [
             [
              0,
              "#0d0887"
             ],
             [
              0.1111111111111111,
              "#46039f"
             ],
             [
              0.2222222222222222,
              "#7201a8"
             ],
             [
              0.3333333333333333,
              "#9c179e"
             ],
             [
              0.4444444444444444,
              "#bd3786"
             ],
             [
              0.5555555555555556,
              "#d8576b"
             ],
             [
              0.6666666666666666,
              "#ed7953"
             ],
             [
              0.7777777777777778,
              "#fb9f3a"
             ],
             [
              0.8888888888888888,
              "#fdca26"
             ],
             [
              1,
              "#f0f921"
             ]
            ],
            "type": "histogram2d"
           }
          ],
          "histogram2dcontour": [
           {
            "colorbar": {
             "outlinewidth": 0,
             "ticks": ""
            },
            "colorscale": [
             [
              0,
              "#0d0887"
             ],
             [
              0.1111111111111111,
              "#46039f"
             ],
             [
              0.2222222222222222,
              "#7201a8"
             ],
             [
              0.3333333333333333,
              "#9c179e"
             ],
             [
              0.4444444444444444,
              "#bd3786"
             ],
             [
              0.5555555555555556,
              "#d8576b"
             ],
             [
              0.6666666666666666,
              "#ed7953"
             ],
             [
              0.7777777777777778,
              "#fb9f3a"
             ],
             [
              0.8888888888888888,
              "#fdca26"
             ],
             [
              1,
              "#f0f921"
             ]
            ],
            "type": "histogram2dcontour"
           }
          ],
          "mesh3d": [
           {
            "colorbar": {
             "outlinewidth": 0,
             "ticks": ""
            },
            "type": "mesh3d"
           }
          ],
          "parcoords": [
           {
            "line": {
             "colorbar": {
              "outlinewidth": 0,
              "ticks": ""
             }
            },
            "type": "parcoords"
           }
          ],
          "pie": [
           {
            "automargin": true,
            "type": "pie"
           }
          ],
          "scatter": [
           {
            "marker": {
             "colorbar": {
              "outlinewidth": 0,
              "ticks": ""
             }
            },
            "type": "scatter"
           }
          ],
          "scatter3d": [
           {
            "line": {
             "colorbar": {
              "outlinewidth": 0,
              "ticks": ""
             }
            },
            "marker": {
             "colorbar": {
              "outlinewidth": 0,
              "ticks": ""
             }
            },
            "type": "scatter3d"
           }
          ],
          "scattercarpet": [
           {
            "marker": {
             "colorbar": {
              "outlinewidth": 0,
              "ticks": ""
             }
            },
            "type": "scattercarpet"
           }
          ],
          "scattergeo": [
           {
            "marker": {
             "colorbar": {
              "outlinewidth": 0,
              "ticks": ""
             }
            },
            "type": "scattergeo"
           }
          ],
          "scattergl": [
           {
            "marker": {
             "colorbar": {
              "outlinewidth": 0,
              "ticks": ""
             }
            },
            "type": "scattergl"
           }
          ],
          "scattermapbox": [
           {
            "marker": {
             "colorbar": {
              "outlinewidth": 0,
              "ticks": ""
             }
            },
            "type": "scattermapbox"
           }
          ],
          "scatterpolar": [
           {
            "marker": {
             "colorbar": {
              "outlinewidth": 0,
              "ticks": ""
             }
            },
            "type": "scatterpolar"
           }
          ],
          "scatterpolargl": [
           {
            "marker": {
             "colorbar": {
              "outlinewidth": 0,
              "ticks": ""
             }
            },
            "type": "scatterpolargl"
           }
          ],
          "scatterternary": [
           {
            "marker": {
             "colorbar": {
              "outlinewidth": 0,
              "ticks": ""
             }
            },
            "type": "scatterternary"
           }
          ],
          "surface": [
           {
            "colorbar": {
             "outlinewidth": 0,
             "ticks": ""
            },
            "colorscale": [
             [
              0,
              "#0d0887"
             ],
             [
              0.1111111111111111,
              "#46039f"
             ],
             [
              0.2222222222222222,
              "#7201a8"
             ],
             [
              0.3333333333333333,
              "#9c179e"
             ],
             [
              0.4444444444444444,
              "#bd3786"
             ],
             [
              0.5555555555555556,
              "#d8576b"
             ],
             [
              0.6666666666666666,
              "#ed7953"
             ],
             [
              0.7777777777777778,
              "#fb9f3a"
             ],
             [
              0.8888888888888888,
              "#fdca26"
             ],
             [
              1,
              "#f0f921"
             ]
            ],
            "type": "surface"
           }
          ],
          "table": [
           {
            "cells": {
             "fill": {
              "color": "#EBF0F8"
             },
             "line": {
              "color": "white"
             }
            },
            "header": {
             "fill": {
              "color": "#C8D4E3"
             },
             "line": {
              "color": "white"
             }
            },
            "type": "table"
           }
          ]
         },
         "layout": {
          "annotationdefaults": {
           "arrowcolor": "#2a3f5f",
           "arrowhead": 0,
           "arrowwidth": 1
          },
          "autotypenumbers": "strict",
          "coloraxis": {
           "colorbar": {
            "outlinewidth": 0,
            "ticks": ""
           }
          },
          "colorscale": {
           "diverging": [
            [
             0,
             "#8e0152"
            ],
            [
             0.1,
             "#c51b7d"
            ],
            [
             0.2,
             "#de77ae"
            ],
            [
             0.3,
             "#f1b6da"
            ],
            [
             0.4,
             "#fde0ef"
            ],
            [
             0.5,
             "#f7f7f7"
            ],
            [
             0.6,
             "#e6f5d0"
            ],
            [
             0.7,
             "#b8e186"
            ],
            [
             0.8,
             "#7fbc41"
            ],
            [
             0.9,
             "#4d9221"
            ],
            [
             1,
             "#276419"
            ]
           ],
           "sequential": [
            [
             0,
             "#0d0887"
            ],
            [
             0.1111111111111111,
             "#46039f"
            ],
            [
             0.2222222222222222,
             "#7201a8"
            ],
            [
             0.3333333333333333,
             "#9c179e"
            ],
            [
             0.4444444444444444,
             "#bd3786"
            ],
            [
             0.5555555555555556,
             "#d8576b"
            ],
            [
             0.6666666666666666,
             "#ed7953"
            ],
            [
             0.7777777777777778,
             "#fb9f3a"
            ],
            [
             0.8888888888888888,
             "#fdca26"
            ],
            [
             1,
             "#f0f921"
            ]
           ],
           "sequentialminus": [
            [
             0,
             "#0d0887"
            ],
            [
             0.1111111111111111,
             "#46039f"
            ],
            [
             0.2222222222222222,
             "#7201a8"
            ],
            [
             0.3333333333333333,
             "#9c179e"
            ],
            [
             0.4444444444444444,
             "#bd3786"
            ],
            [
             0.5555555555555556,
             "#d8576b"
            ],
            [
             0.6666666666666666,
             "#ed7953"
            ],
            [
             0.7777777777777778,
             "#fb9f3a"
            ],
            [
             0.8888888888888888,
             "#fdca26"
            ],
            [
             1,
             "#f0f921"
            ]
           ]
          },
          "colorway": [
           "#636efa",
           "#EF553B",
           "#00cc96",
           "#ab63fa",
           "#FFA15A",
           "#19d3f3",
           "#FF6692",
           "#B6E880",
           "#FF97FF",
           "#FECB52"
          ],
          "font": {
           "color": "#2a3f5f"
          },
          "geo": {
           "bgcolor": "white",
           "lakecolor": "white",
           "landcolor": "#E5ECF6",
           "showlakes": true,
           "showland": true,
           "subunitcolor": "white"
          },
          "hoverlabel": {
           "align": "left"
          },
          "hovermode": "closest",
          "mapbox": {
           "style": "light"
          },
          "paper_bgcolor": "white",
          "plot_bgcolor": "#E5ECF6",
          "polar": {
           "angularaxis": {
            "gridcolor": "white",
            "linecolor": "white",
            "ticks": ""
           },
           "bgcolor": "#E5ECF6",
           "radialaxis": {
            "gridcolor": "white",
            "linecolor": "white",
            "ticks": ""
           }
          },
          "scene": {
           "xaxis": {
            "backgroundcolor": "#E5ECF6",
            "gridcolor": "white",
            "gridwidth": 2,
            "linecolor": "white",
            "showbackground": true,
            "ticks": "",
            "zerolinecolor": "white"
           },
           "yaxis": {
            "backgroundcolor": "#E5ECF6",
            "gridcolor": "white",
            "gridwidth": 2,
            "linecolor": "white",
            "showbackground": true,
            "ticks": "",
            "zerolinecolor": "white"
           },
           "zaxis": {
            "backgroundcolor": "#E5ECF6",
            "gridcolor": "white",
            "gridwidth": 2,
            "linecolor": "white",
            "showbackground": true,
            "ticks": "",
            "zerolinecolor": "white"
           }
          },
          "shapedefaults": {
           "line": {
            "color": "#2a3f5f"
           }
          },
          "ternary": {
           "aaxis": {
            "gridcolor": "white",
            "linecolor": "white",
            "ticks": ""
           },
           "baxis": {
            "gridcolor": "white",
            "linecolor": "white",
            "ticks": ""
           },
           "bgcolor": "#E5ECF6",
           "caxis": {
            "gridcolor": "white",
            "linecolor": "white",
            "ticks": ""
           }
          },
          "title": {
           "x": 0.05
          },
          "xaxis": {
           "automargin": true,
           "gridcolor": "white",
           "linecolor": "white",
           "ticks": "",
           "title": {
            "standoff": 15
           },
           "zerolinecolor": "white",
           "zerolinewidth": 2
          },
          "yaxis": {
           "automargin": true,
           "gridcolor": "white",
           "linecolor": "white",
           "ticks": "",
           "title": {
            "standoff": 15
           },
           "zerolinecolor": "white",
           "zerolinewidth": 2
          }
         }
        },
        "title": {
         "text": "Business Score and Cost of Living"
        },
        "xaxis": {
         "anchor": "y",
         "domain": [
          0,
          1
         ],
         "title": {
          "text": "City"
         }
        },
        "yaxis": {
         "anchor": "x",
         "domain": [
          0,
          1
         ],
         "title": {
          "text": "business score"
         }
        }
       }
      }
     },
     "metadata": {},
     "output_type": "display_data"
    }
   ],
   "source": [
    "k_df_bsb = k_df2.sort_values(by=['business score','Bucket'], ascending = False)\n",
    "fig = px.bar(k_df_bsb, x = \"City\", y=\"business score\", color = \"Bucket\", title=\"Business Score and Cost of Living\")\n",
    "fig.show()\n",
    "# group these visually or only take the ones with max scores, we can then overlay the Qaultity Score"
   ]
  },
  {
   "cell_type": "code",
   "execution_count": 22,
   "id": "956e043b",
   "metadata": {},
   "outputs": [
    {
     "data": {
      "text/html": [
       "<div>\n",
       "<style scoped>\n",
       "    .dataframe tbody tr th:only-of-type {\n",
       "        vertical-align: middle;\n",
       "    }\n",
       "\n",
       "    .dataframe tbody tr th {\n",
       "        vertical-align: top;\n",
       "    }\n",
       "\n",
       "    .dataframe thead th {\n",
       "        text-align: right;\n",
       "    }\n",
       "</style>\n",
       "<table border=\"1\" class=\"dataframe\">\n",
       "  <thead>\n",
       "    <tr style=\"text-align: right;\">\n",
       "      <th></th>\n",
       "      <th>City</th>\n",
       "      <th>quatity score</th>\n",
       "      <th>business score</th>\n",
       "      <th>Cost of Living Index</th>\n",
       "      <th>Bucket</th>\n",
       "    </tr>\n",
       "  </thead>\n",
       "  <tbody>\n",
       "    <tr>\n",
       "      <th>194</th>\n",
       "      <td>San Francisco</td>\n",
       "      <td>29.14</td>\n",
       "      <td>3.8</td>\n",
       "      <td>178.6</td>\n",
       "      <td>5</td>\n",
       "    </tr>\n",
       "    <tr>\n",
       "      <th>193</th>\n",
       "      <td>Santa Cruz</td>\n",
       "      <td>0.23</td>\n",
       "      <td>3.8</td>\n",
       "      <td>163.9</td>\n",
       "      <td>5</td>\n",
       "    </tr>\n",
       "    <tr>\n",
       "      <th>189</th>\n",
       "      <td>Los Angeles</td>\n",
       "      <td>11.23</td>\n",
       "      <td>3.8</td>\n",
       "      <td>140.6</td>\n",
       "      <td>4</td>\n",
       "    </tr>\n",
       "    <tr>\n",
       "      <th>183</th>\n",
       "      <td>New York</td>\n",
       "      <td>11.43</td>\n",
       "      <td>3.8</td>\n",
       "      <td>128.0</td>\n",
       "      <td>3</td>\n",
       "    </tr>\n",
       "    <tr>\n",
       "      <th>184</th>\n",
       "      <td>Boston</td>\n",
       "      <td>5.50</td>\n",
       "      <td>3.8</td>\n",
       "      <td>132.6</td>\n",
       "      <td>3</td>\n",
       "    </tr>\n",
       "    <tr>\n",
       "      <th>181</th>\n",
       "      <td>Seattle</td>\n",
       "      <td>3.49</td>\n",
       "      <td>3.8</td>\n",
       "      <td>124.6</td>\n",
       "      <td>3</td>\n",
       "    </tr>\n",
       "    <tr>\n",
       "      <th>179</th>\n",
       "      <td>Washington</td>\n",
       "      <td>3.47</td>\n",
       "      <td>3.8</td>\n",
       "      <td>120.1</td>\n",
       "      <td>3</td>\n",
       "    </tr>\n",
       "    <tr>\n",
       "      <th>187</th>\n",
       "      <td>San Diego</td>\n",
       "      <td>2.64</td>\n",
       "      <td>3.8</td>\n",
       "      <td>136.2</td>\n",
       "      <td>3</td>\n",
       "    </tr>\n",
       "    <tr>\n",
       "      <th>180</th>\n",
       "      <td>Sacramento</td>\n",
       "      <td>0.50</td>\n",
       "      <td>3.8</td>\n",
       "      <td>120.3</td>\n",
       "      <td>3</td>\n",
       "    </tr>\n",
       "    <tr>\n",
       "      <th>128</th>\n",
       "      <td>Chicago</td>\n",
       "      <td>4.37</td>\n",
       "      <td>3.8</td>\n",
       "      <td>100.1</td>\n",
       "      <td>2</td>\n",
       "    </tr>\n",
       "  </tbody>\n",
       "</table>\n",
       "</div>"
      ],
      "text/plain": [
       "              City  quatity score  business score  Cost of Living Index  \\\n",
       "194  San Francisco          29.14             3.8                 178.6   \n",
       "193     Santa Cruz           0.23             3.8                 163.9   \n",
       "189    Los Angeles          11.23             3.8                 140.6   \n",
       "183       New York          11.43             3.8                 128.0   \n",
       "184         Boston           5.50             3.8                 132.6   \n",
       "181        Seattle           3.49             3.8                 124.6   \n",
       "179     Washington           3.47             3.8                 120.1   \n",
       "187      San Diego           2.64             3.8                 136.2   \n",
       "180     Sacramento           0.50             3.8                 120.3   \n",
       "128        Chicago           4.37             3.8                 100.1   \n",
       "\n",
       "     Bucket  \n",
       "194       5  \n",
       "193       5  \n",
       "189       4  \n",
       "183       3  \n",
       "184       3  \n",
       "181       3  \n",
       "179       3  \n",
       "187       3  \n",
       "180       3  \n",
       "128       2  "
      ]
     },
     "execution_count": 22,
     "metadata": {},
     "output_type": "execute_result"
    }
   ],
   "source": [
    "top_ten_df = k_df2.sort_values(by=['business score','Bucket'], ascending = False).head(10)\n",
    "top_ten_df"
   ]
  },
  {
   "cell_type": "code",
   "execution_count": 11,
   "id": "8a18dccb",
   "metadata": {},
   "outputs": [
    {
     "data": {
      "application/vnd.plotly.v1+json": {
       "config": {
        "plotlyServerURL": "https://plot.ly"
       },
       "data": [
        {
         "name": "Quality Score",
         "type": "bar",
         "x": [
          "San Francisco",
          "New York",
          "Los Angeles",
          "Boston",
          "Chicago",
          "Seattle",
          "Washington",
          "Miami",
          "Austin",
          "Dallas",
          "San Diego",
          "Atlanta",
          "Denver",
          "Philadelphia",
          "Phoenix",
          "Portland",
          "Houston",
          "Boulder",
          "Detroit",
          "Minneapolis",
          "Raleigh",
          "Las Vegas",
          "Baltimore",
          "Pittsburgh",
          "Orlando",
          "Tampa",
          "Charlotte",
          "Salt Lake City",
          "Nashville",
          "Columbus",
          "Madison",
          "Kansas City",
          "Indianapolis",
          "Cleveland",
          "Sacramento",
          "Cincinnati",
          "San Antonio",
          "St. Louis",
          "Provo",
          "Milwaukee",
          "New Orleans",
          "Richmond",
          "Wilmington",
          "Jacksonville",
          "Charleston",
          "Louisville",
          "Burlington",
          "Chattanooga",
          "Santa Cruz",
          "Columbia",
          "Oklahoma City",
          "Omaha",
          "Honolulu",
          "Hartford",
          "Grand Rapids",
          "Colorado Springs",
          "Providence",
          "Albuquerque",
          "Virginia Beach",
          "Buffalo",
          "Sarasota",
          "Tucson",
          "Lexington",
          "Reno",
          "Lafayette",
          "Fort Myers",
          "Little Rock",
          "Des Moines",
          "Fort Collins",
          "Memphis",
          "New Haven",
          "Rochester",
          "Syracuse",
          "Greenville",
          "Albany",
          "Asheville",
          "Knoxville",
          "Lincoln",
          "Dayton",
          "Wichita",
          "Spokane",
          "Bend",
          "Savannah",
          "Fayetteville",
          "Tulsa",
          "Morristown",
          "Corvallis",
          "Springfield",
          "Ithaca",
          "Anchorage",
          "Winston-Salem",
          "Dover",
          "Santa Rosa",
          "Huntington",
          "Gainesville",
          "Bloomington",
          "Jackson",
          "Santa Fe",
          "Fresno",
          "Harrisburg",
          "Worcester",
          "San Luis Obispo",
          "Traverse City",
          "South Bend",
          "Missoula",
          "Akron",
          "Lansing",
          "Cedar Rapids",
          "Roswell",
          "Portsmouth",
          "Michigan City",
          "Iowa City",
          "Manchester",
          "Baton Rouge",
          "Eugene",
          "State College",
          "Bozeman",
          "Champaign",
          "Sioux Falls",
          "Greensboro",
          "Cheyenne",
          "College Station",
          "Concord",
          "Charlottesville",
          "Pensacola",
          "Duluth",
          "Chico",
          "Midland",
          "Napa",
          "Mobile",
          "El Paso",
          "Erie",
          "Blacksburg",
          "Tallahassee",
          "Reading",
          "Whitewater",
          "Tyler",
          "Ames",
          "Green Bay",
          "Lancaster",
          "Harrisonburg",
          "Brunswick",
          "Appleton",
          "Danville",
          "Myrtle Beach",
          "Ocala",
          "Fargo",
          "Toledo",
          "Bellingham",
          "Modesto",
          "Grand Forks",
          "Stockton",
          "Idaho Falls",
          "Shreveport",
          "Flint",
          "Topeka",
          "Truckee",
          "Lubbock",
          "Billings",
          "Redding",
          "Medford",
          "Huntsville",
          "Scranton",
          "Panama City",
          "Bakersfield",
          "Carson City",
          "Grand Junction",
          "Athens",
          "Augusta",
          "Allentown",
          "Lakeland",
          "Canton",
          "Fort Wayne",
          "Bangor",
          "Salinas",
          "Lynchburg",
          "Corpus Christi",
          "Binghamton",
          "Janesville",
          "Joplin",
          "Las Cruces",
          "Auburn",
          "Atlantic City",
          "Monroe",
          "Montgomery",
          "Roanoke",
          "Peoria",
          "Lawrence",
          "Great Falls",
          "Winchester",
          "Bowling Green",
          "Shelton",
          "Lebanon",
          "Gulfport",
          "Kalamazoo"
         ],
         "y": [
          29.14,
          11.43,
          11.23,
          5.5,
          4.37,
          3.49,
          3.47,
          3.21,
          3.2,
          2.9,
          2.64,
          2.59,
          2.36,
          1.7,
          1.58,
          1.38,
          1.34,
          1.32,
          1.19,
          1.12,
          1.09,
          1.01,
          0.92,
          0.88,
          0.84,
          0.83,
          0.82,
          0.77,
          0.76,
          0.76,
          0.69,
          0.59,
          0.52,
          0.51,
          0.5,
          0.5,
          0.48,
          0.46,
          0.42,
          0.4,
          0.35,
          0.33,
          0.31,
          0.3,
          0.28,
          0.27,
          0.26,
          0.23,
          0.23,
          0.23,
          0.23,
          0.22,
          0.22,
          0.22,
          0.21,
          0.21,
          0.21,
          0.2,
          0.2,
          0.2,
          0.19,
          0.19,
          0.18,
          0.18,
          0.18,
          0.17,
          0.17,
          0.17,
          0.17,
          0.16,
          0.16,
          0.16,
          0.14,
          0.12,
          0.12,
          0.12,
          0.11,
          0.11,
          0.11,
          0.11,
          0.1,
          0.1,
          0.1,
          0.1,
          0.1,
          0.1,
          0.09,
          0.09,
          0.08,
          0.08,
          0.08,
          0.08,
          0.08,
          0.07,
          0.07,
          0.07,
          0.07,
          0.06,
          0.06,
          0.06,
          0.06,
          0.06,
          0.06,
          0.06,
          0.05,
          0.05,
          0.05,
          0.05,
          0.05,
          0.05,
          0.05,
          0.05,
          0.05,
          0.04,
          0.04,
          0.04,
          0.04,
          0.04,
          0.04,
          0.04,
          0.04,
          0.04,
          0.04,
          0.04,
          0.04,
          0.04,
          0.03,
          0.03,
          0.03,
          0.03,
          0.03,
          0.03,
          0.03,
          0.03,
          0.03,
          0.03,
          0.03,
          0.03,
          0.03,
          0.03,
          0.02,
          0.02,
          0.02,
          0.02,
          0.02,
          0.02,
          0.02,
          0.02,
          0.02,
          0.02,
          0.02,
          0.02,
          0.02,
          0.02,
          0.02,
          0.02,
          0.02,
          0.02,
          0.02,
          0.02,
          0.02,
          0.02,
          0.02,
          0.02,
          0.02,
          0.02,
          0.02,
          0.02,
          0.02,
          0.02,
          0.02,
          0.02,
          0.02,
          0.02,
          0.01,
          0.01,
          0.01,
          0.01,
          0.01,
          0.01,
          0.01,
          0.01,
          0.01,
          0.01,
          0.01,
          0.01,
          0.01,
          0.01,
          0.01,
          0.01,
          0.01,
          0.01,
          0.01,
          0.01,
          0.01
         ]
        },
        {
         "name": "Business Score",
         "type": "bar",
         "x": [
          "San Francisco",
          "New York",
          "Los Angeles",
          "Boston",
          "Chicago",
          "Seattle",
          "Washington",
          "Miami",
          "Austin",
          "Dallas",
          "San Diego",
          "Atlanta",
          "Denver",
          "Philadelphia",
          "Phoenix",
          "Portland",
          "Houston",
          "Boulder",
          "Detroit",
          "Minneapolis",
          "Raleigh",
          "Las Vegas",
          "Baltimore",
          "Pittsburgh",
          "Orlando",
          "Tampa",
          "Charlotte",
          "Salt Lake City",
          "Nashville",
          "Columbus",
          "Madison",
          "Kansas City",
          "Indianapolis",
          "Cleveland",
          "Sacramento",
          "Cincinnati",
          "San Antonio",
          "St. Louis",
          "Provo",
          "Milwaukee",
          "New Orleans",
          "Richmond",
          "Wilmington",
          "Jacksonville",
          "Charleston",
          "Louisville",
          "Burlington",
          "Chattanooga",
          "Santa Cruz",
          "Columbia",
          "Oklahoma City",
          "Omaha",
          "Honolulu",
          "Hartford",
          "Grand Rapids",
          "Colorado Springs",
          "Providence",
          "Albuquerque",
          "Virginia Beach",
          "Buffalo",
          "Sarasota",
          "Tucson",
          "Lexington",
          "Reno",
          "Lafayette",
          "Fort Myers",
          "Little Rock",
          "Des Moines",
          "Fort Collins",
          "Memphis",
          "New Haven",
          "Rochester",
          "Syracuse",
          "Greenville",
          "Albany",
          "Asheville",
          "Knoxville",
          "Lincoln",
          "Dayton",
          "Wichita",
          "Spokane",
          "Bend",
          "Savannah",
          "Fayetteville",
          "Tulsa",
          "Morristown",
          "Corvallis",
          "Springfield",
          "Ithaca",
          "Anchorage",
          "Winston-Salem",
          "Dover",
          "Santa Rosa",
          "Huntington",
          "Gainesville",
          "Bloomington",
          "Jackson",
          "Santa Fe",
          "Fresno",
          "Harrisburg",
          "Worcester",
          "San Luis Obispo",
          "Traverse City",
          "South Bend",
          "Missoula",
          "Akron",
          "Lansing",
          "Cedar Rapids",
          "Roswell",
          "Portsmouth",
          "Michigan City",
          "Iowa City",
          "Manchester",
          "Baton Rouge",
          "Eugene",
          "State College",
          "Bozeman",
          "Champaign",
          "Sioux Falls",
          "Greensboro",
          "Cheyenne",
          "College Station",
          "Concord",
          "Charlottesville",
          "Pensacola",
          "Duluth",
          "Chico",
          "Midland",
          "Napa",
          "Mobile",
          "El Paso",
          "Erie",
          "Blacksburg",
          "Tallahassee",
          "Reading",
          "Whitewater",
          "Tyler",
          "Ames",
          "Green Bay",
          "Lancaster",
          "Harrisonburg",
          "Brunswick",
          "Appleton",
          "Danville",
          "Myrtle Beach",
          "Ocala",
          "Fargo",
          "Toledo",
          "Bellingham",
          "Modesto",
          "Grand Forks",
          "Stockton",
          "Idaho Falls",
          "Shreveport",
          "Flint",
          "Topeka",
          "Truckee",
          "Lubbock",
          "Billings",
          "Redding",
          "Medford",
          "Huntsville",
          "Scranton",
          "Panama City",
          "Bakersfield",
          "Carson City",
          "Grand Junction",
          "Athens",
          "Augusta",
          "Allentown",
          "Lakeland",
          "Canton",
          "Fort Wayne",
          "Bangor",
          "Salinas",
          "Lynchburg",
          "Corpus Christi",
          "Binghamton",
          "Janesville",
          "Joplin",
          "Las Cruces",
          "Auburn",
          "Atlantic City",
          "Monroe",
          "Montgomery",
          "Roanoke",
          "Peoria",
          "Lawrence",
          "Great Falls",
          "Winchester",
          "Bowling Green",
          "Shelton",
          "Lebanon",
          "Gulfport",
          "Kalamazoo"
         ],
         "y": [
          3.8,
          3.8,
          3.8,
          3.8,
          3.8,
          3.8,
          3.8,
          3.8,
          3.8,
          3.8,
          3.8,
          3.8,
          3.8,
          3.8,
          3.8,
          3.8,
          3.8,
          3.8,
          3.8,
          3.8,
          3.58,
          3.8,
          3.8,
          3.8,
          3.8,
          3.8,
          3.8,
          3.19,
          3.8,
          3.8,
          3.8,
          3.8,
          3.8,
          3.18,
          3.8,
          3.8,
          3.8,
          3.36,
          3.8,
          2.37,
          3.8,
          1.95,
          3.8,
          2.3,
          1.62,
          2.7,
          3.8,
          1.34,
          3.8,
          3.8,
          1.31,
          2.04,
          0.99,
          1.55,
          1.15,
          1.39,
          1.34,
          3.58,
          0.98,
          3.28,
          1.06,
          1.17,
          2.52,
          0.95,
          1.46,
          0.98,
          1.08,
          0.9,
          1.43,
          0.9,
          2.1,
          1.31,
          0.67,
          0.68,
          1.09,
          0.64,
          0.76,
          0.81,
          0.57,
          0.58,
          0.64,
          3.21,
          0.5,
          0.68,
          0.53,
          0.61,
          0.65,
          0.67,
          0.5,
          0.63,
          0.5,
          0.76,
          0.46,
          0.44,
          0.5,
          0.77,
          0.46,
          0.46,
          1.28,
          0.36,
          0.72,
          0.43,
          0.35,
          0.32,
          0.43,
          0.35,
          0.33,
          0.29,
          0.3,
          0.39,
          0.3,
          0.4,
          0.44,
          0.29,
          0.37,
          0.28,
          0.28,
          0.27,
          0.33,
          0.35,
          0.38,
          0.26,
          0.35,
          0.54,
          0.28,
          0.27,
          0.19,
          0.42,
          0.23,
          0.19,
          0.16,
          0.21,
          0.25,
          0.22,
          0.16,
          0.18,
          0.22,
          0.25,
          0.21,
          0.33,
          0.41,
          0.19,
          0.17,
          0.26,
          0.21,
          0.17,
          0.23,
          0.17,
          0.14,
          0.16,
          0.15,
          0.17,
          0.17,
          0.15,
          0.14,
          0.17,
          0.22,
          0.16,
          0.15,
          0.18,
          0.47,
          0.15,
          0.19,
          0.19,
          0.61,
          0.31,
          0.23,
          0.17,
          0.14,
          0.19,
          0.24,
          0.18,
          0.16,
          0.13,
          0.1,
          0.1,
          0.19,
          0.14,
          0.14,
          0.17,
          0.15,
          0.13,
          0.14,
          0.13,
          0.13,
          0.14,
          0.15,
          0.16,
          0.12,
          0.12,
          0.12,
          0.12,
          0.26,
          0.1,
          0.17
         ]
        },
        {
         "name": "Cost of Living",
         "type": "bar",
         "x": [
          "San Francisco",
          "New York",
          "Los Angeles",
          "Boston",
          "Chicago",
          "Seattle",
          "Washington",
          "Miami",
          "Austin",
          "Dallas",
          "San Diego",
          "Atlanta",
          "Denver",
          "Philadelphia",
          "Phoenix",
          "Portland",
          "Houston",
          "Boulder",
          "Detroit",
          "Minneapolis",
          "Raleigh",
          "Las Vegas",
          "Baltimore",
          "Pittsburgh",
          "Orlando",
          "Tampa",
          "Charlotte",
          "Salt Lake City",
          "Nashville",
          "Columbus",
          "Madison",
          "Kansas City",
          "Indianapolis",
          "Cleveland",
          "Sacramento",
          "Cincinnati",
          "San Antonio",
          "St. Louis",
          "Provo",
          "Milwaukee",
          "New Orleans",
          "Richmond",
          "Wilmington",
          "Jacksonville",
          "Charleston",
          "Louisville",
          "Burlington",
          "Chattanooga",
          "Santa Cruz",
          "Columbia",
          "Oklahoma City",
          "Omaha",
          "Honolulu",
          "Hartford",
          "Grand Rapids",
          "Colorado Springs",
          "Providence",
          "Albuquerque",
          "Virginia Beach",
          "Buffalo",
          "Sarasota",
          "Tucson",
          "Lexington",
          "Reno",
          "Lafayette",
          "Fort Myers",
          "Little Rock",
          "Des Moines",
          "Fort Collins",
          "Memphis",
          "New Haven",
          "Rochester",
          "Syracuse",
          "Greenville",
          "Albany",
          "Asheville",
          "Knoxville",
          "Lincoln",
          "Dayton",
          "Wichita",
          "Spokane",
          "Bend",
          "Savannah",
          "Fayetteville",
          "Tulsa",
          "Morristown",
          "Corvallis",
          "Springfield",
          "Ithaca",
          "Anchorage",
          "Winston-Salem",
          "Dover",
          "Santa Rosa",
          "Huntington",
          "Gainesville",
          "Bloomington",
          "Jackson",
          "Santa Fe",
          "Fresno",
          "Harrisburg",
          "Worcester",
          "San Luis Obispo",
          "Traverse City",
          "South Bend",
          "Missoula",
          "Akron",
          "Lansing",
          "Cedar Rapids",
          "Roswell",
          "Portsmouth",
          "Michigan City",
          "Iowa City",
          "Manchester",
          "Baton Rouge",
          "Eugene",
          "State College",
          "Bozeman",
          "Champaign",
          "Sioux Falls",
          "Greensboro",
          "Cheyenne",
          "College Station",
          "Concord",
          "Charlottesville",
          "Pensacola",
          "Duluth",
          "Chico",
          "Midland",
          "Napa",
          "Mobile",
          "El Paso",
          "Erie",
          "Blacksburg",
          "Tallahassee",
          "Reading",
          "Whitewater",
          "Tyler",
          "Ames",
          "Green Bay",
          "Lancaster",
          "Harrisonburg",
          "Brunswick",
          "Appleton",
          "Danville",
          "Myrtle Beach",
          "Ocala",
          "Fargo",
          "Toledo",
          "Bellingham",
          "Modesto",
          "Grand Forks",
          "Stockton",
          "Idaho Falls",
          "Shreveport",
          "Flint",
          "Topeka",
          "Truckee",
          "Lubbock",
          "Billings",
          "Redding",
          "Medford",
          "Huntsville",
          "Scranton",
          "Panama City",
          "Bakersfield",
          "Carson City",
          "Grand Junction",
          "Athens",
          "Augusta",
          "Allentown",
          "Lakeland",
          "Canton",
          "Fort Wayne",
          "Bangor",
          "Salinas",
          "Lynchburg",
          "Corpus Christi",
          "Binghamton",
          "Janesville",
          "Joplin",
          "Las Cruces",
          "Auburn",
          "Atlantic City",
          "Monroe",
          "Montgomery",
          "Roanoke",
          "Peoria",
          "Lawrence",
          "Great Falls",
          "Winchester",
          "Bowling Green",
          "Shelton",
          "Lebanon",
          "Gulfport",
          "Kalamazoo"
         ],
         "y": [
          5,
          3,
          4,
          3,
          2,
          3,
          3,
          2,
          2,
          1,
          3,
          2,
          2,
          2,
          2,
          2,
          1,
          2,
          1,
          2,
          1,
          2,
          2,
          1,
          2,
          2,
          1,
          2,
          2,
          1,
          1,
          1,
          1,
          1,
          3,
          1,
          1,
          1,
          2,
          1,
          1,
          1,
          1,
          1,
          1,
          1,
          1,
          1,
          5,
          1,
          1,
          1,
          4,
          2,
          1,
          2,
          2,
          1,
          1,
          1,
          2,
          1,
          1,
          2,
          1,
          2,
          1,
          1,
          2,
          1,
          2,
          1,
          1,
          1,
          1,
          2,
          1,
          1,
          1,
          1,
          2,
          2,
          1,
          1,
          1,
          1,
          2,
          1,
          2,
          2,
          1,
          2,
          4,
          1,
          1,
          1,
          1,
          2,
          2,
          1,
          2,
          3,
          1,
          1,
          2,
          1,
          1,
          1,
          1,
          1,
          1,
          1,
          2,
          1,
          2,
          1,
          3,
          1,
          1,
          1,
          1,
          1,
          2,
          2,
          1,
          1,
          2,
          1,
          4,
          1,
          1,
          1,
          1,
          1,
          1,
          1,
          1,
          1,
          1,
          1,
          1,
          1,
          1,
          1,
          1,
          1,
          1,
          1,
          2,
          2,
          1,
          2,
          1,
          1,
          1,
          1,
          3,
          1,
          1,
          2,
          2,
          1,
          1,
          2,
          2,
          2,
          1,
          1,
          1,
          1,
          1,
          1,
          1,
          1,
          3,
          1,
          1,
          1,
          1,
          1,
          1,
          1,
          2,
          1,
          1,
          1,
          1,
          1,
          1,
          1,
          1,
          2,
          1,
          1,
          1
         ]
        }
       ],
       "layout": {
        "barmode": "stack",
        "template": {
         "data": {
          "bar": [
           {
            "error_x": {
             "color": "#2a3f5f"
            },
            "error_y": {
             "color": "#2a3f5f"
            },
            "marker": {
             "line": {
              "color": "#E5ECF6",
              "width": 0.5
             },
             "pattern": {
              "fillmode": "overlay",
              "size": 10,
              "solidity": 0.2
             }
            },
            "type": "bar"
           }
          ],
          "barpolar": [
           {
            "marker": {
             "line": {
              "color": "#E5ECF6",
              "width": 0.5
             },
             "pattern": {
              "fillmode": "overlay",
              "size": 10,
              "solidity": 0.2
             }
            },
            "type": "barpolar"
           }
          ],
          "carpet": [
           {
            "aaxis": {
             "endlinecolor": "#2a3f5f",
             "gridcolor": "white",
             "linecolor": "white",
             "minorgridcolor": "white",
             "startlinecolor": "#2a3f5f"
            },
            "baxis": {
             "endlinecolor": "#2a3f5f",
             "gridcolor": "white",
             "linecolor": "white",
             "minorgridcolor": "white",
             "startlinecolor": "#2a3f5f"
            },
            "type": "carpet"
           }
          ],
          "choropleth": [
           {
            "colorbar": {
             "outlinewidth": 0,
             "ticks": ""
            },
            "type": "choropleth"
           }
          ],
          "contour": [
           {
            "colorbar": {
             "outlinewidth": 0,
             "ticks": ""
            },
            "colorscale": [
             [
              0,
              "#0d0887"
             ],
             [
              0.1111111111111111,
              "#46039f"
             ],
             [
              0.2222222222222222,
              "#7201a8"
             ],
             [
              0.3333333333333333,
              "#9c179e"
             ],
             [
              0.4444444444444444,
              "#bd3786"
             ],
             [
              0.5555555555555556,
              "#d8576b"
             ],
             [
              0.6666666666666666,
              "#ed7953"
             ],
             [
              0.7777777777777778,
              "#fb9f3a"
             ],
             [
              0.8888888888888888,
              "#fdca26"
             ],
             [
              1,
              "#f0f921"
             ]
            ],
            "type": "contour"
           }
          ],
          "contourcarpet": [
           {
            "colorbar": {
             "outlinewidth": 0,
             "ticks": ""
            },
            "type": "contourcarpet"
           }
          ],
          "heatmap": [
           {
            "colorbar": {
             "outlinewidth": 0,
             "ticks": ""
            },
            "colorscale": [
             [
              0,
              "#0d0887"
             ],
             [
              0.1111111111111111,
              "#46039f"
             ],
             [
              0.2222222222222222,
              "#7201a8"
             ],
             [
              0.3333333333333333,
              "#9c179e"
             ],
             [
              0.4444444444444444,
              "#bd3786"
             ],
             [
              0.5555555555555556,
              "#d8576b"
             ],
             [
              0.6666666666666666,
              "#ed7953"
             ],
             [
              0.7777777777777778,
              "#fb9f3a"
             ],
             [
              0.8888888888888888,
              "#fdca26"
             ],
             [
              1,
              "#f0f921"
             ]
            ],
            "type": "heatmap"
           }
          ],
          "heatmapgl": [
           {
            "colorbar": {
             "outlinewidth": 0,
             "ticks": ""
            },
            "colorscale": [
             [
              0,
              "#0d0887"
             ],
             [
              0.1111111111111111,
              "#46039f"
             ],
             [
              0.2222222222222222,
              "#7201a8"
             ],
             [
              0.3333333333333333,
              "#9c179e"
             ],
             [
              0.4444444444444444,
              "#bd3786"
             ],
             [
              0.5555555555555556,
              "#d8576b"
             ],
             [
              0.6666666666666666,
              "#ed7953"
             ],
             [
              0.7777777777777778,
              "#fb9f3a"
             ],
             [
              0.8888888888888888,
              "#fdca26"
             ],
             [
              1,
              "#f0f921"
             ]
            ],
            "type": "heatmapgl"
           }
          ],
          "histogram": [
           {
            "marker": {
             "pattern": {
              "fillmode": "overlay",
              "size": 10,
              "solidity": 0.2
             }
            },
            "type": "histogram"
           }
          ],
          "histogram2d": [
           {
            "colorbar": {
             "outlinewidth": 0,
             "ticks": ""
            },
            "colorscale": [
             [
              0,
              "#0d0887"
             ],
             [
              0.1111111111111111,
              "#46039f"
             ],
             [
              0.2222222222222222,
              "#7201a8"
             ],
             [
              0.3333333333333333,
              "#9c179e"
             ],
             [
              0.4444444444444444,
              "#bd3786"
             ],
             [
              0.5555555555555556,
              "#d8576b"
             ],
             [
              0.6666666666666666,
              "#ed7953"
             ],
             [
              0.7777777777777778,
              "#fb9f3a"
             ],
             [
              0.8888888888888888,
              "#fdca26"
             ],
             [
              1,
              "#f0f921"
             ]
            ],
            "type": "histogram2d"
           }
          ],
          "histogram2dcontour": [
           {
            "colorbar": {
             "outlinewidth": 0,
             "ticks": ""
            },
            "colorscale": [
             [
              0,
              "#0d0887"
             ],
             [
              0.1111111111111111,
              "#46039f"
             ],
             [
              0.2222222222222222,
              "#7201a8"
             ],
             [
              0.3333333333333333,
              "#9c179e"
             ],
             [
              0.4444444444444444,
              "#bd3786"
             ],
             [
              0.5555555555555556,
              "#d8576b"
             ],
             [
              0.6666666666666666,
              "#ed7953"
             ],
             [
              0.7777777777777778,
              "#fb9f3a"
             ],
             [
              0.8888888888888888,
              "#fdca26"
             ],
             [
              1,
              "#f0f921"
             ]
            ],
            "type": "histogram2dcontour"
           }
          ],
          "mesh3d": [
           {
            "colorbar": {
             "outlinewidth": 0,
             "ticks": ""
            },
            "type": "mesh3d"
           }
          ],
          "parcoords": [
           {
            "line": {
             "colorbar": {
              "outlinewidth": 0,
              "ticks": ""
             }
            },
            "type": "parcoords"
           }
          ],
          "pie": [
           {
            "automargin": true,
            "type": "pie"
           }
          ],
          "scatter": [
           {
            "marker": {
             "colorbar": {
              "outlinewidth": 0,
              "ticks": ""
             }
            },
            "type": "scatter"
           }
          ],
          "scatter3d": [
           {
            "line": {
             "colorbar": {
              "outlinewidth": 0,
              "ticks": ""
             }
            },
            "marker": {
             "colorbar": {
              "outlinewidth": 0,
              "ticks": ""
             }
            },
            "type": "scatter3d"
           }
          ],
          "scattercarpet": [
           {
            "marker": {
             "colorbar": {
              "outlinewidth": 0,
              "ticks": ""
             }
            },
            "type": "scattercarpet"
           }
          ],
          "scattergeo": [
           {
            "marker": {
             "colorbar": {
              "outlinewidth": 0,
              "ticks": ""
             }
            },
            "type": "scattergeo"
           }
          ],
          "scattergl": [
           {
            "marker": {
             "colorbar": {
              "outlinewidth": 0,
              "ticks": ""
             }
            },
            "type": "scattergl"
           }
          ],
          "scattermapbox": [
           {
            "marker": {
             "colorbar": {
              "outlinewidth": 0,
              "ticks": ""
             }
            },
            "type": "scattermapbox"
           }
          ],
          "scatterpolar": [
           {
            "marker": {
             "colorbar": {
              "outlinewidth": 0,
              "ticks": ""
             }
            },
            "type": "scatterpolar"
           }
          ],
          "scatterpolargl": [
           {
            "marker": {
             "colorbar": {
              "outlinewidth": 0,
              "ticks": ""
             }
            },
            "type": "scatterpolargl"
           }
          ],
          "scatterternary": [
           {
            "marker": {
             "colorbar": {
              "outlinewidth": 0,
              "ticks": ""
             }
            },
            "type": "scatterternary"
           }
          ],
          "surface": [
           {
            "colorbar": {
             "outlinewidth": 0,
             "ticks": ""
            },
            "colorscale": [
             [
              0,
              "#0d0887"
             ],
             [
              0.1111111111111111,
              "#46039f"
             ],
             [
              0.2222222222222222,
              "#7201a8"
             ],
             [
              0.3333333333333333,
              "#9c179e"
             ],
             [
              0.4444444444444444,
              "#bd3786"
             ],
             [
              0.5555555555555556,
              "#d8576b"
             ],
             [
              0.6666666666666666,
              "#ed7953"
             ],
             [
              0.7777777777777778,
              "#fb9f3a"
             ],
             [
              0.8888888888888888,
              "#fdca26"
             ],
             [
              1,
              "#f0f921"
             ]
            ],
            "type": "surface"
           }
          ],
          "table": [
           {
            "cells": {
             "fill": {
              "color": "#EBF0F8"
             },
             "line": {
              "color": "white"
             }
            },
            "header": {
             "fill": {
              "color": "#C8D4E3"
             },
             "line": {
              "color": "white"
             }
            },
            "type": "table"
           }
          ]
         },
         "layout": {
          "annotationdefaults": {
           "arrowcolor": "#2a3f5f",
           "arrowhead": 0,
           "arrowwidth": 1
          },
          "autotypenumbers": "strict",
          "coloraxis": {
           "colorbar": {
            "outlinewidth": 0,
            "ticks": ""
           }
          },
          "colorscale": {
           "diverging": [
            [
             0,
             "#8e0152"
            ],
            [
             0.1,
             "#c51b7d"
            ],
            [
             0.2,
             "#de77ae"
            ],
            [
             0.3,
             "#f1b6da"
            ],
            [
             0.4,
             "#fde0ef"
            ],
            [
             0.5,
             "#f7f7f7"
            ],
            [
             0.6,
             "#e6f5d0"
            ],
            [
             0.7,
             "#b8e186"
            ],
            [
             0.8,
             "#7fbc41"
            ],
            [
             0.9,
             "#4d9221"
            ],
            [
             1,
             "#276419"
            ]
           ],
           "sequential": [
            [
             0,
             "#0d0887"
            ],
            [
             0.1111111111111111,
             "#46039f"
            ],
            [
             0.2222222222222222,
             "#7201a8"
            ],
            [
             0.3333333333333333,
             "#9c179e"
            ],
            [
             0.4444444444444444,
             "#bd3786"
            ],
            [
             0.5555555555555556,
             "#d8576b"
            ],
            [
             0.6666666666666666,
             "#ed7953"
            ],
            [
             0.7777777777777778,
             "#fb9f3a"
            ],
            [
             0.8888888888888888,
             "#fdca26"
            ],
            [
             1,
             "#f0f921"
            ]
           ],
           "sequentialminus": [
            [
             0,
             "#0d0887"
            ],
            [
             0.1111111111111111,
             "#46039f"
            ],
            [
             0.2222222222222222,
             "#7201a8"
            ],
            [
             0.3333333333333333,
             "#9c179e"
            ],
            [
             0.4444444444444444,
             "#bd3786"
            ],
            [
             0.5555555555555556,
             "#d8576b"
            ],
            [
             0.6666666666666666,
             "#ed7953"
            ],
            [
             0.7777777777777778,
             "#fb9f3a"
            ],
            [
             0.8888888888888888,
             "#fdca26"
            ],
            [
             1,
             "#f0f921"
            ]
           ]
          },
          "colorway": [
           "#636efa",
           "#EF553B",
           "#00cc96",
           "#ab63fa",
           "#FFA15A",
           "#19d3f3",
           "#FF6692",
           "#B6E880",
           "#FF97FF",
           "#FECB52"
          ],
          "font": {
           "color": "#2a3f5f"
          },
          "geo": {
           "bgcolor": "white",
           "lakecolor": "white",
           "landcolor": "#E5ECF6",
           "showlakes": true,
           "showland": true,
           "subunitcolor": "white"
          },
          "hoverlabel": {
           "align": "left"
          },
          "hovermode": "closest",
          "mapbox": {
           "style": "light"
          },
          "paper_bgcolor": "white",
          "plot_bgcolor": "#E5ECF6",
          "polar": {
           "angularaxis": {
            "gridcolor": "white",
            "linecolor": "white",
            "ticks": ""
           },
           "bgcolor": "#E5ECF6",
           "radialaxis": {
            "gridcolor": "white",
            "linecolor": "white",
            "ticks": ""
           }
          },
          "scene": {
           "xaxis": {
            "backgroundcolor": "#E5ECF6",
            "gridcolor": "white",
            "gridwidth": 2,
            "linecolor": "white",
            "showbackground": true,
            "ticks": "",
            "zerolinecolor": "white"
           },
           "yaxis": {
            "backgroundcolor": "#E5ECF6",
            "gridcolor": "white",
            "gridwidth": 2,
            "linecolor": "white",
            "showbackground": true,
            "ticks": "",
            "zerolinecolor": "white"
           },
           "zaxis": {
            "backgroundcolor": "#E5ECF6",
            "gridcolor": "white",
            "gridwidth": 2,
            "linecolor": "white",
            "showbackground": true,
            "ticks": "",
            "zerolinecolor": "white"
           }
          },
          "shapedefaults": {
           "line": {
            "color": "#2a3f5f"
           }
          },
          "ternary": {
           "aaxis": {
            "gridcolor": "white",
            "linecolor": "white",
            "ticks": ""
           },
           "baxis": {
            "gridcolor": "white",
            "linecolor": "white",
            "ticks": ""
           },
           "bgcolor": "#E5ECF6",
           "caxis": {
            "gridcolor": "white",
            "linecolor": "white",
            "ticks": ""
           }
          },
          "title": {
           "x": 0.05
          },
          "xaxis": {
           "automargin": true,
           "gridcolor": "white",
           "linecolor": "white",
           "ticks": "",
           "title": {
            "standoff": 15
           },
           "zerolinecolor": "white",
           "zerolinewidth": 2
          },
          "yaxis": {
           "automargin": true,
           "gridcolor": "white",
           "linecolor": "white",
           "ticks": "",
           "title": {
            "standoff": 15
           },
           "zerolinecolor": "white",
           "zerolinewidth": 2
          }
         }
        }
       }
      }
     },
     "metadata": {},
     "output_type": "display_data"
    }
   ],
   "source": [
    "k_df_bsb = k_df2.sort_values(by=['Cost of Living Index'], ascending = False)\n",
    "fig = go.Figure(data=[\n",
    "    go.Bar(name='Quality Score',x=k_df2['City'],y=k_df2['quatity score']),\n",
    "    go.Bar(name='Business Score',x=k_df2['City'],y=k_df2['business score']),\n",
    "    go.Bar(name='Cost of Living',x=k_df2['City'],y=k_df2['Bucket'])\n",
    "])\n",
    "# Change the bar mode\n",
    "fig.update_layout(barmode='stack')\n",
    "fig.show()"
   ]
  },
  {
   "cell_type": "code",
   "execution_count": 12,
   "id": "5351bc0e",
   "metadata": {},
   "outputs": [
    {
     "data": {
      "image/png": "[encoded data removed]",
      "text/plain": [
       "<Figure size 432x288 with 2 Axes>"
      ]
     },
     "metadata": {
      "needs_background": "light"
     },
     "output_type": "display_data"
    }
   ],
   "source": [
    "ax1 = k_df2.plot.scatter(\n",
    "    x = 'City',\n",
    "    y = 'business score',\n",
    "    c = 'Bucket',\n",
    "    colormap = 'viridis'\n",
    ")"
   ]
  }
 ],
 "metadata": {
  "kernelspec": {
   "display_name": "Python 3 (ipykernel)",
   "language": "python",
   "name": "python3"
  },
  "language_info": {
   "codemirror_mode": {
    "name": "ipython",
    "version": 3
   },
   "file_extension": ".py",
   "mimetype": "text/x-python",
   "name": "python",
   "nbconvert_exporter": "python",
   "pygments_lexer": "ipython3",
   "version": "3.8.8"
  }
 },
 "nbformat": 4,
 "nbformat_minor": 5
}
